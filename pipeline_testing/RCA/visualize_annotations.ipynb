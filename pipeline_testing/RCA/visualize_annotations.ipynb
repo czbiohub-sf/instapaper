{
 "cells": [
  {
   "cell_type": "code",
   "execution_count": 13,
   "metadata": {},
   "outputs": [],
   "source": [
    "%gui qt5\n",
    "\n",
    "from napari import Window, Viewer\n",
    "from skimage import io\n",
    "from PyQt5.QtWidgets import QApplication\n",
    "\n",
    "import numpy as np\n",
    "import pandas as pd\n",
    "import sys, math\n",
    "\n",
    "sys.path.insert(0, '/Users/jenny.vo-phamhi/Documents/FISH-annotation/Annotation')\n",
    "from SpotAnnotationAnalysis import SpotAnnotationAnalysis\n",
    "from QuantiusAnnotation import QuantiusAnnotation\n",
    "import util"
   ]
  },
  {
   "cell_type": "code",
   "execution_count": 14,
   "metadata": {},
   "outputs": [],
   "source": [
    "def get_coords(df):\n",
    "    coords = []\n",
    "    for row in df.iterrows():\n",
    "        coords.append([row[1].col, row[1].row])\n",
    "        \n",
    "    # Expert annotations are indexed from 1\n",
    "    coords = np.array(coords) - 1\n",
    "        \n",
    "    return coords"
   ]
  },
  {
   "cell_type": "code",
   "execution_count": 15,
   "metadata": {},
   "outputs": [],
   "source": [
    "def get_coords_worker(df):\n",
    "    coords = []\n",
    "    for row in df.iterrows():\n",
    "        coords.append([row[1].centroid_x, row[1].centroid_y])\n",
    "    return np.array(coords)"
   ]
  },
  {
   "cell_type": "code",
   "execution_count": 16,
   "metadata": {},
   "outputs": [],
   "source": [
    "def get_clicks(clicks_anno_path, img_filename):\n",
    "    qa = QuantiusAnnotation(clicks_anno_path, img_filename)\n",
    "    sa = SpotAnnotationAnalysis(qa)\n",
    "    anno_all = qa.df()\n",
    "    x_clicks = anno_all['x'].tolist()\n",
    "    y_clicks = anno_all['y'].tolist()\n",
    "    clicks_coords = np.asarray([[x, y] for x, y in zip(x_clicks, y_clicks)])\n",
    "    return clicks_coords"
   ]
  },
  {
   "cell_type": "code",
   "execution_count": 19,
   "metadata": {
    "scrolled": false
   },
   "outputs": [],
   "source": [
    "img_path = './sample_image_filtered/ISS_rnd0_ch0_z0.png'\n",
    "expert_anno_path = './sample_image_filtered/ISS_rnd0_ch0_z0.csv'\n",
    "\n",
    "# Load expert annotations\n",
    "expert_df = pd.read_csv(expert_anno_path)\n",
    "expert_coords = get_coords(expert_df)\n",
    "\n",
    "# Load the image\n",
    "dots_image = io.imread(img_path, name='dots')\n",
    "\n",
    "app = QApplication.instance() or QApplication([])\n",
    "\n",
    "# initialize the viewer\n",
    "viewer = Viewer()\n",
    "window = Window(viewer, show=False)\n",
    "viewer._window = window\n",
    "\n",
    "# Add an image to the viewer\n",
    "viewer.add_image(dots_image)\n",
    "\n",
    "# Add annotations to the viewer\n",
    "viewer.add_markers(expert_coords, symbol='ring', face_color='cyan', name=\"expert\")\n",
    "\n",
    "window.show() \n"
   ]
  },
  {
   "cell_type": "code",
   "execution_count": 18,
   "metadata": {},
   "outputs": [],
   "source": [
    "# def load_expert_consensus_click_annotations(expert_anno_path, consensus_anno_path, clicks_anno_path, img_filename):\n",
    "#     # Load expert annotations\n",
    "#     expert_df = pd.read_csv(expert_anno_path)\n",
    "#     expert_coords = get_coords(expert_df)\n",
    "\n",
    "#     # Load consensus annotations\n",
    "#     consensus_df = pd.read_csv(consensus_anno_path)\n",
    "#     consensus_coords = get_coords_worker(consensus_df)\n",
    "\n",
    "#     # Load clicks\n",
    "#     clicks_coords = get_clicks(clicks_anno_path, img_filename)\n",
    "    \n",
    "#     return (expert_coords, consensus_coords, clicks_coords)"
   ]
  },
  {
   "cell_type": "code",
   "execution_count": null,
   "metadata": {},
   "outputs": [],
   "source": [
    "# def browse_expert_consensus_click_annotations(expert_coords, consensus_coords, clicks_coords, img_path):\n",
    "        \n",
    "#     # Load the image\n",
    "#     dots_image = io.imread(img_path, name='dots')\n",
    "    \n",
    "#     app = QApplication.instance() or QApplication([])\n",
    "\n",
    "#     # initialize the viewer\n",
    "#     viewer = Viewer()\n",
    "#     window = Window(viewer, show=False)\n",
    "#     viewer._window = window\n",
    "\n",
    "#     # Add an image to the viewer\n",
    "#     viewer.add_image(dots_image)\n",
    "\n",
    "#     # Add annotations to the viewer\n",
    "#     viewer.add_markers(expert_coords, symbol='ring', face_color='cyan', name=\"expert\")\n",
    "#     viewer.add_markers(consensus_coords, symbol='ring', face_color='orange', name=\"consensus\")\n",
    "#     viewer.add_markers(clicks_coords, symbol='ring', face_color='white', name=\"clicks\")\n",
    "\n",
    "#     window.show()    "
   ]
  },
  {
   "cell_type": "code",
   "execution_count": null,
   "metadata": {
    "scrolled": false
   },
   "outputs": [],
   "source": [
    "# img_filename = 'ISS_rnd0_ch1_z0_1.png'\n",
    "# img_path = './test_images/images/ISS_rnd0_ch1_z0.png'\n",
    "# expert_anno_path = './test_images/coords_v2/ISS_rnd0_ch1_z0.csv'\n",
    "# clicks_anno_path = './test_crops/quantiusresults/ISS_rnd0_ch1_z0.json'\n",
    "# consensus_anno_path = './total_consensus_coords/ISS_rnd0_ch1_z0.csv'\n",
    "\n",
    "# expert_coords, consensus_coords, clicks_coords = load_expert_consensus_click_annotations(expert_anno_path, consensus_anno_path, clicks_anno_path, img_filename)\n",
    "# browse_expert_consensus_click_annotations(expert_coords, consensus_coords, clicks_coords, img_path)\n",
    "\n"
   ]
  },
  {
   "cell_type": "code",
   "execution_count": null,
   "metadata": {},
   "outputs": [],
   "source": []
  },
  {
   "cell_type": "code",
   "execution_count": null,
   "metadata": {},
   "outputs": [],
   "source": []
  }
 ],
 "metadata": {
  "kernelspec": {
   "display_name": "Python 3",
   "language": "python",
   "name": "python3"
  },
  "language_info": {
   "codemirror_mode": {
    "name": "ipython",
    "version": 3
   },
   "file_extension": ".py",
   "mimetype": "text/x-python",
   "name": "python",
   "nbconvert_exporter": "python",
   "pygments_lexer": "ipython3",
   "version": "3.6.5"
  }
 },
 "nbformat": 4,
 "nbformat_minor": 2
}

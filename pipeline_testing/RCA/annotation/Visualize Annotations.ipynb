{
 "cells": [
  {
   "cell_type": "code",
   "execution_count": 1,
   "metadata": {},
   "outputs": [],
   "source": [
    "%gui qt5\n",
    "\n",
    "import pandas as pd\n",
    "from PyQt5.QtWidgets import QApplication\n",
    "from skimage import io\n",
    "import numpy as np\n",
    "\n",
    "from napari import Window, Viewer"
   ]
  },
  {
   "cell_type": "code",
   "execution_count": 2,
   "metadata": {},
   "outputs": [],
   "source": [
    "def get_coords(df):\n",
    "    coords = []\n",
    "    for row in df.iterrows():\n",
    "        coords.append([row[1].col, row[1].row])\n",
    "        \n",
    "    # Expert annotations are indexed from 1\n",
    "    coords = np.array(coords) - 1\n",
    "        \n",
    "    return coords"
   ]
  },
  {
   "cell_type": "code",
   "execution_count": 3,
   "metadata": {},
   "outputs": [],
   "source": [
    "def get_coords_worker(df):\n",
    "    coords = []\n",
    "    for row in df.iterrows():\n",
    "        coords.append([row[1].centroid_x, row[1].centroid_y])\n",
    "        \n",
    "    return np.array(coords)"
   ]
  },
  {
   "cell_type": "code",
   "execution_count": 15,
   "metadata": {},
   "outputs": [],
   "source": [
    "# Load the csvs\n",
    "expert_anno_df = pd.read_csv('./expert_coords/ISS_rnd0_ch3_z0.csv')\n",
    "worker_anno_df = pd.read_csv('./total_consensus_coords/ISS_rnd0_ch3_z0.csv')\n",
    "\n",
    "# decoded_0_1_df = pd.read_csv('./starfish_coords/decoded_0_1.csv')\n",
    "decoded_0_3_df = pd.read_csv('./starfish_coords/decoded_0_3.csv')\n",
    "# decoded_1_1_df = pd.read_csv('./starfish_coords/decoded_1_1.csv')\n",
    "\n",
    "# dots_image = io.imread('./images/ISS_rnd0_ch1_z0.png', name='dots')\n",
    "dots_image = io.imread('./images/ISS_rnd0_ch3_z0.png', name='dots')\n",
    "# dots_image = io.imread('./images/ISS_rnd1_ch1_z0.png', name='dots')"
   ]
  },
  {
   "cell_type": "code",
   "execution_count": 16,
   "metadata": {},
   "outputs": [],
   "source": [
    "expert_anno_coords = get_coords(expert_anno_df)\n",
    "worker_anno_coords = get_coords_worker(worker_anno_df)\n",
    "\n",
    "# decoded_0_1_anno_coords = get_coords_worker(decoded_0_1_df)\n",
    "decoded_0_3_anno_coords = get_coords_worker(decoded_0_3_df)\n",
    "# decoded_1_1_anno_coords = get_coords_worker(decoded_1_1_df)"
   ]
  },
  {
   "cell_type": "code",
   "execution_count": 17,
   "metadata": {},
   "outputs": [],
   "source": [
    "app = QApplication.instance() or QApplication([])\n",
    "\n",
    "# initialize the viewer\n",
    "viewer = Viewer()\n",
    "window = Window(viewer, show=False)\n",
    "viewer._window = window"
   ]
  },
  {
   "cell_type": "code",
   "execution_count": 18,
   "metadata": {},
   "outputs": [],
   "source": [
    "import matplotlib.pyplot as plt"
   ]
  },
  {
   "cell_type": "code",
   "execution_count": 19,
   "metadata": {},
   "outputs": [],
   "source": [
    "# Add an image to the viewer\n",
    "viewer.add_image(dots_image)\n",
    "\n",
    "# Add the expert annotations to the viewer\n",
    "size = [10] * len(expert_anno_coords)\n",
    "viewer.add_markers(expert_anno_coords, size=size, symbol='ring', face_color='yellow', name=\"expert\")\n",
    "\n",
    "# Add the worker annotations to the viewer\n",
    "size = [10] * len(worker_anno_coords)\n",
    "viewer.add_markers(worker_anno_coords, size=size, symbol='ring', name=\"worker\")\n",
    "\n",
    "# Add the starfish annotations to the viewer\n",
    "size = [10] * len(decoded_0_3_anno_coords)\n",
    "viewer.add_markers(decoded_0_3_anno_coords, size=size, symbol='ring', face_color='red', name=\"decoded_0_3\")\n",
    "\n",
    "window.show()"
   ]
  },
  {
   "cell_type": "code",
   "execution_count": null,
   "metadata": {},
   "outputs": [],
   "source": []
  }
 ],
 "metadata": {
  "kernelspec": {
   "display_name": "Python 3",
   "language": "python",
   "name": "python3"
  },
  "language_info": {
   "codemirror_mode": {
    "name": "ipython",
    "version": 3
   },
   "file_extension": ".py",
   "mimetype": "text/x-python",
   "name": "python",
   "nbconvert_exporter": "python",
   "pygments_lexer": "ipython3",
   "version": "3.6.5"
  }
 },
 "nbformat": 4,
 "nbformat_minor": 2
}

{
 "cells": [
  {
   "cell_type": "code",
   "execution_count": 1,
   "metadata": {},
   "outputs": [],
   "source": [
    "import os\n",
    "\n",
    "from skimage import io, img_as_ubyte\n",
    "\n",
    "from starfish import data, FieldOfView\n",
    "from starfish.types import Axes"
   ]
  },
  {
   "cell_type": "code",
   "execution_count": 2,
   "metadata": {},
   "outputs": [
    {
     "name": "stderr",
     "output_type": "stream",
     "text": [
      "100%|██████████| 16/16 [00:00<00:00, 19.29it/s]\n"
     ]
    },
    {
     "data": {
      "text/plain": [
       "(4, 4, 1, 1044, 1390)"
      ]
     },
     "execution_count": 2,
     "metadata": {},
     "output_type": "execute_result"
    }
   ],
   "source": [
    "# Download the ISS data\n",
    "experiment = data.ISS(use_test_data=False)\n",
    "\n",
    "# Download the spots data as an ImageStack object\n",
    "fov = experiment.fov()\n",
    "primary_image = fov.get_image(FieldOfView.PRIMARY_IMAGES)\n",
    "\n",
    "# Display the shape of the ImageStack\n",
    "# The image data are stored in an x array\n",
    "primary_image.xarray.shape"
   ]
  },
  {
   "cell_type": "code",
   "execution_count": 6,
   "metadata": {},
   "outputs": [
    {
     "data": {
      "text/plain": [
       "<starfish.ImageStack (r: 4, c: 4, z: 1, y: 1044, x: 1390)>"
      ]
     },
     "execution_count": 6,
     "metadata": {},
     "output_type": "execute_result"
    }
   ],
   "source": [
    "primary_image"
   ]
  },
  {
   "cell_type": "code",
   "execution_count": 3,
   "metadata": {},
   "outputs": [
    {
     "name": "stdout",
     "output_type": "stream",
     "text": [
      "4 rounds, 4 channels, and 1 z slice(s)\n"
     ]
    }
   ],
   "source": [
    "# Get the number of channels in the ImageStack\n",
    "num_ch = primary_image.num_chs\n",
    "\n",
    "# Get the number of round in the ImageStack\n",
    "num_rnd = primary_image.num_rounds\n",
    "\n",
    "# Get the number of z slices in the ImageStack\n",
    "num_z = primary_image.num_zplanes\n",
    "\n",
    "print('%d rounds, %d channels, and %d z slice(s)' % (num_rnd, num_ch, num_z))"
   ]
  },
  {
   "cell_type": "code",
   "execution_count": 4,
   "metadata": {},
   "outputs": [
    {
     "name": "stderr",
     "output_type": "stream",
     "text": [
      "/usr/local/lib/python3.6/site-packages/skimage/util/dtype.py:130: UserWarning: Possible precision loss when converting from float32 to uint16\n",
      "  .format(dtypeobj_in, dtypeobj_out))\n",
      "/usr/local/lib/python3.6/site-packages/skimage/io/_io.py:140: UserWarning: ISS_rnd1_ch0_z0.png is a low contrast image\n",
      "  warn('%s is a low contrast image' % fname)\n",
      "/usr/local/lib/python3.6/site-packages/skimage/io/_io.py:140: UserWarning: ISS_rnd2_ch0_z0.png is a low contrast image\n",
      "  warn('%s is a low contrast image' % fname)\n"
     ]
    }
   ],
   "source": [
    "# Iterate through the images and save them to disk\n",
    "for rnd in range(num_rnd):\n",
    "    for channel in range(num_ch):\n",
    "        for z in range(num_z):\n",
    "            # Create the file name\n",
    "            file_name = 'ISS_rnd%d_ch%d_z%d.png' % (rnd, channel, z)\n",
    "            \n",
    "            # Create the selector. This dictionary selects which slice (i.e., round, channel, z coords)\n",
    "            # to select from the image stack\n",
    "            selector = {\n",
    "                Axes.ROUND: rnd,\n",
    "                Axes.CH: channel,\n",
    "                Axes.ZPLANE: z\n",
    "            }\n",
    "            \n",
    "            # Get the slice\n",
    "            (im, _) = primary_image.get_slice(selector)\n",
    "            \n",
    "            # Save the slice\n",
    "            io.imsave(file_name, im, check_contrast=False)\n"
   ]
  },
  {
   "cell_type": "code",
   "execution_count": null,
   "metadata": {},
   "outputs": [],
   "source": []
  }
 ],
 "metadata": {
  "kernelspec": {
   "display_name": "Python 3",
   "language": "python",
   "name": "python3"
  },
  "language_info": {
   "codemirror_mode": {
    "name": "ipython",
    "version": 3
   },
   "file_extension": ".py",
   "mimetype": "text/x-python",
   "name": "python",
   "nbconvert_exporter": "python",
   "pygments_lexer": "ipython3",
   "version": "3.6.5"
  }
 },
 "nbformat": 4,
 "nbformat_minor": 2
}

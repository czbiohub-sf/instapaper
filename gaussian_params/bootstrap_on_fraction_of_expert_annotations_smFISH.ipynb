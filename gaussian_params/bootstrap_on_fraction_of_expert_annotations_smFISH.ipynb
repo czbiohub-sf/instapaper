{
 "cells": [
  {
   "cell_type": "markdown",
   "metadata": {},
   "source": [
    "# Objective\n",
    "Assess the fraction of expert annotations needed to get good precision and recall.\n",
    "\n",
    "# Takeaways\n",
    "Keep in mind that since each bootstrap sample is randomly sampled from all the expert annotations, we're getting some little spots, some big spots, with total randomness. In reality, if an expert were told e.g. \"Oh, just click 50% of the spots,\" the expert would probably only click the brightest ones."
   ]
  },
  {
   "cell_type": "code",
   "execution_count": 17,
   "metadata": {},
   "outputs": [],
   "source": [
    "from math import sqrt\n",
    "from math import floor\n",
    "from scipy import optimize\n",
    "from skimage import data\n",
    "from skimage.feature import blob_log\n",
    "from skimage.color import rgb2gray\n",
    "from skimage.io import imread\n",
    "from sklearn.neighbors import KDTree\n",
    "from numpy import pi, r_\n",
    "import matplotlib.pyplot as plt\n",
    "import numpy as np\n",
    "import math, random, sys\n",
    "sys.path.insert(0, '../../FISH-annotation/Annotation')\n",
    "import util"
   ]
  },
  {
   "cell_type": "markdown",
   "metadata": {},
   "source": [
    "Cell below from https://scipy-cookbook.readthedocs.io/items/FittingData.html."
   ]
  },
  {
   "cell_type": "code",
   "execution_count": 3,
   "metadata": {},
   "outputs": [],
   "source": [
    "def gaussian(height, center_x, center_y, width_x, width_y):\n",
    "    \"\"\"Returns a gaussian function with the given parameters\"\"\"\n",
    "    width_x = float(width_x)\n",
    "    width_y = float(width_y)\n",
    "    return lambda x,y: height*np.exp(\n",
    "                -(((center_x-x)/width_x)**2+((center_y-y)/width_y)**2)/2)\n",
    "\n",
    "def moments(data):\n",
    "    \"\"\"Returns (height, x, y, width_x, width_y)\n",
    "    the gaussian parameters of a 2D distribution by calculating its\n",
    "    moments \"\"\"\n",
    "    total = data.sum()\n",
    "    X, Y = np.indices(data.shape)\n",
    "    x = (X*data).sum()/total\n",
    "    y = (Y*data).sum()/total\n",
    "    col = data[:, int(y)]\n",
    "    width_x = np.sqrt(np.abs((np.arange(col.size)-y)**2*col).sum()/col.sum())\n",
    "    row = data[int(x), :]\n",
    "    width_y = np.sqrt(np.abs((np.arange(row.size)-x)**2*row).sum()/row.sum())\n",
    "    height = data.max()\n",
    "    return height, x, y, width_x, width_y\n",
    "\n",
    "def fitgaussian(data):\n",
    "    \"\"\"Returns (height, x, y, width_x, width_y)\n",
    "    the gaussian parameters of a 2D distribution found by a fit\"\"\"\n",
    "    params = moments(data)\n",
    "    errorfunction = lambda p: np.ravel(gaussian(*p)(*np.indices(data.shape)) -\n",
    "                                 data)\n",
    "    p, success = optimize.leastsq(errorfunction, params)\n",
    "    return p"
   ]
  },
  {
   "cell_type": "markdown",
   "metadata": {},
   "source": [
    "### Load expert annotations\n",
    "All fractional samples be sampled from `coords`."
   ]
  },
  {
   "cell_type": "code",
   "execution_count": 6,
   "metadata": {},
   "outputs": [],
   "source": [
    "coords = np.genfromtxt('smfish_coords.csv', delimiter=',')"
   ]
  },
  {
   "cell_type": "markdown",
   "metadata": {},
   "source": [
    "### Set bootstrapping experiment params"
   ]
  },
  {
   "cell_type": "code",
   "execution_count": null,
   "metadata": {},
   "outputs": [],
   "source": [
    "fraction_list = np.arange(10, 110, 10)\n",
    "precision_list_list = []\t# one precision list for each fraction\n",
    "recall_list_list = []\t\t# one recall list for each fraction\n",
    "num_trials = 5\t\t\t\t# number of trials per fraction\n",
    "margin = 4\t\t\t\t\t# margin around each spot, in pixels"
   ]
  },
  {
   "cell_type": "markdown",
   "metadata": {},
   "source": [
    "### Run bootstrapping experiment"
   ]
  },
  {
   "cell_type": "code",
   "execution_count": null,
   "metadata": {},
   "outputs": [],
   "source": [
    "for fraction in fraction_list:\n",
    "    precision_list = []\n",
    "    recall_list = []\n",
    "    for _ in range(num_trials):\n",
    " \n",
    "        # sample a fraction of the expert annotations\n",
    "        num_to_sample = floor(fraction * len(coords))\n",
    "        indices = random.sample(range(len(coords)), num_to_sample)\n",
    "        coords_sampled = [coords[index] for index in indices]\n",
    "        \n",
    "        # run parameter extraction to get intensity and sigma_max value for each spot\n",
    "        #     imagining that only that coords_sampled exists\n",
    "        \n",
    "        max_intensity_list = []\n",
    "        sigma_max_list = []\n",
    "\n",
    "        for x, y in coords_sampled:\n",
    "\n",
    "            x_min = int(x)-margin if int(x)-margin >= 0 else 0\n",
    "            x_max = int(x)+margin if int(x)+margin < im.shape[1] else im.shape[1]-1\n",
    "            y_min = int(y)-margin if int(y)-margin >= 0 else 0\n",
    "            y_max = int(y)+margin if int(y)+margin < im.shape[0] else im.shape[0]-1\n",
    "\n",
    "            crop = im[y_min:y_max, x_min:x_max]\n",
    "            params = fitgaussian(crop)\n",
    "            fit = gaussian(*params)\n",
    "            (height, x_param, y_param, width_x, width_y) = params\n",
    "            sigma_min = math.sqrt(min(width_x, width_y)/2)\n",
    "            sigma_max = math.sqrt(max(width_x, width_y)/2)\n",
    "            max_intensity = np.amax(crop)\n",
    "\n",
    "            max_intensity_list.append(max_intensity)\n",
    "            sigma_max_list.append(sigma_max)\n",
    "        \n",
    "        # run blob log, imagining that only that coords_sampled exists, and save precision and recall values\n",
    "        thresholds = np.arange(0.02, 0.18, 0.005)\n",
    "        sigma_maxs\n",
    "        \n",
    "        \n",
    "        \n",
    "\n",
    "    precision_list_list.append(precision_list)\n",
    "    recall_list_list.append(recall_list)"
   ]
  },
  {
   "cell_type": "markdown",
   "metadata": {},
   "source": [
    "# Plotting"
   ]
  },
  {
   "cell_type": "markdown",
   "metadata": {},
   "source": [
    "### precision vs. fraction of expert annotations sampled"
   ]
  },
  {
   "cell_type": "code",
   "execution_count": 1,
   "metadata": {},
   "outputs": [
    {
     "ename": "SyntaxError",
     "evalue": "invalid character in identifier (<ipython-input-1-4f937a514f6f>, line 3)",
     "output_type": "error",
     "traceback": [
      "\u001b[0;36m  File \u001b[0;32m\"<ipython-input-1-4f937a514f6f>\"\u001b[0;36m, line \u001b[0;32m3\u001b[0m\n\u001b[0;31m    plt.scatter([fraction]*num_trials, precision_list_list[ind], c=‘cyan’)\u001b[0m\n\u001b[0m                                                                        ^\u001b[0m\n\u001b[0;31mSyntaxError\u001b[0m\u001b[0;31m:\u001b[0m invalid character in identifier\n"
     ]
    }
   ],
   "source": [
    "plt.figure()\n",
    "for ind, fraction in enum(fraction_list):\n",
    "    plt.scatter([fraction]*num_trials, precision_list_list[ind], c='cyan')\n",
    "    plt.scatter([fraction], [np.mean(precision_list_list[ind])], c='orange')\n",
    "plt.xlabel('fraction of expert annotations sampled')\n",
    "plt.ylabel('precision')\n",
    "plt.show()"
   ]
  },
  {
   "cell_type": "markdown",
   "metadata": {},
   "source": [
    "### precision vs. fraction of expert annotations sampled"
   ]
  },
  {
   "cell_type": "code",
   "execution_count": null,
   "metadata": {},
   "outputs": [],
   "source": [
    "plt.figure()\n",
    "for ind, fraction in enum(fraction_list):\n",
    "    plt.scatter([fraction]*num_trials, recall_list_list[ind], c='cyan')\n",
    "    plt.scatter([fraction], [np.mean(recall_list_list[ind])], c='orange'')\n",
    "plt.xlabel('fraction of expert annotations sampled')\n",
    "plt.ylabel('recall')\n",
    "plt.show()"
   ]
  }
 ],
 "metadata": {
  "kernelspec": {
   "display_name": "Python 3",
   "language": "python",
   "name": "python3"
  },
  "language_info": {
   "codemirror_mode": {
    "name": "ipython",
    "version": 3
   },
   "file_extension": ".py",
   "mimetype": "text/x-python",
   "name": "python",
   "nbconvert_exporter": "python",
   "pygments_lexer": "ipython3",
   "version": "3.6.5"
  }
 },
 "nbformat": 4,
 "nbformat_minor": 2
}

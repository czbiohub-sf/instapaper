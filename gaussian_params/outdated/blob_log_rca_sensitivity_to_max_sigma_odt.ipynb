{
 "cells": [
  {
   "cell_type": "code",
   "execution_count": 1,
   "metadata": {},
   "outputs": [],
   "source": [
    "from math import sqrt\n",
    "from skimage import data\n",
    "from skimage.feature import blob_dog, blob_log, blob_doh\n",
    "from skimage.color import rgb2gray\n",
    "from skimage.io import imread\n",
    "import matplotlib.pyplot as plt\n",
    "import numpy as np\n",
    "from sklearn.neighbors import KDTree\n",
    "import sys\n",
    "sys.path.insert(0, '../../FISH-annotation/Annotation')\n",
    "import util"
   ]
  },
  {
   "cell_type": "markdown",
   "metadata": {},
   "source": [
    "## Using blob_log to detect spots in smFISH.png\n",
    "Color larger blobs found purple, smaller blobs cyan.\n",
    "Using min_sigma = min sigma found with gaussian fit spot parameter extraction (input: image. output: sigma of each spot). max_sigma likewise. threshold found by toggling."
   ]
  },
  {
   "cell_type": "code",
   "execution_count": 2,
   "metadata": {},
   "outputs": [],
   "source": [
    "img_height = 450\n",
    "img_path = 'rca.png'\n",
    "ref_coords_path = 'rca.csv'\n",
    "ref_coords_bare_path = 'rca_coords.csv'"
   ]
  },
  {
   "cell_type": "markdown",
   "metadata": {},
   "source": [
    "## Vary max_sigma"
   ]
  },
  {
   "cell_type": "code",
   "execution_count": 3,
   "metadata": {},
   "outputs": [
    {
     "name": "stdout",
     "output_type": "stream",
     "text": [
      "Correctness threshold = 4 pixels.\n"
     ]
    },
    {
     "name": "stderr",
     "output_type": "stream",
     "text": [
      "../../FISH-annotation/Annotation/util.py:199: FutureWarning: Method .as_matrix will be removed in a future version. Use .values instead.\n",
      "  ref_points = ref_df.loc[:, ['col', 'row']].as_matrix()\n"
     ]
    }
   ],
   "source": [
    "from sklearn.neighbors import KDTree\n",
    "import sys\n",
    "sys.path.insert(0, '../FISH-annotation/Annotation')\n",
    "import util\n",
    "\n",
    "correctness_threshold = 4\n",
    "print('Correctness threshold = ' + str(correctness_threshold) + ' pixels.')\n",
    "\n",
    "ref_kdt = util.csv_to_kdt(ref_coords_path, img_height)\n",
    "\n",
    "im = imread(img_path)\n",
    "im_gray = rgb2gray(im)\n",
    "ref_coords = np.genfromtxt(ref_coords_bare_path, delimiter=',')\n",
    "\n",
    "precision_list = []\n",
    "recall_list = []\n",
    "\n",
    "for threshold in np.arange(0.02, 0.18, 0.005):\n",
    "    blobs_log = blob_log(im, max_sigma=10, num_sigma=10, threshold=threshold)\n",
    "    blobs_list = []\n",
    "    for r, c, sigma in blobs_log:\n",
    "        blobs_list.append([c, r])\n",
    "    blobs_kdt = KDTree(blobs_list, leaf_size=2, metric='euclidean')\n",
    "    \n",
    "    num_blobs_total = len(blobs_log)\n",
    "    num_ref_total = len(ref_coords)\n",
    "    \n",
    "    correct_blobs = []\n",
    "    incorrect_blobs = []\n",
    "    detected_ref = []\n",
    "    undetected_ref = []\n",
    "    \n",
    "    # correct vs. incorrect\n",
    "    \n",
    "    for r, c, sigma in blobs_log:\n",
    "        dist, ind = ref_kdt.query([[c, img_height-r]], k=1)\n",
    "        if dist[0][0] < correctness_threshold:\n",
    "            correct_blobs.append((r, c, sigma))\n",
    "        else:\n",
    "            incorrect_blobs.append((r, c, sigma))\n",
    "    \n",
    "    # detected vs. undetected\n",
    "        \n",
    "    for x, y in ref_coords:\n",
    "        dist, ind = blobs_kdt.query([[x, y]], k=1)\n",
    "        if dist[0][0] < correctness_threshold:\n",
    "            detected_ref.append([x, y])\n",
    "        else:\n",
    "            undetected_ref.append([x, y])\n",
    "    \n",
    "    num_ref_detected = len(detected_ref)\n",
    "    num_blobs_correct = len(correct_blobs)\n",
    "    \n",
    "    # calculate precision and recall\n",
    "    \n",
    "    precision = len(correct_blobs)/(len(correct_blobs)+len(incorrect_blobs))\n",
    "    recall = len(detected_ref)/(len(detected_ref)+len(undetected_ref))\n",
    "    precision_list.append(precision)\n",
    "    recall_list.append(recall)"
   ]
  },
  {
   "cell_type": "markdown",
   "metadata": {},
   "source": [
    "# Precision-Recall"
   ]
  },
  {
   "cell_type": "code",
   "execution_count": 4,
   "metadata": {},
   "outputs": [
    {
     "data": {
      "image/png": "[encoded data removed]",
      "text/plain": [
       "<Figure size 432x288 with 1 Axes>"
      ]
     },
     "metadata": {
      "needs_background": "light"
     },
     "output_type": "display_data"
    }
   ],
   "source": [
    "plt.figure()\n",
    "plt.scatter(recall_list, precision_list)\n",
    "plt.xlabel('Recall')\n",
    "plt.ylabel('Precision')\n",
    "plt.title('threshold_list = np.arange(0.02, 0.18, 0.02)')\n",
    "plt.show()"
   ]
  }
 ],
 "metadata": {
  "kernelspec": {
   "display_name": ".venv",
   "language": "python",
   "name": ".venv"
  },
  "language_info": {
   "codemirror_mode": {
    "name": "ipython",
    "version": 3
   },
   "file_extension": ".py",
   "mimetype": "text/x-python",
   "name": "python",
   "nbconvert_exporter": "python",
   "pygments_lexer": "ipython3",
   "version": "3.6.5"
  }
 },
 "nbformat": 4,
 "nbformat_minor": 2
}

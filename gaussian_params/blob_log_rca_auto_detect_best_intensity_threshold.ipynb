{
 "cells": [
  {
   "cell_type": "markdown",
   "metadata": {},
   "source": [
    "# Objective\n",
    "\n",
    "Determine the best intensity threshold for the sample RCA image.\n",
    "\n",
    "# Takeaway\n",
    "\n",
    "The optimal intensity threshold can be defined as the intensity threshold which maximizes precision times recall. For RCA, optimal intensity threshold = 0.06."
   ]
  },
  {
   "cell_type": "code",
   "execution_count": 1,
   "metadata": {},
   "outputs": [],
   "source": [
    "from math import sqrt\n",
    "from skimage import data\n",
    "from skimage.feature import blob_log\n",
    "from skimage.color import rgb2gray\n",
    "from skimage.io import imread\n",
    "from sklearn.neighbors import KDTree\n",
    "import matplotlib.pyplot as plt\n",
    "import numpy as np\n",
    "import sys\n",
    "sys.path.insert(0, '../../FISH-annotation/Annotation')\n",
    "import util"
   ]
  },
  {
   "cell_type": "code",
   "execution_count": 2,
   "metadata": {},
   "outputs": [],
   "source": [
    "img_height = 450\n",
    "img_path = 'rca.png'\n",
    "ref_coords_path = 'rca.csv'\n",
    "ref_coords_bare_path = 'rca_coords.csv'"
   ]
  },
  {
   "cell_type": "markdown",
   "metadata": {},
   "source": [
    "# Plot Precision-Recall."
   ]
  },
  {
   "cell_type": "markdown",
   "metadata": {},
   "source": [
    "## Precision Recall Curve"
   ]
  },
  {
   "cell_type": "code",
   "execution_count": 3,
   "metadata": {},
   "outputs": [
    {
     "name": "stdout",
     "output_type": "stream",
     "text": [
      "Correctness threshold = 4 pixels.\n"
     ]
    },
    {
     "name": "stderr",
     "output_type": "stream",
     "text": [
      "../../FISH-annotation/Annotation/util.py:199: FutureWarning: Method .as_matrix will be removed in a future version. Use .values instead.\n",
      "  ref_points = ref_df.loc[:, ['col', 'row']].as_matrix()\n"
     ]
    }
   ],
   "source": [
    "correctness_threshold = 4\n",
    "print('Correctness threshold = ' + str(correctness_threshold) + ' pixels.')\n",
    "\n",
    "ref_kdt = util.csv_to_kdt(ref_coords_path, img_height)\n",
    "\n",
    "im = imread(img_path)\n",
    "im_gray = rgb2gray(im)\n",
    "ref_coords = np.genfromtxt(ref_coords_bare_path, delimiter=',')\n",
    "\n",
    "precision_list = []\n",
    "recall_list = []\n",
    "\n",
    "for threshold in np.arange(0.02, 0.18, 0.005):\n",
    "    blobs_log = blob_log(im, max_sigma=10, num_sigma=10, threshold=threshold)\n",
    "    blobs_list = []\n",
    "    for r, c, sigma in blobs_log:\n",
    "        blobs_list.append([c, r])\n",
    "    blobs_kdt = KDTree(blobs_list, leaf_size=2, metric='euclidean')\t# kdt is a kd tree with all the reference points\n",
    "    \n",
    "    num_blobs_total = len(blobs_log)\n",
    "    num_ref_total = len(ref_coords)\n",
    "    \n",
    "    correct_blobs = []\n",
    "    incorrect_blobs = []\n",
    "    detected_ref = []\n",
    "    undetected_ref = []\n",
    "    \n",
    "    # correct vs. incorrect\n",
    "    \n",
    "    for r, c, sigma in blobs_log:\n",
    "        dist, ind = ref_kdt.query([[c, img_height-r]], k=1)\n",
    "        if dist[0][0] < correctness_threshold:\n",
    "            correct_blobs.append((r, c, sigma))\n",
    "        else:\n",
    "            incorrect_blobs.append((r, c, sigma))\n",
    "    \n",
    "    # detected vs. undetected\n",
    "        \n",
    "    for x, y in ref_coords:\n",
    "        dist, ind = blobs_kdt.query([[x, y]], k=1)\n",
    "        if dist[0][0] < correctness_threshold:\n",
    "            detected_ref.append([x, y])\n",
    "        else:\n",
    "            undetected_ref.append([x, y])\n",
    "    \n",
    "    num_ref_detected = len(detected_ref)\n",
    "    num_blobs_correct = len(correct_blobs)\n",
    "    \n",
    "    # calculate precision and recall\n",
    "    \n",
    "    precision = len(correct_blobs)/(len(correct_blobs)+len(incorrect_blobs))\n",
    "    recall = len(detected_ref)/(len(detected_ref)+len(undetected_ref))\n",
    "    precision_list.append(precision)\n",
    "    recall_list.append(recall)"
   ]
  },
  {
   "cell_type": "markdown",
   "metadata": {},
   "source": [
    "## Find the intensity threshold which maximizes precision * recall."
   ]
  },
  {
   "cell_type": "code",
   "execution_count": 4,
   "metadata": {},
   "outputs": [
    {
     "data": {
      "text/plain": [
       "Text(0,0.5,'recall times precision')"
      ]
     },
     "execution_count": 4,
     "metadata": {},
     "output_type": "execute_result"
    },
    {
     "data": {
      "image/png": "[encoded data removed]",
      "text/plain": [
       "<Figure size 432x288 with 1 Axes>"
      ]
     },
     "metadata": {
      "needs_background": "light"
     },
     "output_type": "display_data"
    }
   ],
   "source": [
    "recall_times_precision = [recall*precision for recall, precision in zip(recall_list, precision_list)]\n",
    "ind_max_recall_times_precision = np.argmax(recall_times_precision)\n",
    "\n",
    "plt.scatter(np.arange(0.02, 0.18, 0.005), recall_times_precision)\n",
    "plt.scatter([np.arange(0.02, 0.18, 0.005)[ind_max_recall_times_precision]], [recall_times_precision[ind_max_recall_times_precision]], c='orange')\n",
    "plt.xlabel('intensity threshold')\n",
    "plt.ylabel('recall times precision')"
   ]
  },
  {
   "cell_type": "markdown",
   "metadata": {},
   "source": [
    "## Confirm that the intensity threshold which maximizes precision * recall makes sense by visual inspection on the precision-recall plot."
   ]
  },
  {
   "cell_type": "code",
   "execution_count": 5,
   "metadata": {},
   "outputs": [
    {
     "data": {
      "image/png": "[encoded data removed]",
      "text/plain": [
       "<Figure size 432x288 with 1 Axes>"
      ]
     },
     "metadata": {
      "needs_background": "light"
     },
     "output_type": "display_data"
    }
   ],
   "source": [
    "plt.figure()\n",
    "plt.scatter(recall_list, precision_list)\n",
    "plt.scatter([recall_list[ind_max_recall_times_precision]], [precision_list[ind_max_recall_times_precision]], c='orange')\n",
    "plt.xlabel('Recall')\n",
    "plt.ylabel('Precision')\n",
    "plt.title('threshold_list = np.arange(0.02, 0.18, 0.005)')\n",
    "plt.show()"
   ]
  },
  {
   "cell_type": "markdown",
   "metadata": {},
   "source": [
    "## Best intensity threshold to maximize precision * recall = "
   ]
  },
  {
   "cell_type": "code",
   "execution_count": 6,
   "metadata": {},
   "outputs": [
    {
     "name": "stdout",
     "output_type": "stream",
     "text": [
      "0.06\n"
     ]
    }
   ],
   "source": [
    "best_intensity_threshold = round(np.arange(0.02, 0.18, 0.005)[ind_max_recall_times_precision], 2)\n",
    "print(best_intensity_threshold)"
   ]
  },
  {
   "cell_type": "code",
   "execution_count": null,
   "metadata": {},
   "outputs": [],
   "source": []
  }
 ],
 "metadata": {
  "kernelspec": {
   "display_name": ".venv",
   "language": "python",
   "name": ".venv"
  },
  "language_info": {
   "codemirror_mode": {
    "name": "ipython",
    "version": 3
   },
   "file_extension": ".py",
   "mimetype": "text/x-python",
   "name": "python",
   "nbconvert_exporter": "python",
   "pygments_lexer": "ipython3",
   "version": "3.6.5"
  }
 },
 "nbformat": 4,
 "nbformat_minor": 2
}

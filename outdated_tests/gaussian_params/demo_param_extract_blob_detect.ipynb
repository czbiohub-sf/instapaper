{
 "cells": [
  {
   "cell_type": "markdown",
   "metadata": {},
   "source": [
    "# Demo notebook for parameter extraction and blob detection\n",
    "\n",
    "### Pipeline\n",
    "\n",
    "- Inputs:\n",
    "    - sample FISH image\n",
    "    - expert annotations of the image\n",
    "- Operations: \n",
    "    - parameter extraction\n",
    "    - blob detection\n",
    "- Outputs:\n",
    "    - coordinates of spots detected by blob detection\n",
    "\n",
    "### Demo dataset\n",
    "\n",
    "- smFISH sample image"
   ]
  },
  {
   "cell_type": "code",
   "execution_count": 1,
   "metadata": {},
   "outputs": [],
   "source": [
    "from math import sqrt\n",
    "from math import floor\n",
    "from scipy import optimize\n",
    "from skimage import data\n",
    "from skimage.feature import blob_log\n",
    "from skimage.color import rgb2gray\n",
    "from skimage.io import imread\n",
    "from sklearn.neighbors import KDTree\n",
    "from numpy import pi, r_\n",
    "import matplotlib.pyplot as plt\n",
    "import numpy as np\n",
    "import math, random, sys\n",
    "sys.path.insert(0, '../../FISH-annotation/Annotation')\n",
    "import util"
   ]
  },
  {
   "cell_type": "markdown",
   "metadata": {},
   "source": [
    "### Metadata and parameters."
   ]
  },
  {
   "cell_type": "code",
   "execution_count": 3,
   "metadata": {},
   "outputs": [],
   "source": [
    "img_path = 'smfish.png'\n",
    "img_height = 450\n",
    "ref_coords_path = 'smfish_coords_with_header.csv'\n",
    "margin = 4\t\t\t\t\t# margin around each spot, in pixels\n",
    "correctness_threshold = 4"
   ]
  },
  {
   "cell_type": "markdown",
   "metadata": {},
   "source": [
    "### Read in the image and the expert annotations."
   ]
  },
  {
   "cell_type": "code",
   "execution_count": null,
   "metadata": {},
   "outputs": [],
   "source": [
    "im = imread(img_path)\n",
    "im = rgb2gray(im)\n",
    "ref_coords = np.genfromtxt(ref_coords_path, delimiter=',')[1:]\n",
    "ref_kdt = util.csv_to_kdt(ref_coords_path, img_height)"
   ]
  },
  {
   "cell_type": "markdown",
   "metadata": {},
   "source": [
    "# Find the sigma_max (the greatest spot size)."
   ]
  },
  {
   "cell_type": "markdown",
   "metadata": {},
   "source": [
    "### Gaussian fit methods\n",
    "Cell below from https://scipy-cookbook.readthedocs.io/items/FittingData.html."
   ]
  },
  {
   "cell_type": "code",
   "execution_count": null,
   "metadata": {},
   "outputs": [],
   "source": [
    "def gaussian(height, center_x, center_y, width_x, width_y):\n",
    "    \"\"\"Returns a gaussian function with the given parameters\"\"\"\n",
    "    width_x = float(width_x)\n",
    "    width_y = float(width_y)\n",
    "    return lambda x,y: height*np.exp(\n",
    "                -(((center_x-x)/width_x)**2+((center_y-y)/width_y)**2)/2)\n",
    "\n",
    "def moments(data):\n",
    "    \"\"\"Returns (height, x, y, width_x, width_y)\n",
    "    the gaussian parameters of a 2D distribution by calculating its\n",
    "    moments \"\"\"\n",
    "    total = data.sum()\n",
    "    X, Y = np.indices(data.shape)\n",
    "    x = (X*data).sum()/total\n",
    "    y = (Y*data).sum()/total\n",
    "    col = data[:, int(y)]\n",
    "    width_x = np.sqrt(np.abs((np.arange(col.size)-y)**2*col).sum()/col.sum())\n",
    "    row = data[int(x), :]\n",
    "    width_y = np.sqrt(np.abs((np.arange(row.size)-x)**2*row).sum()/row.sum())\n",
    "    height = data.max()\n",
    "    return height, x, y, width_x, width_y\n",
    "\n",
    "def fitgaussian(data):\n",
    "    \"\"\"Returns (height, x, y, width_x, width_y)\n",
    "    the gaussian parameters of a 2D distribution found by a fit\"\"\"\n",
    "    params = moments(data)\n",
    "    errorfunction = lambda p: np.ravel(gaussian(*p)(*np.indices(data.shape)) -\n",
    "                                 data)\n",
    "    p, success = optimize.leastsq(errorfunction, params)\n",
    "    return p"
   ]
  },
  {
   "cell_type": "markdown",
   "metadata": {},
   "source": [
    "### Find the size of each spot identified by the expert and take the max."
   ]
  },
  {
   "cell_type": "code",
   "execution_count": 5,
   "metadata": {},
   "outputs": [
    {
     "name": "stderr",
     "output_type": "stream",
     "text": [
      "/Library/Frameworks/Python.framework/Versions/3.6/lib/python3.6/site-packages/scipy/optimize/minpack.py:427: RuntimeWarning: Number of calls to function has reached maxfev = 1200.\n",
      "  warnings.warn(errors[info][0], RuntimeWarning)\n"
     ]
    }
   ],
   "source": [
    "sigma_max_list = []\n",
    "for x, y in ref_coords:\n",
    "\n",
    "    x_min = int(x)-margin if int(x)-margin >= 0 else 0\n",
    "    x_max = int(x)+margin if int(x)+margin < im.shape[1] else im.shape[1]-1\n",
    "    y_min = int(y)-margin if int(y)-margin >= 0 else 0\n",
    "    y_max = int(y)+margin if int(y)+margin < im.shape[0] else im.shape[0]-1\n",
    "\n",
    "    crop = im[y_min:y_max, x_min:x_max]\n",
    "    params = fitgaussian(crop)\n",
    "    fit = gaussian(*params)\n",
    "    (height, x_param, y_param, width_x, width_y) = params\n",
    "    sigma_max = math.sqrt(max(width_x, width_y)/2)\n",
    "    sigma_max_list.append(sigma_max)\n",
    "max_sigma = max(sigma_max_list)"
   ]
  },
  {
   "cell_type": "code",
   "execution_count": 6,
   "metadata": {},
   "outputs": [
    {
     "name": "stdout",
     "output_type": "stream",
     "text": [
      "greatest spot_sigma = 0.93\n"
     ]
    }
   ],
   "source": [
    "print('greatest spot_sigma = ' + str(round(sigma_max, 2)))"
   ]
  },
  {
   "cell_type": "markdown",
   "metadata": {},
   "source": [
    "# Find the optimal intensity threshold. "
   ]
  },
  {
   "cell_type": "markdown",
   "metadata": {},
   "source": [
    "### Assign a range of intensity thresholds to test."
   ]
  },
  {
   "cell_type": "code",
   "execution_count": null,
   "metadata": {},
   "outputs": [],
   "source": [
    "thresholds = np.arange(0.02, 0.18, 0.005)"
   ]
  },
  {
   "cell_type": "markdown",
   "metadata": {},
   "source": [
    "### Run blob detection with a range of thresholds and evaluate precision and recall overall."
   ]
  },
  {
   "cell_type": "code",
   "execution_count": 7,
   "metadata": {},
   "outputs": [],
   "source": [
    "best_precision_x_recall = 0\n",
    "precision_list = []\n",
    "recall_list = []\n",
    "for threshold in thresholds:\n",
    "    blobs_log = blob_log(im, max_sigma=10, num_sigma=10, threshold=threshold)\n",
    "    blobs_list = []\n",
    "    for r, c, sigma in blobs_log:\n",
    "        blobs_list.append([c, r])\n",
    "    blobs_kdt = KDTree(blobs_list, leaf_size=2, metric='euclidean')\t# kdt is a kd tree with all the reference points\n",
    "\n",
    "    num_blobs_total = len(blobs_log)\n",
    "    num_ref_total = len(ref_coords)\n",
    "\n",
    "    correct_blobs = []\n",
    "    incorrect_blobs = []\n",
    "    detected_ref = []\n",
    "    undetected_ref = []\n",
    "\n",
    "    # correct vs. incorrect\n",
    "\n",
    "    for r, c, sigma in blobs_log:\n",
    "        dist, ind = ref_kdt.query([[c, img_height-r]], k=1)\n",
    "        if dist[0][0] < correctness_threshold:\n",
    "            correct_blobs.append((r, c, sigma))\n",
    "        else:\n",
    "            incorrect_blobs.append((r, c, sigma))\n",
    "\n",
    "    # detected vs. undetected\n",
    "\n",
    "    for x, y in ref_coords:\n",
    "        dist, ind = blobs_kdt.query([[x, y]], k=1)\n",
    "        if dist[0][0] < correctness_threshold:\n",
    "            detected_ref.append([x, y])\n",
    "        else:\n",
    "            undetected_ref.append([x, y])\n",
    "\n",
    "    num_ref_detected = len(detected_ref)\n",
    "    num_blobs_correct = len(correct_blobs)\n",
    "\n",
    "    # calculate precision and recall and see if this is the best precision_x_recall we've found yet\n",
    "\n",
    "    precision = len(correct_blobs)/(len(correct_blobs)+len(incorrect_blobs))\n",
    "    recall = len(detected_ref)/(len(detected_ref)+len(undetected_ref))\n",
    "    if (precision * recall) > best_precision_x_recall:\n",
    "        best_precision_x_recall = precision * recall\n",
    "        best_precision = precision\n",
    "        best_recall = recall\n",
    "        best_threshold = threshold\n",
    "    precision_list.append(precision)\n",
    "    recall_list.append(recall)"
   ]
  },
  {
   "cell_type": "code",
   "execution_count": 13,
   "metadata": {},
   "outputs": [
    {
     "data": {
      "text/plain": [
       "Text(0.5,1,'Precision-Recall, intensity threshold = np.arange(0.02, 0.18, 0.005)')"
      ]
     },
     "execution_count": 13,
     "metadata": {},
     "output_type": "execute_result"
    },
    {
     "data": {
      "image/png": "[encoded data removed]",
      "text/plain": [
       "<Figure size 576x432 with 1 Axes>"
      ]
     },
     "metadata": {},
     "output_type": "display_data"
    }
   ],
   "source": [
    "plt.figure(figsize = (8, 6))\n",
    "plt.scatter(recall_list, precision_list)\n",
    "plt.scatter([best_recall], [best_precision], c='orange')\n",
    "plt.xlabel('Recall')\n",
    "plt.ylabel('Precision')\n",
    "plt.title('Precision-Recall, intensity threshold = np.arange(0.02, 0.18, 0.005)')"
   ]
  },
  {
   "cell_type": "code",
   "execution_count": 14,
   "metadata": {},
   "outputs": [
    {
     "name": "stdout",
     "output_type": "stream",
     "text": [
      "optimal intensity threshold = 0.06\n"
     ]
    }
   ],
   "source": [
    "print('optimal intensity threshold = ' + str(round(best_threshold, 2)))"
   ]
  },
  {
   "cell_type": "markdown",
   "metadata": {},
   "source": [
    "### The max sigma and optimal intensity threshold found above with parameter extraction are now considered \"tuned\" parameters. \n",
    "If we are satisfied with them, we can use them with blob_log() on other smFISH chemistries."
   ]
  },
  {
   "cell_type": "code",
   "execution_count": null,
   "metadata": {},
   "outputs": [],
   "source": []
  }
 ],
 "metadata": {
  "kernelspec": {
   "display_name": "Python 3",
   "language": "python",
   "name": "python3"
  },
  "language_info": {
   "codemirror_mode": {
    "name": "ipython",
    "version": 3
   },
   "file_extension": ".py",
   "mimetype": "text/x-python",
   "name": "python",
   "nbconvert_exporter": "python",
   "pygments_lexer": "ipython3",
   "version": "3.6.5"
  }
 },
 "nbformat": 4,
 "nbformat_minor": 2
}

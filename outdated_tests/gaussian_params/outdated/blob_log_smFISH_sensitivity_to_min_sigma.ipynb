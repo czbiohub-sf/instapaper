{
 "cells": [
  {
   "cell_type": "markdown",
   "metadata": {},
   "source": [
    "# Objective\n",
    "\n",
    "Determine how sensitive the system is to max_sigma (without defining min_sigma), using the smFISH sample image.\n",
    "\n",
    "# Takeaway\n",
    "\n",
    "The system is not sensitive to max_sigma. Using a range of max_sigma values from 5 to 15, precision and recall values found were all within a range of 0.5 %."
   ]
  },
  {
   "cell_type": "code",
   "execution_count": 9,
   "metadata": {},
   "outputs": [],
   "source": [
    "from math import sqrt\n",
    "from skimage import data\n",
    "from skimage.feature import blob_log\n",
    "from skimage.color import rgb2gray\n",
    "from skimage.io import imread\n",
    "import matplotlib.pyplot as plt\n",
    "import numpy as np\n",
    "from sklearn.neighbors import KDTree\n",
    "import sys\n",
    "sys.path.insert(0, '../../FISH-annotation/Annotation')\n",
    "import util"
   ]
  },
  {
   "cell_type": "markdown",
   "metadata": {},
   "source": [
    "## smFISH metadata"
   ]
  },
  {
   "cell_type": "code",
   "execution_count": 10,
   "metadata": {},
   "outputs": [],
   "source": [
    "img_height = 450\n",
    "img_path = 'smfish.png'\n",
    "ref_coords_path = 'smfish.csv'\n",
    "ref_coords_bare_path = 'smfish_coords.csv'"
   ]
  },
  {
   "cell_type": "markdown",
   "metadata": {},
   "source": [
    "## Vary max_sigma"
   ]
  },
  {
   "cell_type": "code",
   "execution_count": 14,
   "metadata": {},
   "outputs": [
    {
     "name": "stdout",
     "output_type": "stream",
     "text": [
      "Correctness threshold = 4 pixels.\n"
     ]
    }
   ],
   "source": [
    "correctness_threshold = 4\n",
    "print('Correctness threshold = ' + str(correctness_threshold) + ' pixels.')\n",
    "\n",
    "ref_kdt = util.csv_to_kdt(ref_coords_path, img_height)\n",
    "\n",
    "im = imread(img_path)\n",
    "im_gray = rgb2gray(im)\n",
    "ref_coords = np.genfromtxt(ref_coords_bare_path, delimiter=',')\n",
    "\n",
    "precision_list = []\n",
    "recall_list = []\n",
    "max_sigmas = np.arange(5, 15, 0.5)\n",
    "\n",
    "for max_sigma in max_sigmas:\n",
    "    blobs_log = blob_log(im, max_sigma=max_sigma, num_sigma=10, threshold=0.06)\n",
    "    blobs_list = []\n",
    "    for r, c, sigma in blobs_log:\n",
    "        blobs_list.append([c, r])\n",
    "    blobs_kdt = KDTree(blobs_list, leaf_size=2, metric='euclidean')\n",
    "    \n",
    "    num_blobs_total = len(blobs_log)\n",
    "    num_ref_total = len(ref_coords)\n",
    "    \n",
    "    correct_blobs = []\n",
    "    incorrect_blobs = []\n",
    "    detected_ref = []\n",
    "    undetected_ref = []\n",
    "    \n",
    "    # correct vs. incorrect\n",
    "    \n",
    "    for r, c, sigma in blobs_log:\n",
    "        dist, ind = ref_kdt.query([[c, img_height-r]], k=1)\n",
    "        if dist[0][0] < correctness_threshold:\n",
    "            correct_blobs.append((r, c, sigma))\n",
    "        else:\n",
    "            incorrect_blobs.append((r, c, sigma))\n",
    "    \n",
    "    # detected vs. undetected\n",
    "        \n",
    "    for x, y in ref_coords:\n",
    "        dist, ind = blobs_kdt.query([[x, y]], k=1)\n",
    "        if dist[0][0] < correctness_threshold:\n",
    "            detected_ref.append([x, y])\n",
    "        else:\n",
    "            undetected_ref.append([x, y])\n",
    "    \n",
    "    num_ref_detected = len(detected_ref)\n",
    "    num_blobs_correct = len(correct_blobs)\n",
    "    \n",
    "    # calculate precision and recall\n",
    "    \n",
    "    precision = len(correct_blobs)/(len(correct_blobs)+len(incorrect_blobs))\n",
    "    recall = len(detected_ref)/(len(detected_ref)+len(undetected_ref))\n",
    "    precision_list.append(precision)\n",
    "    recall_list.append(recall)"
   ]
  },
  {
   "cell_type": "markdown",
   "metadata": {},
   "source": [
    "# Precision-Recall"
   ]
  },
  {
   "cell_type": "markdown",
   "metadata": {},
   "source": [
    "### Find the max_sigma which maximizes precision * recall."
   ]
  },
  {
   "cell_type": "code",
   "execution_count": 23,
   "metadata": {},
   "outputs": [
    {
     "data": {
      "image/png": "[encoded data removed]",
      "text/plain": [
       "<Figure size 432x288 with 1 Axes>"
      ]
     },
     "metadata": {
      "needs_background": "light"
     },
     "output_type": "display_data"
    }
   ],
   "source": [
    "recall_times_precision = [recall*precision for recall, precision in zip(recall_list, precision_list)]\n",
    "ind_max_recall_times_precision = np.argmax(recall_times_precision)\n",
    "\n",
    "plt.scatter(max_sigmas, recall_times_precision)\n",
    "plt.scatter([max_sigmas[ind_max_recall_times_precision]], [recall_times_precision[ind_max_recall_times_precision]], c='orange')\n",
    "plt.xlabel('max_sigma')\n",
    "plt.ylabel('recall times precision')\n",
    "plt.show()"
   ]
  },
  {
   "cell_type": "markdown",
   "metadata": {},
   "source": [
    "### Confirm that the max_sigma which maximizes precision * recall makes sense by visual inspection on the precision-recall plot."
   ]
  },
  {
   "cell_type": "code",
   "execution_count": 22,
   "metadata": {},
   "outputs": [
    {
     "data": {
      "image/png": "[encoded data removed]",
      "text/plain": [
       "<Figure size 432x288 with 1 Axes>"
      ]
     },
     "metadata": {
      "needs_background": "light"
     },
     "output_type": "display_data"
    }
   ],
   "source": [
    "plt.figure()\n",
    "plt.scatter(recall_list, precision_list)\n",
    "plt.scatter([recall_list[ind_max_recall_times_precision]], [precision_list[ind_max_recall_times_precision]], c='orange')\n",
    "plt.xlabel('Recall')\n",
    "plt.ylabel('Precision')\n",
    "plt.show()"
   ]
  },
  {
   "cell_type": "markdown",
   "metadata": {},
   "source": [
    "## Optimal max_sigma = ?"
   ]
  },
  {
   "cell_type": "code",
   "execution_count": 24,
   "metadata": {},
   "outputs": [
    {
     "name": "stdout",
     "output_type": "stream",
     "text": [
      "7\n"
     ]
    }
   ],
   "source": [
    "print(max_sigmas[ind_max_recall_times_precision])"
   ]
  },
  {
   "cell_type": "code",
   "execution_count": null,
   "metadata": {},
   "outputs": [],
   "source": []
  }
 ],
 "metadata": {
  "kernelspec": {
   "display_name": ".venv",
   "language": "python",
   "name": ".venv"
  },
  "language_info": {
   "codemirror_mode": {
    "name": "ipython",
    "version": 3
   },
   "file_extension": ".py",
   "mimetype": "text/x-python",
   "name": "python",
   "nbconvert_exporter": "python",
   "pygments_lexer": "ipython3",
   "version": "3.6.5"
  }
 },
 "nbformat": 4,
 "nbformat_minor": 2
}

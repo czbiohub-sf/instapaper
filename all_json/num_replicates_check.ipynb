{
 "cells": [
  {
   "cell_type": "markdown",
   "metadata": {},
   "source": [
    "# Objective\n",
    "\n",
    "Confirm the number of replicates we have been using in our experiments.\n",
    "\n",
    "# Takeaway\n",
    "\n",
    "We seem to have been consistently requesting 25 replicates for each image. For some images, some workers do not contribute but somehow get their IDs stamped in, anyway."
   ]
  },
  {
   "cell_type": "code",
   "execution_count": 43,
   "metadata": {},
   "outputs": [],
   "source": [
    "import sys, os, json\n",
    "sys.path.insert(0, '/Users/jenny.vo-phamhi/Documents/FISH-annotation/Annotation')\n",
    "from QuantiusAnnotation import QuantiusAnnotation\n",
    "import util\n",
    "import pandas as pd\n",
    "import numpy as np\n",
    "import matplotlib.pyplot as plt"
   ]
  },
  {
   "cell_type": "code",
   "execution_count": 44,
   "metadata": {},
   "outputs": [],
   "source": [
    "json_filenames = []\n",
    "for json_filename in os.listdir('/Users/jenny.vo-phamhi/Documents/fish_annotation_paper/all_json'):\n",
    "    if json_filename.endswith('.json'):\n",
    "        json_filenames.append(json_filename)"
   ]
  },
  {
   "cell_type": "code",
   "execution_count": 45,
   "metadata": {},
   "outputs": [],
   "source": [
    "num_workers = []\n",
    "for json_filename in json_filenames:\n",
    "    to_return = pd.DataFrame()\n",
    "    json_string = open(json_filename).read()\n",
    "    results = json.loads(json_string)\n",
    "\n",
    "    for worker in results:\n",
    "\n",
    "        # Skip the worker if they didn't perform any annotations\n",
    "        if not worker['raw_data']: \n",
    "            continue\n",
    "\n",
    "        # Make a data frame of the coordinates of each annotation\n",
    "        if (worker['annotation_type'] == 'crosshairs'):\n",
    "            coords = pd.DataFrame(worker['raw_data'][0])\n",
    "        elif (worker['annotation_type'] == 'polygon'):\n",
    "            num_annotations = len(worker['raw_data'])\n",
    "            annotations = []\n",
    "            for i in range(num_annotations):\n",
    "                annotation = worker['raw_data'][i]\n",
    "                annotation = pd.DataFrame(annotation)\n",
    "                annotations.append(annotation)\n",
    "            coords = pd.DataFrame(annotations)\n",
    "\n",
    "        # Add the worker metadata to all entries in the data frame\n",
    "        coords['image_filename'] = worker['image_filename']\n",
    "        coords['worker_id'] = worker['worker_id']\n",
    "\n",
    "        # Append to the total data frame\n",
    "        to_return = to_return.append(coords)\n",
    "    image_filenames = np.unique(to_return.loc[:, ['image_filename']])\n",
    "    \n",
    "    for image_filename in image_filenames:\n",
    "        image_slice = to_return[to_return.image_filename == image_filename]\n",
    "        worker_ids = np.unique(image_slice.loc[:, ['worker_id']])\n",
    "        num_workers.append(len(worker_ids))"
   ]
  },
  {
   "cell_type": "code",
   "execution_count": 46,
   "metadata": {},
   "outputs": [
    {
     "data": {
      "text/plain": [
       "Text(0.5,0,'Num workers accounted for in the Quantius result json file')"
      ]
     },
     "execution_count": 46,
     "metadata": {},
     "output_type": "execute_result"
    },
    {
     "data": {
      "image/png": "[encoded data removed]",
      "text/plain": [
       "<Figure size 504x360 with 1 Axes>"
      ]
     },
     "metadata": {
      "needs_background": "light"
     },
     "output_type": "display_data"
    }
   ],
   "source": [
    "plt.figure(figsize=(7, 5))\n",
    "plt.hist(num_workers, bins=np.arange(21.5, 26, 1))\n",
    "plt.xticks([22, 23, 24, 25])\n",
    "plt.title('Freq: num annotators for each image we have sent for annotation')\n",
    "plt.ylabel('Num images')\n",
    "plt.xlabel('Num workers accounted for in the Quantius result json file')"
   ]
  },
  {
   "cell_type": "code",
   "execution_count": 47,
   "metadata": {},
   "outputs": [
    {
     "data": {
      "text/plain": [
       "Text(0.5,0,'Num workers accounted for in the Quantius result json file')"
      ]
     },
     "execution_count": 47,
     "metadata": {},
     "output_type": "execute_result"
    },
    {
     "data": {
      "image/png": "[encoded data removed]",
      "text/plain": [
       "<Figure size 504x360 with 1 Axes>"
      ]
     },
     "metadata": {
      "needs_background": "light"
     },
     "output_type": "display_data"
    }
   ],
   "source": [
    "plt.figure(figsize=(7, 5))\n",
    "plt.hist(num_workers, bins=np.arange(21.5, 26, 1), weights=np.zeros_like(num_workers) + 1. / np.asarray(num_workers).size)\n",
    "plt.xticks([22, 23, 24, 25])\n",
    "plt.title('Rel freq: num annotators for each image we have sent for annotation')\n",
    "plt.ylabel('Fraction of images')\n",
    "plt.xlabel('Num workers accounted for in the Quantius result json file')"
   ]
  },
  {
   "cell_type": "code",
   "execution_count": null,
   "metadata": {},
   "outputs": [],
   "source": []
  }
 ],
 "metadata": {
  "kernelspec": {
   "display_name": "Python 3",
   "language": "python",
   "name": "python3"
  },
  "language_info": {
   "codemirror_mode": {
    "name": "ipython",
    "version": 3
   },
   "file_extension": ".py",
   "mimetype": "text/x-python",
   "name": "python",
   "nbconvert_exporter": "python",
   "pygments_lexer": "ipython3",
   "version": "3.6.5"
  }
 },
 "nbformat": 4,
 "nbformat_minor": 2
}

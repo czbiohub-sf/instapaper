{
 "cells": [
  {
   "cell_type": "code",
   "execution_count": 1,
   "metadata": {},
   "outputs": [],
   "source": [
    "import collections, math, os, sys\n",
    "sys.path.insert(0, '../../../../FISH-annotation/Annotation')\n",
    "from SpotAnnotationAnalysis import SpotAnnotationAnalysis\n",
    "from QuantiusAnnotation import QuantiusAnnotation\n",
    "from sklearn.neighbors import KDTree\n",
    "import util\n",
    "import pandas as pd\n",
    "import matplotlib.pyplot as plt\n",
    "from matplotlib.lines import Line2D\n",
    "from scipy import stats"
   ]
  },
  {
   "cell_type": "markdown",
   "metadata": {},
   "source": [
    "# Recall vs. SNR\n",
    "Recall vs. SNR. Each marker represents one SNR bin."
   ]
  },
  {
   "cell_type": "code",
   "execution_count": 2,
   "metadata": {},
   "outputs": [],
   "source": [
    "snr_list = [3,5,7,9,11]\n",
    "clustering_params = ['AffinityPropagation', -350]\n",
    "correctness_threshold = 4\n",
    "declumping_params = ['KMeans', 2]\n",
    "height = 300\n",
    "cwd = os.getcwd()"
   ]
  },
  {
   "cell_type": "markdown",
   "metadata": {},
   "source": [
    "## spot size = 0.5\n",
    "original and inverted images"
   ]
  },
  {
   "cell_type": "code",
   "execution_count": 3,
   "metadata": {
    "scrolled": false
   },
   "outputs": [
    {
     "name": "stderr",
     "output_type": "stream",
     "text": [
      "../../../../FISH-annotation/Annotation/util.py:70: FutureWarning: Method .as_matrix will be removed in a future version. Use .values instead.\n",
      "  occasions = np.unique(df.loc[:, ['time_when_completed']].as_matrix())\t\t\t# get the list of occasions\n",
      "../../../../FISH-annotation/Annotation/util.py:74: FutureWarning: Method .as_matrix will be removed in a future version. Use .values instead.\n",
      "  one_occasion_array = one_occasion_df.loc[:, ['x', 'y', 'timestamp', 'worker_id']].as_matrix()\n",
      "/usr/local/lib/python3.6/site-packages/ipykernel_launcher.py:40: FutureWarning: Method .as_matrix will be removed in a future version. Use .values instead.\n",
      "/usr/local/lib/python3.6/site-packages/ipykernel_launcher.py:44: FutureWarning: Method .as_matrix will be removed in a future version. Use .values instead.\n",
      "/usr/local/lib/python3.6/site-packages/ipykernel_launcher.py:45: FutureWarning: Method .as_matrix will be removed in a future version. Use .values instead.\n"
     ]
    }
   ],
   "source": [
    "json_paths = [cwd + '/datasets/anno/sz_0.5_snr_1_3_5_7_9_11.json',\n",
    "              cwd + '/datasets/anno/sz_0.5_snr_1_3_5_7_9_11_inv.json']\n",
    "\n",
    "num_spots_detected_list = [0]*len(snr_list)\n",
    "num_spots_total_list = [0]*len(snr_list)\n",
    "detection_lists = []\n",
    "\n",
    "# for each file\n",
    "for json_path in json_paths:\n",
    "    detection_list = []\n",
    "    # for each image\n",
    "    for index in range(len(snr_list)):\n",
    "        snr = snr_list[index]\n",
    "\n",
    "        if(json_path == json_paths[0]):\n",
    "            img_name = 'snr_' + str(snr) + '_1_numspots_50_spot_sigma_0.5_spot_img.png'\n",
    "            img_path = cwd + '/datasets/spot_images/og/' + img_name\n",
    "            csv_path = cwd + '/datasets/spot_data/' + 'snr_' + str(snr) + '_1_numspots_50_spot_sigma_0.5_coord_snr_list.csv'\n",
    "        else:\n",
    "            img_name = 'snr_' + str(snr) + '_1_numspots_50_spot_sigma_0.5_spot_img_inv.png'\n",
    "            img_path = cwd + '/datasets/spot_images/inv/' + img_name\n",
    "            csv_path = cwd + '/datasets/spot_data/' + 'snr_' + str(snr) + '_1_numspots_50_spot_sigma_0.5_coord_snr_list.csv'\n",
    "        \n",
    "        \"\"\" Get cluster centroids \"\"\"\n",
    "        qa = QuantiusAnnotation(json_path, img_name)\n",
    "        anno_all = qa.df()\n",
    "        sa = SpotAnnotationAnalysis(qa)\n",
    "\n",
    "        clusters = sa.get_clusters(anno_all, clustering_params)\n",
    "        cluster_size_threshold = util.get_cluster_size_threshold(clusters)\n",
    "        small_clusters, large_clusters = util.sort_clusters_by_size(clusters, cluster_size_threshold)\n",
    "        clumpiness_threshold = util.get_clumpiness_threshold(large_clusters)\n",
    "        clumpy_clusters, nonclumpy_clusters = util.sort_clusters_by_clumpiness(large_clusters, clumpiness_threshold)\n",
    "        result_clusters = nonclumpy_clusters\n",
    "        for i in range(len(clumpy_clusters.index)):\n",
    "            subclusters = util.declump(clumpy_clusters, i, declumping_params)\n",
    "            result_clusters = pd.concat([subclusters, result_clusters], ignore_index=True)\n",
    "\n",
    "        \"\"\" Count up num_spots_detected, num_spots_total at each SNR \"\"\"\n",
    "        result_points = result_clusters.loc[:, ['centroid_x', 'centroid_y']].as_matrix()\n",
    "        result_kdt = KDTree(result_points, leaf_size=2, metric='euclidean')\n",
    "        \n",
    "        ref_df = pd.read_csv(csv_path)\n",
    "        ref_points = ref_df.loc[:, ['col', 'row']].as_matrix()\n",
    "        ref_points_snr = ref_df.loc[:, ['snr']].as_matrix()\n",
    "\n",
    "        # for each bin\n",
    "        for bin_midpoint in snr_list:\n",
    "            num_total = 0\n",
    "            num_detected = 0\n",
    "\n",
    "            # for each spot in the image\n",
    "            for ref_point, ref_snr in zip(ref_points, ref_points_snr):\n",
    "                ref_snr = ref_snr[0]\n",
    "\n",
    "                # if the spot's is in the SNR bin\n",
    "                if (ref_snr > bin_midpoint-1) and (ref_snr <= bin_midpoint+1):\n",
    "                    num_total += 1\n",
    "                    dist, ind = result_kdt.query([[ref_point[0], height-ref_point[1]]], k=1)\n",
    "                    if dist[0][0] <= correctness_threshold:\n",
    "                        num_detected += 1\n",
    "            num_spots_total_list[index] += num_total    \n",
    "            num_spots_detected_list[index] += num_detected\n",
    "\n",
    "    detection_list = [d/t for d, t in zip(num_spots_detected_list, num_spots_total_list)]\n",
    "    detection_lists.append(detection_list)\n",
    "    \n",
    "detection_lists_0_5 = detection_lists\n"
   ]
  },
  {
   "cell_type": "code",
   "execution_count": 4,
   "metadata": {
    "scrolled": false
   },
   "outputs": [
    {
     "name": "stderr",
     "output_type": "stream",
     "text": [
      "/usr/local/lib/python3.6/site-packages/ipykernel_launcher.py:40: FutureWarning: Method .as_matrix will be removed in a future version. Use .values instead.\n",
      "/usr/local/lib/python3.6/site-packages/ipykernel_launcher.py:44: FutureWarning: Method .as_matrix will be removed in a future version. Use .values instead.\n",
      "/usr/local/lib/python3.6/site-packages/ipykernel_launcher.py:45: FutureWarning: Method .as_matrix will be removed in a future version. Use .values instead.\n"
     ]
    }
   ],
   "source": [
    "json_paths = [cwd + '/datasets/anno/sz_1_snr_1_3_5_7_9_11.json',\n",
    "              cwd + '/datasets/anno/sz_1_snr_1_3_5_7_9_11_inv.json']\n",
    "\n",
    "num_spots_detected_list = [0]*len(snr_list)\n",
    "num_spots_total_list = [0]*len(snr_list)\n",
    "detection_lists = []\n",
    "\n",
    "# for each file\n",
    "for json_path in json_paths:\n",
    "    detection_list = []\n",
    "    # for each image\n",
    "    for index in range(len(snr_list)):\n",
    "        snr = snr_list[index]\n",
    "        \n",
    "        if(json_path == json_paths[0]):\n",
    "            img_name = 'snr_' + str(snr) + '_1_numspots_50_spot_sigma_1_spot_img.png'\n",
    "            img_path = cwd + '/datasets/spot_images/og/' + img_name\n",
    "            csv_path = cwd + '/datasets/spot_data/' + 'snr_' + str(snr) + '_1_numspots_50_spot_sigma_1_coord_snr_list.csv'\n",
    "        else:\n",
    "            img_name = 'snr_' + str(snr) + '_1_numspots_50_spot_sigma_1_spot_img_inv.png'\n",
    "            img_path = cwd + '/datasets/spot_images/inv/' + img_name\n",
    "            csv_path = cwd + '/datasets/spot_data/' + 'snr_' + str(snr) + '_1_numspots_50_spot_sigma_1_coord_snr_list.csv'\n",
    "        \n",
    "        \"\"\" Get cluster centroids \"\"\"\n",
    "        qa = QuantiusAnnotation(json_path, img_name)\n",
    "        anno_all = qa.df()\n",
    "        sa = SpotAnnotationAnalysis(qa)\n",
    "\n",
    "        clusters = sa.get_clusters(anno_all, clustering_params)\n",
    "        cluster_size_threshold = util.get_cluster_size_threshold(clusters)\n",
    "        small_clusters, large_clusters = util.sort_clusters_by_size(clusters, cluster_size_threshold)\n",
    "        clumpiness_threshold = util.get_clumpiness_threshold(large_clusters)\n",
    "        clumpy_clusters, nonclumpy_clusters = util.sort_clusters_by_clumpiness(large_clusters, clumpiness_threshold)\n",
    "        result_clusters = nonclumpy_clusters\n",
    "        for i in range(len(clumpy_clusters.index)):\n",
    "            subclusters = util.declump(clumpy_clusters, i, declumping_params)\n",
    "            result_clusters = pd.concat([subclusters, result_clusters], ignore_index=True)\n",
    "\n",
    "        \"\"\" Count up num_spots_detected, num_spots_total at each SNR \"\"\"\n",
    "        result_points = result_clusters.loc[:, ['centroid_x', 'centroid_y']].as_matrix()\n",
    "        result_kdt = KDTree(result_points, leaf_size=2, metric='euclidean')\n",
    "\n",
    "        ref_df = pd.read_csv(csv_path)\n",
    "        ref_points = ref_df.loc[:, ['col', 'row']].as_matrix()\n",
    "        ref_points_snr = ref_df.loc[:, ['snr']].as_matrix()\n",
    "\n",
    "        # for each bin\n",
    "        for bin_midpoint in snr_list:\n",
    "            num_total = 0\n",
    "            num_detected = 0\n",
    "\n",
    "            # for each spot in the image\n",
    "            for ref_point, ref_snr in zip(ref_points, ref_points_snr):\n",
    "                ref_snr = ref_snr[0]\n",
    "\n",
    "                # if the spot's is in the SNR bin\n",
    "                if (ref_snr > bin_midpoint-1) and (ref_snr <= bin_midpoint+1):\n",
    "                    num_total += 1\n",
    "                    dist, ind = result_kdt.query([[ref_point[0], height-ref_point[1]]], k=1)\n",
    "                    if dist[0][0] <= correctness_threshold:\n",
    "                        num_detected += 1\n",
    "            num_spots_total_list[index] += num_total    \n",
    "            num_spots_detected_list[index] += num_detected\n",
    "\n",
    "    detection_list = [d/t for d, t in zip(num_spots_detected_list, num_spots_total_list)]\n",
    "    detection_lists.append(detection_list)\n",
    "\n",
    "detection_lists_1_0 = detection_lists\n"
   ]
  },
  {
   "cell_type": "markdown",
   "metadata": {},
   "source": [
    "## spot size = 1.75\n",
    "original and inverted images"
   ]
  },
  {
   "cell_type": "code",
   "execution_count": 5,
   "metadata": {
    "scrolled": false
   },
   "outputs": [
    {
     "name": "stderr",
     "output_type": "stream",
     "text": [
      "/usr/local/lib/python3.6/site-packages/ipykernel_launcher.py:41: FutureWarning: Method .as_matrix will be removed in a future version. Use .values instead.\n",
      "/usr/local/lib/python3.6/site-packages/ipykernel_launcher.py:45: FutureWarning: Method .as_matrix will be removed in a future version. Use .values instead.\n",
      "/usr/local/lib/python3.6/site-packages/ipykernel_launcher.py:46: FutureWarning: Method .as_matrix will be removed in a future version. Use .values instead.\n"
     ]
    }
   ],
   "source": [
    "json_paths_1 = [cwd + '/datasets/anno/sz_1.75_snr_1_3.json',\n",
    "               cwd + '/datasets/anno/sz_1.75_snr_1_3_inv.json']\n",
    "\n",
    "num_spots_detected_list_1 = [0]\n",
    "num_spots_total_list_1 = [0]\n",
    "detection_lists_1 = []\n",
    "snr_list = [3]\n",
    "\n",
    "# for each file\n",
    "for json_path in json_paths_1:\n",
    "    detection_list = []\n",
    "    # for each image\n",
    "    for index in range(len(snr_list)):\n",
    "        snr = snr_list[index]\n",
    "\n",
    "        if(json_path == json_paths_1[0]):\n",
    "            img_name = 'snr_' + str(snr) + '_1_numspots_50_spot_img.png'\n",
    "            img_path = cwd + '/datasets/spot_images/og/' + img_name\n",
    "            csv_path = cwd + '/datasets/spot_data/' + 'snr_' + str(snr) + '_1_numspots_50_coord_snr_list.csv'\n",
    "        else:\n",
    "            img_name = 'snr_' + str(snr) + '_1_numspots_50_spot_img_inv.png'\n",
    "            img_path = cwd + '/datasets/spot_images/inv/' + img_name\n",
    "            csv_path = cwd + '/datasets/spot_data/' + 'snr_' + str(snr) + '_1_numspots_50_coord_snr_list.csv'\n",
    "        \n",
    "        \"\"\" Get cluster centroids \"\"\"\n",
    "        qa = QuantiusAnnotation(json_path, img_name)\n",
    "        anno_all = qa.df()\n",
    "        sa = SpotAnnotationAnalysis(qa)\n",
    "\n",
    "        clusters = sa.get_clusters(anno_all, clustering_params)\n",
    "        cluster_size_threshold = util.get_cluster_size_threshold(clusters)\n",
    "        small_clusters, large_clusters = util.sort_clusters_by_size(clusters, cluster_size_threshold)\n",
    "        clumpiness_threshold = util.get_clumpiness_threshold(large_clusters)\n",
    "        clumpy_clusters, nonclumpy_clusters = util.sort_clusters_by_clumpiness(large_clusters, clumpiness_threshold)\n",
    "        result_clusters = nonclumpy_clusters\n",
    "        for i in range(len(clumpy_clusters.index)):\n",
    "            subclusters = util.declump(clumpy_clusters, i, declumping_params)\n",
    "            result_clusters = pd.concat([subclusters, result_clusters], ignore_index=True)\n",
    "\n",
    "        \"\"\" Count up num_spots_detected, num_spots_total at each SNR \"\"\"\n",
    "        result_points = result_clusters.loc[:, ['centroid_x', 'centroid_y']].as_matrix()\n",
    "        result_kdt = KDTree(result_points, leaf_size=2, metric='euclidean')\n",
    "\n",
    "        ref_df = pd.read_csv(csv_path)\n",
    "        ref_points = ref_df.loc[:, ['col', 'row']].as_matrix()\n",
    "        ref_points_snr = ref_df.loc[:, ['snr']].as_matrix()\n",
    "\n",
    "        # for each bin\n",
    "        for bin_midpoint in snr_list:\n",
    "            num_total = 0\n",
    "            num_detected = 0\n",
    "\n",
    "            # for each spot in the image\n",
    "            for ref_point, ref_snr in zip(ref_points, ref_points_snr):\n",
    "                ref_snr = ref_snr[0]\n",
    "\n",
    "                # if the spot's is in the SNR bin\n",
    "                if (ref_snr > bin_midpoint-1) and (ref_snr <= bin_midpoint+1):\n",
    "                    num_total += 1\n",
    "                    dist, ind = result_kdt.query([[ref_point[0], height-ref_point[1]]], k=1)\n",
    "                    if dist[0][0] <= correctness_threshold:\n",
    "                        num_detected += 1\n",
    "            num_spots_total_list_1[index] += num_total    \n",
    "            num_spots_detected_list_1[index] += num_detected\n",
    "\n",
    "    detection_list = [d/t for d, t in zip(num_spots_detected_list_1, num_spots_total_list_1)]\n",
    "    detection_lists_1.append(detection_list)\n"
   ]
  },
  {
   "cell_type": "code",
   "execution_count": 7,
   "metadata": {
    "scrolled": false
   },
   "outputs": [
    {
     "name": "stderr",
     "output_type": "stream",
     "text": [
      "/usr/local/lib/python3.6/site-packages/ipykernel_launcher.py:43: FutureWarning: Method .as_matrix will be removed in a future version. Use .values instead.\n",
      "/usr/local/lib/python3.6/site-packages/ipykernel_launcher.py:47: FutureWarning: Method .as_matrix will be removed in a future version. Use .values instead.\n",
      "/usr/local/lib/python3.6/site-packages/ipykernel_launcher.py:48: FutureWarning: Method .as_matrix will be removed in a future version. Use .values instead.\n"
     ]
    }
   ],
   "source": [
    "json_paths_2 = [cwd + '/datasets/anno/sz_1.75_snr_5_7_9_11.json', \n",
    "               cwd + '/datasets/anno/sz_1.75_snr_5_7_9_11_inv.json']\n",
    "\n",
    "num_spots_detected_list_2 = [0]*len(snr_list)\n",
    "num_spots_total_list_2 = [0]*len(snr_list)\n",
    "\n",
    "detection_lists_2 = []\n",
    "snr_list = [5, 7, 9, 11]    \n",
    "\n",
    "# for each file\n",
    "for json_path in json_paths_2:\n",
    "    detection_list = []\n",
    "    # for each image\n",
    "    for index in range(len(snr_list)):\n",
    "        \n",
    "        snr = snr_list[index]\n",
    "\n",
    "        if(json_path == json_paths_2[0]):\n",
    "            img_name = 'snr_' + str(snr) + '_1_numspots_50_spot_img.png'\n",
    "            img_path = cwd + '/datasets/spot_images/og/' + img_name\n",
    "            csv_path = cwd + '/datasets/spot_data/' + 'snr_' + str(snr) + '_1_numspots_50_coord_snr_list.csv'\n",
    "        else:\n",
    "            img_name = 'snr_' + str(snr) + '_1_numspots_50_spot_img_inv.png'\n",
    "            img_path = cwd + '/datasets/spot_images/inv/' + img_name\n",
    "            csv_path = cwd + '/datasets/spot_data/' + 'snr_' + str(snr) + '_1_numspots_50_coord_snr_list.csv'\n",
    "        \n",
    "        \"\"\" Get cluster centroids \"\"\"\n",
    "        qa = QuantiusAnnotation(json_path, img_name)\n",
    "        anno_all = qa.df()\n",
    "        sa = SpotAnnotationAnalysis(qa)\n",
    "\n",
    "        clusters = sa.get_clusters(anno_all, clustering_params)\n",
    "        cluster_size_threshold = util.get_cluster_size_threshold(clusters)\n",
    "        small_clusters, large_clusters = util.sort_clusters_by_size(clusters, cluster_size_threshold)\n",
    "        clumpiness_threshold = util.get_clumpiness_threshold(large_clusters)\n",
    "        clumpy_clusters, nonclumpy_clusters = util.sort_clusters_by_clumpiness(large_clusters, clumpiness_threshold)\n",
    "        result_clusters = nonclumpy_clusters\n",
    "        for i in range(len(clumpy_clusters.index)):\n",
    "            subclusters = util.declump(clumpy_clusters, i, declumping_params)\n",
    "            result_clusters = pd.concat([subclusters, result_clusters], ignore_index=True)\n",
    "\n",
    "        \"\"\" Count up num_spots_detected, num_spots_total at each SNR \"\"\"\n",
    "        result_points = result_clusters.loc[:, ['centroid_x', 'centroid_y']].as_matrix()\n",
    "        result_kdt = KDTree(result_points, leaf_size=2, metric='euclidean')\n",
    "\n",
    "        ref_df = pd.read_csv(csv_path)\n",
    "        ref_points = ref_df.loc[:, ['col', 'row']].as_matrix()\n",
    "        ref_points_snr = ref_df.loc[:, ['snr']].as_matrix()\n",
    "\n",
    "        # for each bin\n",
    "        for bin_midpoint in snr_list:\n",
    "            num_total = 0\n",
    "            num_detected = 0\n",
    "\n",
    "            # for each spot in the image\n",
    "            for ref_point, ref_snr in zip(ref_points, ref_points_snr):\n",
    "                ref_snr = ref_snr[0]\n",
    "\n",
    "                # if the spot's snr is in the SNR bin\n",
    "                if (ref_snr > bin_midpoint-1) and (ref_snr <= bin_midpoint+1):\n",
    "                    num_total += 1\n",
    "                    dist, ind = result_kdt.query([[ref_point[0], height-ref_point[1]]], k=1)\n",
    "                    if dist[0][0] <= correctness_threshold:\n",
    "                        num_detected += 1\n",
    "            num_spots_total_list_2[index] += num_total    \n",
    "            num_spots_detected_list_2[index] += num_detected\n",
    "\n",
    "    detection_list = [d/t for d, t in zip(num_spots_detected_list_2, num_spots_total_list_2)]\n",
    "    detection_lists_2.append(detection_list)\n"
   ]
  },
  {
   "cell_type": "code",
   "execution_count": 8,
   "metadata": {},
   "outputs": [],
   "source": [
    "detection_list_og = detection_lists_1[0] + detection_lists_2[0]\n",
    "detection_list_inv = detection_lists_1[1] + detection_lists_2[1]\n",
    "detection_lists = [detection_list_og, detection_list_inv]\n",
    "detection_lists_1_75 = detection_lists\n",
    "snr_list = [3,5,7,9,11]"
   ]
  },
  {
   "cell_type": "code",
   "execution_count": 12,
   "metadata": {
    "scrolled": true
   },
   "outputs": [
    {
     "data": {
      "image/png": "[encoded data removed]",
      "text/plain": [
       "<Figure size 432x288 with 1 Axes>"
      ]
     },
     "metadata": {
      "needs_background": "light"
     },
     "output_type": "display_data"
    }
   ],
   "source": [
    "recall_og = detection_lists_0_5[0] + detection_lists_1_0[0] + detection_lists_1_75[0]\n",
    "recall_inv = detection_lists_0_5[1] + detection_lists_1_0[1] + detection_lists_1_75[1]\n",
    "\n",
    "slope, intercept, r_value, p_value, std_err = stats.linregress(recall_og, recall_inv)\n",
    "line = [slope * x + intercept for x in recall_og]\n",
    "\n",
    "plt.figure()\n",
    "plt.plot(recall_og,recall_inv,'o', recall_og, line, c='b')\n",
    "plt.plot([0,1], [0,1], c='r')\n",
    "plt.title('Recall for Inverted vs. Original Images')\n",
    "plt.xlabel('Recall for Original Images')\n",
    "plt.ylabel('Recall for Inverted Images')\n",
    "\n",
    "e1 = Line2D([0],[0], marker='o', color='w', markerfacecolor='b', label='one image')\n",
    "e2 = Line2D([0],[0], marker='o', color='w', markerfacecolor='b', label='regression: y = %sx + %s, r = %s' % (round(slope,3), round(intercept,3), round(r_value,3)))\n",
    "e3 = Line2D([0],[0], color='r', label='y = x')\n",
    "plt.legend(handles=[e1, e2, e3], loc=9, bbox_to_anchor=(1.5, 0.715))\n",
    "\n",
    "plt.show()"
   ]
  },
  {
   "cell_type": "code",
   "execution_count": null,
   "metadata": {},
   "outputs": [],
   "source": []
  }
 ],
 "metadata": {
  "kernelspec": {
   "display_name": "Python 3",
   "language": "python",
   "name": "python3"
  },
  "language_info": {
   "codemirror_mode": {
    "name": "ipython",
    "version": 3
   },
   "file_extension": ".py",
   "mimetype": "text/x-python",
   "name": "python",
   "nbconvert_exporter": "python",
   "pygments_lexer": "ipython3",
   "version": "3.6.5"
  }
 },
 "nbformat": 4,
 "nbformat_minor": 2
}

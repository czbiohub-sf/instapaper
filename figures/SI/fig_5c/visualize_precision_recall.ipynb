{
 "cells": [
  {
   "cell_type": "code",
   "execution_count": 1,
   "metadata": {},
   "outputs": [],
   "source": [
    "import numpy as np\n",
    "import pandas as pd\n",
    "import sys\n",
    "sys.path.insert(0, '/Users/jenny.vo-phamhi/Documents/FISH-annotation/Annotation/fishannotation/fishannotation')\n",
    "import visualize"
   ]
  },
  {
   "cell_type": "code",
   "execution_count": 2,
   "metadata": {},
   "outputs": [],
   "source": [
    "consensus_coords = np.asarray(pd.read_csv('./datasets/consensus/coords_with_cropping.csv'))\n",
    "reference_coords = np.asarray(pd.read_csv('./datasets/ref/smFISH_ref.csv'))[:,:2]\n",
    "img_filepath = './datasets/images/smfish.png'\n",
    "correctness_threshold = 4"
   ]
  },
  {
   "cell_type": "code",
   "execution_count": 3,
   "metadata": {},
   "outputs": [],
   "source": [
    "coords_sorted = visualize.sort_correct_detected(consensus_coords, reference_coords, correctness_threshold)\n",
    "visualize.visualize_precision_recall(coords_sorted, img_filepath)\n"
   ]
  },
  {
   "cell_type": "code",
   "execution_count": null,
   "metadata": {},
   "outputs": [],
   "source": []
  }
 ],
 "metadata": {
  "kernelspec": {
   "display_name": "Python 3",
   "language": "python",
   "name": "python3"
  },
  "language_info": {
   "codemirror_mode": {
    "name": "ipython",
    "version": 3
   },
   "file_extension": ".py",
   "mimetype": "text/x-python",
   "name": "python",
   "nbconvert_exporter": "python",
   "pygments_lexer": "ipython3",
   "version": "3.6.5"
  }
 },
 "nbformat": 4,
 "nbformat_minor": 2
}

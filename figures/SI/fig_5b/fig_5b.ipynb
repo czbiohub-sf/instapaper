{
 "cells": [
  {
   "cell_type": "code",
   "execution_count": 1,
   "metadata": {},
   "outputs": [],
   "source": [
    "from skimage.io import imread\n",
    "from sklearn.neighbors import KDTree\n",
    "from numpy import pi, r_\n",
    "import matplotlib.pyplot as plt\n",
    "import numpy as np\n",
    "import pandas as pd\n",
    "import os\n",
    "from instapipeline import QuantiusAnnotation, SpotAnnotationAnalysis, clus"
   ]
  },
  {
   "cell_type": "markdown",
   "metadata": {},
   "source": [
    "### Parameters"
   ]
  },
  {
   "cell_type": "code",
   "execution_count": 2,
   "metadata": {},
   "outputs": [],
   "source": [
    "cwd = os.getcwd()\n",
    "clustering_params = ['AffinityPropagation', -350]\n",
    "declumping_params = ['KMeans', 2]\n",
    "\n",
    "background_list = ['cells']\n",
    "nspots_list = [50, 100, 150]\n",
    "spot_sig = 1.75\n",
    "snr_list = [5, 10, 15, 20]"
   ]
  },
  {
   "cell_type": "markdown",
   "metadata": {},
   "source": [
    "### Get clusters pre and post QC"
   ]
  },
  {
   "cell_type": "code",
   "execution_count": 6,
   "metadata": {
    "collapsed": true
   },
   "outputs": [
    {
     "name": "stdout",
     "output_type": "stream",
     "text": [
      "Now processing MAX_C3-ISP_300_1_nspots50_spot_sig1.75_snr5_2.5_spot_img.png\n"
     ]
    },
    {
     "name": "stderr",
     "output_type": "stream",
     "text": [
      "../../../../FISH-annotation/fishanno/util.py:84: FutureWarning: Method .as_matrix will be removed in a future version. Use .values instead.\n",
      "  occasions = np.unique(df.loc[:, ['time_when_completed']].as_matrix())           # get the list of occasions\n",
      "../../../../FISH-annotation/fishanno/util.py:88: FutureWarning: Method .as_matrix will be removed in a future version. Use .values instead.\n",
      "  one_occasion_array = one_occasion_df.loc[:, ['x', 'y', 'timestamp', 'worker_id']].as_matrix()\n"
     ]
    },
    {
     "name": "stdout",
     "output_type": "stream",
     "text": [
      "Now processing MAX_C3-ISP_300_1_nspots50_spot_sig1.75_snr10_2.5_spot_img.png\n"
     ]
    },
    {
     "name": "stderr",
     "output_type": "stream",
     "text": [
      "../../../../FISH-annotation/fishanno/util.py:84: FutureWarning: Method .as_matrix will be removed in a future version. Use .values instead.\n",
      "  occasions = np.unique(df.loc[:, ['time_when_completed']].as_matrix())           # get the list of occasions\n",
      "../../../../FISH-annotation/fishanno/util.py:88: FutureWarning: Method .as_matrix will be removed in a future version. Use .values instead.\n",
      "  one_occasion_array = one_occasion_df.loc[:, ['x', 'y', 'timestamp', 'worker_id']].as_matrix()\n"
     ]
    },
    {
     "name": "stdout",
     "output_type": "stream",
     "text": [
      "Now processing MAX_C3-ISP_300_1_nspots50_spot_sig1.75_snr15_2.5_spot_img.png\n"
     ]
    },
    {
     "name": "stderr",
     "output_type": "stream",
     "text": [
      "../../../../FISH-annotation/fishanno/util.py:84: FutureWarning: Method .as_matrix will be removed in a future version. Use .values instead.\n",
      "  occasions = np.unique(df.loc[:, ['time_when_completed']].as_matrix())           # get the list of occasions\n",
      "../../../../FISH-annotation/fishanno/util.py:88: FutureWarning: Method .as_matrix will be removed in a future version. Use .values instead.\n",
      "  one_occasion_array = one_occasion_df.loc[:, ['x', 'y', 'timestamp', 'worker_id']].as_matrix()\n"
     ]
    },
    {
     "name": "stdout",
     "output_type": "stream",
     "text": [
      "Now processing MAX_C3-ISP_300_1_nspots50_spot_sig1.75_snr20_2.5_spot_img.png\n"
     ]
    },
    {
     "name": "stderr",
     "output_type": "stream",
     "text": [
      "../../../../FISH-annotation/fishanno/util.py:84: FutureWarning: Method .as_matrix will be removed in a future version. Use .values instead.\n",
      "  occasions = np.unique(df.loc[:, ['time_when_completed']].as_matrix())           # get the list of occasions\n",
      "../../../../FISH-annotation/fishanno/util.py:88: FutureWarning: Method .as_matrix will be removed in a future version. Use .values instead.\n",
      "  one_occasion_array = one_occasion_df.loc[:, ['x', 'y', 'timestamp', 'worker_id']].as_matrix()\n"
     ]
    },
    {
     "name": "stdout",
     "output_type": "stream",
     "text": [
      "Now processing MAX_C3-ISP_300_1_nspots100_spot_sig1.75_snr5_2.5_spot_img.png\n"
     ]
    },
    {
     "name": "stderr",
     "output_type": "stream",
     "text": [
      "../../../../FISH-annotation/fishanno/util.py:84: FutureWarning: Method .as_matrix will be removed in a future version. Use .values instead.\n",
      "  occasions = np.unique(df.loc[:, ['time_when_completed']].as_matrix())           # get the list of occasions\n",
      "../../../../FISH-annotation/fishanno/util.py:88: FutureWarning: Method .as_matrix will be removed in a future version. Use .values instead.\n",
      "  one_occasion_array = one_occasion_df.loc[:, ['x', 'y', 'timestamp', 'worker_id']].as_matrix()\n",
      "/Users/jenny.vo-phamhi/Library/Python/3.6/lib/python/site-packages/sklearn/cluster/k_means_.py:972: ConvergenceWarning: Number of distinct clusters (1) found smaller than n_clusters (2). Possibly due to duplicate points in X.\n",
      "  return_n_iter=True)\n",
      "/Users/jenny.vo-phamhi/Library/Python/3.6/lib/python/site-packages/sklearn/cluster/k_means_.py:972: ConvergenceWarning: Number of distinct clusters (1) found smaller than n_clusters (2). Possibly due to duplicate points in X.\n",
      "  return_n_iter=True)\n",
      "/Users/jenny.vo-phamhi/Library/Python/3.6/lib/python/site-packages/sklearn/cluster/k_means_.py:972: ConvergenceWarning: Number of distinct clusters (1) found smaller than n_clusters (2). Possibly due to duplicate points in X.\n",
      "  return_n_iter=True)\n",
      "/Users/jenny.vo-phamhi/Library/Python/3.6/lib/python/site-packages/sklearn/cluster/k_means_.py:972: ConvergenceWarning: Number of distinct clusters (1) found smaller than n_clusters (2). Possibly due to duplicate points in X.\n",
      "  return_n_iter=True)\n",
      "/Users/jenny.vo-phamhi/Library/Python/3.6/lib/python/site-packages/sklearn/cluster/k_means_.py:972: ConvergenceWarning: Number of distinct clusters (1) found smaller than n_clusters (2). Possibly due to duplicate points in X.\n",
      "  return_n_iter=True)\n",
      "/Users/jenny.vo-phamhi/Library/Python/3.6/lib/python/site-packages/sklearn/cluster/k_means_.py:972: ConvergenceWarning: Number of distinct clusters (1) found smaller than n_clusters (2). Possibly due to duplicate points in X.\n",
      "  return_n_iter=True)\n",
      "/Users/jenny.vo-phamhi/Library/Python/3.6/lib/python/site-packages/sklearn/cluster/k_means_.py:972: ConvergenceWarning: Number of distinct clusters (1) found smaller than n_clusters (2). Possibly due to duplicate points in X.\n",
      "  return_n_iter=True)\n"
     ]
    },
    {
     "name": "stdout",
     "output_type": "stream",
     "text": [
      "Now processing MAX_C3-ISP_300_1_nspots100_spot_sig1.75_snr10_2.5_spot_img.png\n"
     ]
    },
    {
     "name": "stderr",
     "output_type": "stream",
     "text": [
      "../../../../FISH-annotation/fishanno/util.py:84: FutureWarning: Method .as_matrix will be removed in a future version. Use .values instead.\n",
      "  occasions = np.unique(df.loc[:, ['time_when_completed']].as_matrix())           # get the list of occasions\n",
      "../../../../FISH-annotation/fishanno/util.py:88: FutureWarning: Method .as_matrix will be removed in a future version. Use .values instead.\n",
      "  one_occasion_array = one_occasion_df.loc[:, ['x', 'y', 'timestamp', 'worker_id']].as_matrix()\n"
     ]
    },
    {
     "name": "stdout",
     "output_type": "stream",
     "text": [
      "Now processing MAX_C3-ISP_300_1_nspots100_spot_sig1.75_snr15_2.5_spot_img.png\n"
     ]
    },
    {
     "name": "stderr",
     "output_type": "stream",
     "text": [
      "../../../../FISH-annotation/fishanno/util.py:84: FutureWarning: Method .as_matrix will be removed in a future version. Use .values instead.\n",
      "  occasions = np.unique(df.loc[:, ['time_when_completed']].as_matrix())           # get the list of occasions\n",
      "../../../../FISH-annotation/fishanno/util.py:88: FutureWarning: Method .as_matrix will be removed in a future version. Use .values instead.\n",
      "  one_occasion_array = one_occasion_df.loc[:, ['x', 'y', 'timestamp', 'worker_id']].as_matrix()\n"
     ]
    },
    {
     "name": "stdout",
     "output_type": "stream",
     "text": [
      "Now processing MAX_C3-ISP_300_1_nspots100_spot_sig1.75_snr20_2.5_spot_img.png\n"
     ]
    },
    {
     "name": "stderr",
     "output_type": "stream",
     "text": [
      "../../../../FISH-annotation/fishanno/util.py:84: FutureWarning: Method .as_matrix will be removed in a future version. Use .values instead.\n",
      "  occasions = np.unique(df.loc[:, ['time_when_completed']].as_matrix())           # get the list of occasions\n",
      "../../../../FISH-annotation/fishanno/util.py:88: FutureWarning: Method .as_matrix will be removed in a future version. Use .values instead.\n",
      "  one_occasion_array = one_occasion_df.loc[:, ['x', 'y', 'timestamp', 'worker_id']].as_matrix()\n",
      "/Users/jenny.vo-phamhi/Library/Python/3.6/lib/python/site-packages/sklearn/cluster/k_means_.py:972: ConvergenceWarning: Number of distinct clusters (1) found smaller than n_clusters (2). Possibly due to duplicate points in X.\n",
      "  return_n_iter=True)\n"
     ]
    },
    {
     "name": "stdout",
     "output_type": "stream",
     "text": [
      "Now processing MAX_C3-ISP_300_1_nspots150_spot_sig1.75_snr5_2.5_spot_img.png\n"
     ]
    },
    {
     "name": "stderr",
     "output_type": "stream",
     "text": [
      "../../../../FISH-annotation/fishanno/util.py:84: FutureWarning: Method .as_matrix will be removed in a future version. Use .values instead.\n",
      "  occasions = np.unique(df.loc[:, ['time_when_completed']].as_matrix())           # get the list of occasions\n",
      "../../../../FISH-annotation/fishanno/util.py:88: FutureWarning: Method .as_matrix will be removed in a future version. Use .values instead.\n",
      "  one_occasion_array = one_occasion_df.loc[:, ['x', 'y', 'timestamp', 'worker_id']].as_matrix()\n"
     ]
    },
    {
     "name": "stdout",
     "output_type": "stream",
     "text": [
      "Now processing MAX_C3-ISP_300_1_nspots150_spot_sig1.75_snr10_2.5_spot_img.png\n"
     ]
    },
    {
     "name": "stderr",
     "output_type": "stream",
     "text": [
      "../../../../FISH-annotation/fishanno/util.py:84: FutureWarning: Method .as_matrix will be removed in a future version. Use .values instead.\n",
      "  occasions = np.unique(df.loc[:, ['time_when_completed']].as_matrix())           # get the list of occasions\n",
      "../../../../FISH-annotation/fishanno/util.py:88: FutureWarning: Method .as_matrix will be removed in a future version. Use .values instead.\n",
      "  one_occasion_array = one_occasion_df.loc[:, ['x', 'y', 'timestamp', 'worker_id']].as_matrix()\n"
     ]
    },
    {
     "name": "stdout",
     "output_type": "stream",
     "text": [
      "Now processing MAX_C3-ISP_300_1_nspots150_spot_sig1.75_snr15_2.5_spot_img.png\n"
     ]
    },
    {
     "name": "stderr",
     "output_type": "stream",
     "text": [
      "../../../../FISH-annotation/fishanno/util.py:84: FutureWarning: Method .as_matrix will be removed in a future version. Use .values instead.\n",
      "  occasions = np.unique(df.loc[:, ['time_when_completed']].as_matrix())           # get the list of occasions\n",
      "../../../../FISH-annotation/fishanno/util.py:88: FutureWarning: Method .as_matrix will be removed in a future version. Use .values instead.\n",
      "  one_occasion_array = one_occasion_df.loc[:, ['x', 'y', 'timestamp', 'worker_id']].as_matrix()\n",
      "/Users/jenny.vo-phamhi/Library/Python/3.6/lib/python/site-packages/sklearn/cluster/k_means_.py:972: ConvergenceWarning: Number of distinct clusters (1) found smaller than n_clusters (2). Possibly due to duplicate points in X.\n",
      "  return_n_iter=True)\n"
     ]
    },
    {
     "name": "stdout",
     "output_type": "stream",
     "text": [
      "Now processing MAX_C3-ISP_300_1_nspots150_spot_sig1.75_snr20_2.5_spot_img.png\n"
     ]
    },
    {
     "name": "stderr",
     "output_type": "stream",
     "text": [
      "../../../../FISH-annotation/fishanno/util.py:84: FutureWarning: Method .as_matrix will be removed in a future version. Use .values instead.\n",
      "  occasions = np.unique(df.loc[:, ['time_when_completed']].as_matrix())           # get the list of occasions\n",
      "../../../../FISH-annotation/fishanno/util.py:88: FutureWarning: Method .as_matrix will be removed in a future version. Use .values instead.\n",
      "  one_occasion_array = one_occasion_df.loc[:, ['x', 'y', 'timestamp', 'worker_id']].as_matrix()\n"
     ]
    }
   ],
   "source": [
    "clusters_pre_and_post_qc = []\n",
    "for background in background_list:\n",
    "    json_filename = 'SynthData_cells.json' if background == 'cells' else 'SynthTests_tissue.json'\n",
    "    json_filepath = '%s/datasets/SynthTest/%s' % (cwd, json_filename)\n",
    "    prefix = 'MAX_C3-ISP_300_1_' if background == 'cells' else 'MAX_ISP_300_1_'\n",
    "    \n",
    "    for nspots in nspots_list:\n",
    "        for snr in snr_list:\n",
    "            \n",
    "            if snr == 15:\n",
    "                json_filename = 'snr15_%s.json' % nspots\n",
    "                json_filepath = './datasets/SynthTest/%s' % json_filename\n",
    "            \n",
    "            else:\n",
    "                json_filename = 'SynthData_cells.json' if background == 'cells' else 'SynthTests_tissue.json'\n",
    "                json_filepath = './datasets/SynthTest/%s' % json_filename\n",
    "            \n",
    "            # read annotations\n",
    "            name = '%snspots%s_spot_sig%s_snr%s_2.5' % (prefix, nspots, spot_sig, snr)\n",
    "            img_filename = '%s_spot_img.png' % (name)\n",
    "            csv_filename = '%s_coord_snr_list.csv' % (name)\n",
    "            img_filepath = cwd + '/datasets/SynthTest/spot_images/%s/%s' % (background, img_filename)\n",
    "            csv_filepath = cwd + '/datasets/SynthTest/spot_data/%s/%s' % (background, csv_filename)\n",
    "            \n",
    "            print('Now processing %s' % (img_filename))\n",
    "            \n",
    "            qa = QuantiusAnnotation(json_filepath, img_filename)\n",
    "            sa = SpotAnnotationAnalysis(qa)\n",
    "            anno_all = qa.df()\n",
    "            \n",
    "            # cluster annotations\n",
    "            clusters_pre_qc = sa.get_clusters(anno_all, clustering_params)            \n",
    "\n",
    "            # detect clumpiness and declump\n",
    "            clumpiness_threshold = clus.get_clumpiness_threshold(clusters_pre_qc)\n",
    "            clumpy_clusters, nonclumpy_clusters = clus.sort_clusters_by_clumpiness(clusters_pre_qc, clumpiness_threshold)\n",
    "            clusters_post_qc = nonclumpy_clusters\n",
    "            \n",
    "            if len(clumpy_clusters.index) is not 0:\n",
    "                for i in range(len(clumpy_clusters.index)):\n",
    "                    subclusters = clus.declump(clumpy_clusters, i, declumping_params)\n",
    "                clusters_post_qc = pd.concat([subclusters, clusters_post_qc], ignore_index=True)\n",
    "            \n",
    "            clusters_pre_and_post_qc.append((img_filename, img_filepath, csv_filename, csv_filepath, clusters_pre_qc, clusters_post_qc))\n",
    "            "
   ]
  },
  {
   "cell_type": "markdown",
   "metadata": {},
   "source": [
    "### Save consensus centroids"
   ]
  },
  {
   "cell_type": "code",
   "execution_count": 18,
   "metadata": {},
   "outputs": [],
   "source": [
    "if not os.path.exists('datasets/SynthTest/clusters'):\n",
    "    os.mkdir('datasets/SynthTest/clusters')\n",
    "if not os.path.exists('datasets/SynthTest/clusters/pre_qc'):\n",
    "    os.mkdir('datasets/SynthTest/clusters/pre_qc')\n",
    "if not os.path.exists('datasets/SynthTest/clusters/post_qc'):\n",
    "    os.mkdir('datasets/SynthTest/clusters/post_qc')"
   ]
  },
  {
   "cell_type": "code",
   "execution_count": 19,
   "metadata": {},
   "outputs": [],
   "source": [
    "for img_filename, img_filepath, csv_filename, csv_filepath, clusters_pre_qc, clusters_post_qc in clusters_pre_and_post_qc:\n",
    "    im = imread(img_filepath)\n",
    "    img_height = len(im)\n",
    "    \n",
    "    clusters_pre_qc_list = []\n",
    "    for index in clusters_pre_qc.index:\n",
    "        row = clusters_pre_qc.iloc[index]\n",
    "        x, y = row['centroid_x'], row['centroid_y']\n",
    "        clusters_pre_qc_list.append([x, img_height-y])\n",
    "    path = 'datasets/SynthTest/clusters/pre_qc/%s' % (csv_filename)\n",
    "    np.savetxt(path, np.asarray(clusters_pre_qc_list), delimiter=\",\", comments='', header='centroid_x,centroid_y')\n",
    "\n",
    "    clusters_post_qc_list = []\n",
    "    for index in clusters_post_qc.index:\n",
    "        row = clusters_post_qc.iloc[index]\n",
    "        x, y = row['centroid_x'], row['centroid_y']\n",
    "        clusters_post_qc_list.append([x, img_height-y])\n",
    "    path = 'datasets/SynthTest/clusters/post_qc/%s' % (csv_filename)\n",
    "    np.savetxt(path, np.asarray(clusters_post_qc_list), delimiter=\",\", comments='', header='centroid_x,centroid_y')\n",
    "    "
   ]
  },
  {
   "cell_type": "markdown",
   "metadata": {},
   "source": [
    "### Calculate precision and recall: consensus annotations vs. reference annotations"
   ]
  },
  {
   "cell_type": "code",
   "execution_count": 20,
   "metadata": {},
   "outputs": [],
   "source": [
    "sort_list, precision_list, recall_list = [], [], []\n",
    "for csv_filename in os.listdir('%s/datasets/SynthTest/clusters/pre_qc' % (cwd)):\n",
    "    \n",
    "    consensus_filepaths = ['%s/datasets/SynthTest/clusters/pre_qc/%s' % (cwd, csv_filename),\n",
    "                           '%s/datasets/SynthTest/clusters/post_qc/%s' % (cwd, csv_filename)]\n",
    "    for consensus_filepath in consensus_filepaths:\n",
    "    \n",
    "        consensus_coords = np.asarray(pd.read_csv(consensus_filepath))\n",
    "        consensus_kdt = KDTree(consensus_coords, leaf_size=2, metric='euclidean')\n",
    "\n",
    "        if csv_filename.startswith('MAX_ISP'):\n",
    "            reference_filepath = '%s/datasets/SynthTest/spot_data/tissue/%s' % (cwd, csv_filename)\n",
    "        else:\n",
    "            reference_filepath = '%s/datasets/SynthTest/spot_data/cells/%s' % (cwd, csv_filename)\n",
    "        reference_coords = np.asarray(pd.read_csv(reference_filepath))[:,:2]\n",
    "        reference_kdt = KDTree(reference_coords, leaf_size=2, metric='euclidean')\n",
    "\n",
    "        correct_consensus = []\n",
    "        incorrect_consensus = []\n",
    "        detected_reference = []\n",
    "        undetected_reference = []\n",
    "\n",
    "        # correct vs. incorrect\n",
    "\n",
    "        for consensus_coord in consensus_coords:\n",
    "            dist, ind = reference_kdt.query([consensus_coord], k=1)\n",
    "            if dist[0][0] < correctness_threshold:\n",
    "                correct_consensus.append(consensus_coord)\n",
    "            else:\n",
    "                incorrect_consensus.append(consensus_coord)\n",
    "\n",
    "        # detected vs. undetected\n",
    "\n",
    "        for reference_coord in reference_coords:\n",
    "            dist, ind = consensus_kdt.query([reference_coord], k=1)\n",
    "            if dist[0][0] < correctness_threshold:\n",
    "                detected_reference.append(reference_coord)\n",
    "            else:\n",
    "                undetected_reference.append(reference_coord)\n",
    "        \n",
    "        np.savetxt(consensus_filepath.replace('.csv','_correct_consensus.csv'), np.asarray(correct_consensus), delimiter=\",\", comments='', header='centroid_x,centroid_y')\n",
    "        np.savetxt(consensus_filepath.replace('.csv','_incorrect_consensus.csv'), np.asarray(incorrect_consensus), delimiter=\",\", comments='', header='centroid_x,centroid_y')\n",
    "        np.savetxt(consensus_filepath.replace('.csv','_detected_reference.csv'), np.asarray(detected_reference), delimiter=\",\", comments='', header='centroid_x,centroid_y')\n",
    "        np.savetxt(consensus_filepath.replace('.csv','_undetected_reference.csv'), np.asarray(undetected_reference), delimiter=\",\", comments='', header='centroid_x,centroid_y')\n",
    "        "
   ]
  },
  {
   "cell_type": "markdown",
   "metadata": {},
   "source": [
    "For each image, calculate and save\n",
    "- precision\n",
    "- recall\n",
    "- mean snr\n",
    "- mean nnd"
   ]
  },
  {
   "cell_type": "code",
   "execution_count": 21,
   "metadata": {},
   "outputs": [],
   "source": [
    "# for each image\n",
    "for csv_filename in os.listdir('%s/datasets/SynthTest/clusters/pre_qc' % (cwd)):\n",
    "    \n",
    "    if csv_filename.endswith('_coord_snr_list.csv'):\n",
    "        consensus_filepaths = ['%s/datasets/SynthTest/clusters/pre_qc/%s' % (cwd, csv_filename),\n",
    "                               '%s/datasets/SynthTest/clusters/post_qc/%s' % (cwd, csv_filename)]\n",
    "\n",
    "        # pre-qc and post-qc data\n",
    "        for consensus_filepath in consensus_filepaths:\n",
    "\n",
    "            prec_rec_snr_nnd_list = []\n",
    "            correct_consensus_path = consensus_filepath.replace('.csv','_correct_consensus.csv')\n",
    "            incorrect_consensus_path = consensus_filepath.replace('.csv','_incorrect_consensus.csv')\n",
    "            detected_reference_path = consensus_filepath.replace('.csv','_detected_reference.csv')\n",
    "            undetected_reference_path = consensus_filepath.replace('.csv','_undetected_reference.csv')\n",
    "\n",
    "            prec_rec_snr_nnd_path = consensus_filepath.replace('.csv','_prec_rec_snr_nnd.csv')\n",
    "\n",
    "            num_correct = len(np.asarray(pd.read_csv(correct_consensus_path)))\n",
    "            num_incorrect = len(np.asarray(pd.read_csv(incorrect_consensus_path)))\n",
    "            num_detected = len(np.asarray(pd.read_csv(detected_reference_path)))\n",
    "            num_undetected = len(np.asarray(pd.read_csv(undetected_reference_path)))\n",
    "\n",
    "            precision = num_correct / (num_correct + num_incorrect)\n",
    "            recall = num_detected / (num_detected + num_undetected)\n",
    "\n",
    "            # from filename, get mean snr and reference filepath\n",
    "            if csv_filename.startswith('MAX_ISP'):\n",
    "                identity = csv_filename.split('MAX_ISP_300_1_')[1]\n",
    "                mean_snr = int(identity.split('_')[3].split('snr')[1])\n",
    "                reference_filepath = '%s/datasets/SynthTest/spot_data/tissue/%s' % (cwd, csv_filename)\n",
    "            else:\n",
    "                mean_snr = int(csv_filename.split('MAX_C3-ISP_300_1_')[1].split('_')[3].split('snr')[1])\n",
    "                reference_filepath = '%s/datasets/SynthTest/spot_data/cells/%s' % (cwd, csv_filename)\n",
    "            \n",
    "            # get mean_nnd\n",
    "            reference_coords = np.asarray(pd.read_csv(reference_filepath))[:,:2]\n",
    "            reference_kdt = KDTree(reference_coords, leaf_size=2, metric='euclidean')\n",
    "            nnd_list = []\n",
    "            for reference_coord in reference_coords:\n",
    "                dist, ind = reference_kdt.query([reference_coord], k=2)\n",
    "                nnd_list.append(dist[0][1])\n",
    "            mean_nnd = np.mean(nnd_list)\n",
    "            \n",
    "            prec_rec_snr_nnd_list.append([precision, recall, mean_snr, mean_nnd])\n",
    "            np.savetxt(prec_rec_snr_nnd_path, np.asarray(prec_rec_snr_nnd_list), delimiter=\",\", comments='', header='precision,recall,snr,nnd')\n",
    "            "
   ]
  },
  {
   "cell_type": "markdown",
   "metadata": {},
   "source": [
    "## Plot precision and recall for raw clusters (\"Pre-QC\") and after declumping (\"Post-QC\")"
   ]
  },
  {
   "cell_type": "code",
   "execution_count": 4,
   "metadata": {},
   "outputs": [],
   "source": [
    "cm = 'plasma'"
   ]
  },
  {
   "cell_type": "code",
   "execution_count": 5,
   "metadata": {
    "scrolled": false
   },
   "outputs": [
    {
     "name": "stdout",
     "output_type": "stream",
     "text": [
      "\n",
      "--------------\n",
      "Cell Background\n",
      "--------------\n"
     ]
    },
    {
     "data": {
      "image/png": "[encoded data removed]",
      "text/plain": [
       "<Figure size 432x288 with 2 Axes>"
      ]
     },
     "metadata": {
      "needs_background": "light"
     },
     "output_type": "display_data"
    },
    {
     "data": {
      "image/png": "[encoded data removed]",
      "text/plain": [
       "<Figure size 432x288 with 2 Axes>"
      ]
     },
     "metadata": {
      "needs_background": "light"
     },
     "output_type": "display_data"
    },
    {
     "data": {
      "image/png": "[encoded data removed]",
      "text/plain": [
       "<Figure size 432x288 with 2 Axes>"
      ]
     },
     "metadata": {
      "needs_background": "light"
     },
     "output_type": "display_data"
    },
    {
     "data": {
      "image/png": "[encoded data removed]",
      "text/plain": [
       "<Figure size 432x288 with 2 Axes>"
      ]
     },
     "metadata": {
      "needs_background": "light"
     },
     "output_type": "display_data"
    },
    {
     "name": "stdout",
     "output_type": "stream",
     "text": [
      "mean_precision_pre_qc_snr5 = 0.6\n",
      "mean_precision_post_qc_snr5 = 0.64\n",
      "mean_precision_delta_snr5 = 0.04\n",
      "\n",
      "mean_recall_pre_qc_snr5 = 0.7\n",
      "mean_recall_post_qc_snr5 = 0.67\n",
      "mean_recall_delta_snr5 = -0.03\n",
      "\n",
      "mean_precision_pre_qc_snr10 = 0.87\n",
      "mean_precision_post_qc_snr10 = 0.88\n",
      "mean_precision_delta_snr10 = 0.01\n",
      "\n",
      "mean_recall_pre_qc_snr10 = 0.9\n",
      "mean_recall_post_qc_snr10 = 0.87\n",
      "mean_recall_delta_snr10 = -0.03\n",
      "\n",
      "mean_precision_pre_qc_snr15 = 0.93\n",
      "mean_precision_post_qc_snr15 = 0.94\n",
      "mean_precision_delta_snr15 = 0.0\n",
      "\n",
      "mean_recall_pre_qc_snr15 = 0.99\n",
      "mean_recall_post_qc_snr15 = 0.96\n",
      "mean_recall_delta_snr15 = -0.03\n",
      "\n"
     ]
    }
   ],
   "source": [
    "prefixes = ['MAX_C3-ISP']\n",
    "\n",
    "# cell plots, then tissue plots\n",
    "for prefix in prefixes:\n",
    "    \n",
    "    precision_pre_qc_list_snr5, precision_post_qc_list_snr5, recall_pre_qc_list_snr5, recall_post_qc_list_snr5 = [], [], [], []\n",
    "    precision_pre_qc_list_snr15, precision_post_qc_list_snr15, recall_pre_qc_list_snr15, recall_post_qc_list_snr15 = [], [], [], []\n",
    "    precision_pre_qc_list_snr10, precision_post_qc_list_snr10, recall_pre_qc_list_snr10, recall_post_qc_list_snr10 = [], [], [], []\n",
    "#     precision_pre_qc_list_snr20, precision_post_qc_list_snr20, recall_pre_qc_list_snr20, recall_post_qc_list_snr20 = [], [], [], []\n",
    "\n",
    "    background = 'Cell' if prefix == 'MAX_C3-ISP' else 'Tissue'\n",
    "    print('\\n--------------\\n%s Background\\n--------------' % (background))\n",
    "    \n",
    "    for precision_or_recall in ['Precision', 'Recall']:\n",
    "        for pre_or_post in ['pre_qc', 'post_qc']:\n",
    "\n",
    "            # for each image\n",
    "            mean_nnd_list, mean_snr_list, data_list = [], [], []\n",
    "            for csv_filename in os.listdir('./datasets/SynthTest/clusters/%s' % pre_or_post):\n",
    "\n",
    "                if csv_filename.startswith(prefix) and csv_filename.endswith('_coord_snr_list.csv'):\n",
    "\n",
    "                    path = './datasets/SynthTest/clusters/%s/%s' % (pre_or_post, csv_filename)\n",
    "                    prec_rec_snr_nnd_path = path.replace('.csv','_prec_rec_snr_nnd.csv')\n",
    "\n",
    "                    precision, recall, mean_snr, mean_nnd = np.asarray(pd.read_csv(prec_rec_snr_nnd_path))[0]\n",
    "                    mean_nnd_list.append(mean_nnd)\n",
    "                    mean_snr_list.append(mean_snr)\n",
    "                    data = precision if precision_or_recall == 'Precision' else recall\n",
    "                    \n",
    "                    data_list.append(data)\n",
    "            \n",
    "                    if 'snr5' in csv_filename:\n",
    "                        if precision_or_recall == 'Precision' and pre_or_post == 'pre_qc':\n",
    "                            precision_pre_qc_list_snr5.append(data)\n",
    "                        elif precision_or_recall == 'Precision' and pre_or_post == 'post_qc':\n",
    "                            precision_post_qc_list_snr5.append(data)\n",
    "                        elif precision_or_recall == 'Recall' and pre_or_post == 'pre_qc':\n",
    "                            recall_pre_qc_list_snr5.append(data)\n",
    "                        elif precision_or_recall == 'Recall' and pre_or_post == 'post_qc':\n",
    "                            recall_post_qc_list_snr5.append(data)\n",
    "                    elif 'snr10' in csv_filename:\n",
    "                        if precision_or_recall == 'Precision' and pre_or_post == 'pre_qc':\n",
    "                            precision_pre_qc_list_snr10.append(data)\n",
    "                        elif precision_or_recall == 'Precision' and pre_or_post == 'post_qc':\n",
    "                            precision_post_qc_list_snr10.append(data)\n",
    "                        elif precision_or_recall == 'Recall' and pre_or_post == 'pre_qc':\n",
    "                            recall_pre_qc_list_snr10.append(data)\n",
    "                        elif precision_or_recall == 'Recall' and pre_or_post == 'post_qc':\n",
    "                            recall_post_qc_list_snr10.append(data)\n",
    "                    elif 'snr15' in csv_filename:\n",
    "                        if precision_or_recall == 'Precision' and pre_or_post == 'pre_qc':\n",
    "                            precision_pre_qc_list_snr15.append(data)\n",
    "                        elif precision_or_recall == 'Precision' and pre_or_post == 'post_qc':\n",
    "                            precision_post_qc_list_snr15.append(data)\n",
    "                        elif precision_or_recall == 'Recall' and pre_or_post == 'pre_qc':\n",
    "                            recall_pre_qc_list_snr15.append(data)\n",
    "                        elif precision_or_recall == 'Recall' and pre_or_post == 'post_qc':\n",
    "                            recall_post_qc_list_snr15.append(data)\n",
    "#                     elif 'snr20' in csv_filename:\n",
    "#                         if precision_or_recall == 'Precision' and pre_or_post == 'pre_qc':\n",
    "#                             precision_pre_qc_list_snr20.append(data)\n",
    "#                         elif precision_or_recall == 'Precision' and pre_or_post == 'post_qc':\n",
    "#                             precision_post_qc_list_snr20.append(data)\n",
    "#                         elif precision_or_recall == 'Recall' and pre_or_post == 'pre_qc':\n",
    "#                             recall_pre_qc_list_snr20.append(data)\n",
    "#                         elif precision_or_recall == 'Recall' and pre_or_post == 'post_qc':\n",
    "#                             recall_post_qc_list_snr20.append(data)\n",
    "                        \n",
    "            plt.figure()\n",
    "            plt.scatter(mean_nnd_list, mean_snr_list, c=data_list, cmap=cm, s=80)\n",
    "            for i, txt in enumerate(data_list):\n",
    "                plt.annotate('   %s'%(round(txt, 2)), (mean_nnd_list[i], mean_snr_list[i]))\n",
    "            s = 'Pre-QC' if pre_or_post == 'pre_qc' else 'Post-QC'\n",
    "            title = '%s with %s Background, %s' % (precision_or_recall, background, s)\n",
    "            plot_title = '%s, %s' % (precision_or_recall, s)\n",
    "            plt.title(plot_title)\n",
    "            plt.xlabel('Mean NND')\n",
    "            plt.ylabel('Mean SNR')\n",
    "            plt.xticks(np.arange(11, 23, 1))\n",
    "            plt.yticks(np.arange(5, 25, 5))\n",
    "            plt.ylim(4, 16)\n",
    "            plt.colorbar()\n",
    "            plt.clim(0.5,1)\n",
    "            plt.savefig(title + '.pdf', transparent=True, bbox_inches='tight')\n",
    "            plt.show()\n",
    "            \n",
    "    mean_precision_pre_qc_snr5 = np.mean(precision_pre_qc_list_snr5)\n",
    "    mean_precision_post_qc_snr5 = np.mean(precision_post_qc_list_snr5)\n",
    "    mean_recall_pre_qc_snr5 = np.mean(recall_pre_qc_list_snr5)\n",
    "    mean_recall_post_qc_snr5 = np.mean(recall_post_qc_list_snr5)\n",
    "    \n",
    "    mean_precision_pre_qc_snr10 = np.mean(precision_pre_qc_list_snr10)\n",
    "    mean_precision_post_qc_snr10 = np.mean(precision_post_qc_list_snr10)\n",
    "    mean_recall_pre_qc_snr10 = np.mean(recall_pre_qc_list_snr10)\n",
    "    mean_recall_post_qc_snr10 = np.mean(recall_post_qc_list_snr10)\n",
    "    \n",
    "    mean_precision_pre_qc_snr15 = np.mean(precision_pre_qc_list_snr15)\n",
    "    mean_precision_post_qc_snr15 = np.mean(precision_post_qc_list_snr15)\n",
    "    mean_recall_pre_qc_snr15 = np.mean(recall_pre_qc_list_snr15)\n",
    "    mean_recall_post_qc_snr15 = np.mean(recall_post_qc_list_snr15)\n",
    "    \n",
    "#     mean_precision_pre_qc_snr20 = np.mean(precision_pre_qc_list_snr20)\n",
    "#     mean_precision_post_qc_snr20 = np.mean(precision_post_qc_list_snr20)\n",
    "#     mean_recall_pre_qc_snr20 = np.mean(recall_pre_qc_list_snr20)\n",
    "#     mean_recall_post_qc_snr20 = np.mean(recall_post_qc_list_snr20)\n",
    "            \n",
    "    print('mean_precision_pre_qc_snr5 = %s' % round(mean_precision_pre_qc_snr5, 2))\n",
    "    print('mean_precision_post_qc_snr5 = %s' % round(mean_precision_post_qc_snr5, 2))\n",
    "    print('mean_precision_delta_snr5 = %s\\n' % (round((mean_precision_post_qc_snr5 - mean_precision_pre_qc_snr5), 2)))\n",
    "\n",
    "    print('mean_recall_pre_qc_snr5 = %s' % round(mean_recall_pre_qc_snr5, 2))\n",
    "    print('mean_recall_post_qc_snr5 = %s' % round(mean_recall_post_qc_snr5, 2))\n",
    "    print('mean_recall_delta_snr5 = %s\\n' % (round((mean_recall_post_qc_snr5 - mean_recall_pre_qc_snr5), 2)))\n",
    "\n",
    "    print('mean_precision_pre_qc_snr10 = %s' % round(mean_precision_pre_qc_snr10, 2))\n",
    "    print('mean_precision_post_qc_snr10 = %s' % round(mean_precision_post_qc_snr10, 2))\n",
    "    print('mean_precision_delta_snr10 = %s\\n' % (round((mean_precision_post_qc_snr10 - mean_precision_pre_qc_snr10), 2)))\n",
    "\n",
    "    print('mean_recall_pre_qc_snr10 = %s' % round(mean_recall_pre_qc_snr10, 2))\n",
    "    print('mean_recall_post_qc_snr10 = %s' % round(mean_recall_post_qc_snr10, 2))\n",
    "    print('mean_recall_delta_snr10 = %s\\n' % (round((mean_recall_post_qc_snr10 - mean_recall_pre_qc_snr10), 2)))\n",
    "\n",
    "    print('mean_precision_pre_qc_snr15 = %s' % round(mean_precision_pre_qc_snr15, 2))\n",
    "    print('mean_precision_post_qc_snr15 = %s' % round(mean_precision_post_qc_snr15, 2))\n",
    "    print('mean_precision_delta_snr15 = %s\\n' % (round((mean_precision_post_qc_snr15 - mean_precision_pre_qc_snr15), 2)))\n",
    "\n",
    "    print('mean_recall_pre_qc_snr15 = %s' % round(mean_recall_pre_qc_snr15, 2))\n",
    "    print('mean_recall_post_qc_snr15 = %s' % round(mean_recall_post_qc_snr15, 2))\n",
    "    print('mean_recall_delta_snr15 = %s\\n' % (round((mean_recall_post_qc_snr15 - mean_recall_pre_qc_snr15), 2)))\n",
    "    \n",
    "#     print('mean_precision_pre_qc_snr20 = %s' % round(mean_precision_pre_qc_snr20, 2))\n",
    "#     print('mean_precision_post_qc_snr20 = %s' % round(mean_precision_post_qc_snr20, 2))\n",
    "#     print('mean_precision_delta_snr20 = %s\\n' % (round((mean_precision_post_qc_snr20 - mean_precision_pre_qc_snr20), 2)))\n",
    "\n",
    "#     print('mean_recall_pre_qc_snr20 = %s' % round(mean_recall_pre_qc_snr20, 2))\n",
    "#     print('mean_recall_post_qc_snr20 = %s' % round(mean_recall_post_qc_snr20, 2))\n",
    "#     print('mean_recall_delta_snr20 = %s' % (round((mean_recall_post_qc_snr20 - mean_recall_pre_qc_snr20), 2)))\n"
   ]
  }
 ],
 "metadata": {
  "kernelspec": {
   "display_name": "Python 3",
   "language": "python",
   "name": "python3"
  },
  "language_info": {
   "codemirror_mode": {
    "name": "ipython",
    "version": 3
   },
   "file_extension": ".py",
   "mimetype": "text/x-python",
   "name": "python",
   "nbconvert_exporter": "python",
   "pygments_lexer": "ipython3",
   "version": "3.8.5"
  }
 },
 "nbformat": 4,
 "nbformat_minor": 2
}

{
 "cells": [
  {
   "cell_type": "markdown",
   "metadata": {},
   "source": [
    "CV across different images using LMP and blob_log()."
   ]
  },
  {
   "cell_type": "markdown",
   "metadata": {},
   "source": [
    "LMP with stringency = 0"
   ]
  },
  {
   "cell_type": "code",
   "execution_count": 11,
   "metadata": {},
   "outputs": [],
   "source": [
    "from scipy.stats import variation\n",
    "import numpy as np\n",
    "import pandas as pd\n",
    "import sys\n",
    "sys.path.insert(0, '../../../../../FISH-annotation/fishanno')\n",
    "import util"
   ]
  },
  {
   "cell_type": "code",
   "execution_count": 15,
   "metadata": {},
   "outputs": [],
   "source": [
    "test_img_filenames = ['ISS_rnd0_ch1_z0', 'ISS_rnd0_ch3_z0', 'ISS_rnd1_ch1_z0']\n",
    "correctness_threshold = 10"
   ]
  },
  {
   "cell_type": "code",
   "execution_count": 4,
   "metadata": {},
   "outputs": [],
   "source": [
    "expert_precisions = [0.8538662364329715, 0.22929936305732485, 0.34443944169293117]\n",
    "consensus_precisions = [0.7578475336322869, 0.22272047832585953, 0.14648729446935724]\n",
    "expert_recalls = [0.9641463414634146, 0.7091346153846154, 0.89198606271777]\n",
    "consensus_recalls = [0.9771646051379638, 0.7716981132075471, 0.6051873198847261]"
   ]
  },
  {
   "cell_type": "code",
   "execution_count": 6,
   "metadata": {},
   "outputs": [
    {
     "data": {
      "text/plain": [
       "(0.5702978634142793,\n",
       " 0.7240529093799841,\n",
       " 0.12551617807501825,\n",
       " 0.19388257064969816)"
      ]
     },
     "execution_count": 6,
     "metadata": {},
     "output_type": "execute_result"
    }
   ],
   "source": [
    "variation(expert_precisions), variation(consensus_precisions), variation(expert_recalls), variation(consensus_recalls)"
   ]
  },
  {
   "cell_type": "markdown",
   "metadata": {},
   "source": [
    "blob_log()"
   ]
  },
  {
   "cell_type": "code",
   "execution_count": 17,
   "metadata": {},
   "outputs": [],
   "source": [
    "expert_precisions, consensus_precisions, expert_recalls, consensus_recalls = [], [], [], []\n",
    "\n",
    "for test_img_filename in test_img_filenames:\n",
    "    \n",
    "    expert_path = './test_images_filtered/coords/%s.csv' % test_img_filename\n",
    "    consensus_path = './consensus/%s/total.csv' % test_img_filename\n",
    "    expert_coords = np.asarray(pd.read_csv(expert_path))  \n",
    "    consensus_coords = np.asarray(pd.read_csv(consensus_path))  \n",
    "    blobs_path = './test_images_filtered/blobs/%s.csv' % test_img_filename\n",
    "    blobs = np.asarray(pd.read_csv(blobs_path))  \n",
    "    expert_precision, expert_recall = util.get_precision_recall(test_coords=blobs, ref_coords=expert_coords, correctness_threshold=correctness_threshold)\n",
    "    consensus_precision, consensus_recall = util.get_precision_recall(test_coords=blobs, ref_coords=consensus_coords, correctness_threshold=correctness_threshold)\n",
    "\n",
    "    expert_precisions.append(expert_precision)\n",
    "    expert_recalls.append(expert_recall)\n",
    "    consensus_precisions.append(consensus_precision)\n",
    "    consensus_recalls.append(consensus_recall)"
   ]
  },
  {
   "cell_type": "code",
   "execution_count": 19,
   "metadata": {},
   "outputs": [
    {
     "data": {
      "text/plain": [
       "(0.04246638171947519,\n",
       " 0.08396629461732202,\n",
       " 0.010032730894290652,\n",
       " 0.0657779428918496)"
      ]
     },
     "execution_count": 19,
     "metadata": {},
     "output_type": "execute_result"
    }
   ],
   "source": [
    "variation(expert_precisions), variation(consensus_precisions), variation(expert_recalls), variation(consensus_recalls)"
   ]
  },
  {
   "cell_type": "code",
   "execution_count": null,
   "metadata": {},
   "outputs": [],
   "source": []
  }
 ],
 "metadata": {
  "kernelspec": {
   "display_name": "Python 3",
   "language": "python",
   "name": "python3"
  },
  "language_info": {
   "codemirror_mode": {
    "name": "ipython",
    "version": 3
   },
   "file_extension": ".py",
   "mimetype": "text/x-python",
   "name": "python",
   "nbconvert_exporter": "python",
   "pygments_lexer": "ipython3",
   "version": "3.6.5"
  }
 },
 "nbformat": 4,
 "nbformat_minor": 2
}

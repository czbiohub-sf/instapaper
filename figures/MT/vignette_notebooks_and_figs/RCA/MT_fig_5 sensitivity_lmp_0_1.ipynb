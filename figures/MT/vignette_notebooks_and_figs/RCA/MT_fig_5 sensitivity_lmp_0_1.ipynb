{
 "cells": [
  {
   "cell_type": "markdown",
   "metadata": {},
   "source": [
    "# Objective\n",
    "\n",
    "Tune parameters for LocalMaxPeakFinder (LMP) using RCA image round 0 channel 1."
   ]
  },
  {
   "cell_type": "code",
   "execution_count": 1,
   "metadata": {},
   "outputs": [
    {
     "name": "stderr",
     "output_type": "stream",
     "text": [
      "/Users/jenny.vo-phamhi/Library/Python/3.6/lib/python/site-packages/napari/__init__.py:27: UserWarning: \n",
      "    napari was tested with QT library `>=5.12.3`.\n",
      "    The version installed is 5.12.2. Please report any issues with this\n",
      "    specific QT version at https://github.com/Napari/napari/issues.\n",
      "    \n",
      "  warn(message=warn_message)\n"
     ]
    }
   ],
   "source": [
    "import pandas as pd\n",
    "import numpy as np\n",
    "import os, warnings\n",
    "from instapipeline import QuantiusAnnotation, SpotAnnotationAnalysis, param\n",
    "\n",
    "from starfish import data, FieldOfView\n",
    "from starfish.image import Filter\n",
    "from starfish.spots import DetectSpots\n",
    "from starfish.types import Axes\n",
    "\n",
    "from matplotlib.lines import Line2D\n",
    "import matplotlib.pyplot as plt\n",
    "from skimage.io import imread\n",
    "\n",
    "warnings.filterwarnings('ignore')\n",
    "%load_ext autoreload\n",
    "%autoreload 2"
   ]
  },
  {
   "cell_type": "code",
   "execution_count": 2,
   "metadata": {},
   "outputs": [],
   "source": [
    "test_img_filename = 'ISS_rnd0_ch1_z0'\n",
    "\n",
    "round_ind = 0\n",
    "channel_ind = 1\n",
    "\n",
    "origins = ['expert', 'consensus']\n",
    "correctness_threshold = 10\n",
    "stringencies = range(21)"
   ]
  },
  {
   "cell_type": "code",
   "execution_count": 3,
   "metadata": {},
   "outputs": [
    {
     "name": "stderr",
     "output_type": "stream",
     "text": [
      "100%|██████████| 16/16 [00:00<00:00, 27.48it/s]\n"
     ]
    }
   ],
   "source": [
    "use_test_data = os.getenv(\"USE_TEST_DATA\") is not None\n",
    "experiment = data.ISS(use_test_data=use_test_data)\n",
    "fov = experiment.fov()\n",
    "imgs = fov.get_image(FieldOfView.PRIMARY_IMAGES)"
   ]
  },
  {
   "cell_type": "code",
   "execution_count": 4,
   "metadata": {},
   "outputs": [
    {
     "name": "stderr",
     "output_type": "stream",
     "text": [
      "16it [00:12,  1.58s/it]\n"
     ]
    }
   ],
   "source": [
    "# filter raw data\n",
    "masking_radius = 15\n",
    "filt = Filter.WhiteTophat(masking_radius, is_volume=False)\n",
    "filtered_imgs = filt.run(imgs, verbose=True, in_place=False)"
   ]
  },
  {
   "cell_type": "code",
   "execution_count": 5,
   "metadata": {},
   "outputs": [],
   "source": [
    "if not os.path.exists('./blobs_lmp/'):\n",
    "    os.mkdir('./blobs_lmp/')"
   ]
  },
  {
   "cell_type": "code",
   "execution_count": 42,
   "metadata": {},
   "outputs": [],
   "source": [
    "for stringency in stringencies:\n",
    "\n",
    "    print(stringency)\n",
    "\n",
    "    test_img_path = './test_images_filtered/images/%s.png' % test_img_filename\n",
    "    im = imread(test_img_path, as_gray=True)\n",
    "    img_height = len(im)\n",
    "\n",
    "    # slice the ImageStack\n",
    "    sel={Axes.ROUND: round_ind, Axes.CH: channel_ind, Axes.ZPLANE: 0}\n",
    "    single_plane_filtered = filtered_imgs.sel(sel)\n",
    "\n",
    "    lmp = DetectSpots.LocalMaxPeakFinder(\n",
    "        min_distance=6,\n",
    "        stringency=stringency,\n",
    "        min_obj_area=6,\n",
    "        max_obj_area=600,\n",
    "    )\n",
    "\n",
    "    new_stack = single_plane_filtered.from_numpy(single_plane_filtered.xarray.values) \n",
    "    intensities = lmp.run(new_stack)\n",
    "    spots = intensities[:, 0, 0].where(intensities[:, 0, 0] != 0, drop=True)\n",
    "    x_vals = spots.x.values\n",
    "    y_vals = spots.y.values\n",
    "\n",
    "    blobs = []\n",
    "    for x, y in zip(x_vals, y_vals):\n",
    "        blobs.append([x, y])\n",
    "    blobs = np.asarray(blobs)\n",
    "\n",
    "    path = './blobs_lmp/%s_%s.csv' % (test_img_filename, stringency)\n",
    "    np.savetxt(path, blobs, delimiter=\",\")\n"
   ]
  },
  {
   "cell_type": "code",
   "execution_count": 29,
   "metadata": {
    "scrolled": false
   },
   "outputs": [],
   "source": [
    "precision_recall = []\n",
    "expert_path = './test_images_filtered/coords/%s.csv' % test_img_filename\n",
    "consensus_path = './consensus/%s/total.csv' % test_img_filename\n",
    "\n",
    "for stringency in stringencies:\n",
    "    print(stringency)\n",
    "    for origin in origins:\n",
    "\n",
    "        ref_path = expert_path if origin=='expert' else consensus_path\n",
    "        ref_coords = np.asarray(pd.read_csv(ref_path))  \n",
    "\n",
    "        print(ref_path)\n",
    "\n",
    "        # calc precision and recall\n",
    "        precision, recall = param.get_precision_recall(test_coords=blobs, ref_coords=ref_coords, correctness_threshold=correctness_threshold)\n",
    "        precision_recall.append((precision, recall))\n",
    "\n",
    "        blobs = np.asarray(pd.read_csv('./blobs_lmp_4/%s_%s.csv' % (test_img_filename, stringency), header=None))\n",
    "\n",
    "        print(precision, recall)\n",
    "#         ####################\n",
    "#         plt.figure(figsize=(10,10))\n",
    "#         for x, y in blobs:\n",
    "#             plt.scatter([x], [y], edgecolor='cyan', facecolor='None')\n",
    "#         plt.imshow(im, cmap='gray')\n",
    "#         for x, y in ref_coords:\n",
    "#             plt.scatter([x], [y], edgecolor='yellow', facecolor='None')\n",
    "#         plt.title('Stringency = %s. Precision = %s, Recall = %s based on %s annotations' % (stringency, round(precision, 2), round(recall, 2), origin))\n",
    "#         plt.show()\n",
    "#         ###################\n",
    "np.savetxt('./blobs_lmp_0_1/precision_recall.csv' % test_img_filename, precision_recall, delimiter=\",\")"
   ]
  },
  {
   "cell_type": "code",
   "execution_count": 29,
   "metadata": {
    "scrolled": false
   },
   "outputs": [
    {
     "data": {
      "image/png": "[encoded data removed]",
      "text/plain": [
       "<Figure size 432x288 with 1 Axes>"
      ]
     },
     "metadata": {
      "needs_background": "light"
     },
     "output_type": "display_data"
    },
    {
     "data": {
      "image/png": "[encoded data removed]",
      "text/plain": [
       "<Figure size 432x288 with 1 Axes>"
      ]
     },
     "metadata": {
      "needs_background": "light"
     },
     "output_type": "display_data"
    },
    {
     "data": {
      "image/png": "[encoded data removed]",
      "text/plain": [
       "<Figure size 432x288 with 1 Axes>"
      ]
     },
     "metadata": {
      "needs_background": "light"
     },
     "output_type": "display_data"
    }
   ],
   "source": [
    "precision_recall = np.asarray(pd.read_csv('./blobs_lmp_0_1/precision_recall.csv', header=None))\n",
    "expert_precision_recall, consensus_precision_recall = [], []\n",
    "for ind, pr in enumerate(precision_recall):\n",
    "    p, r = pr\n",
    "    if ind % 2 == 0:\n",
    "        expert_precision_recall.append([p,r])\n",
    "    else:\n",
    "        consensus_precision_recall.append([p,r])\n",
    "        \n",
    "expert_precision = [x[0] for x in expert_precision_recall]\n",
    "consensus_precision = [x[0] for x in consensus_precision_recall]\n",
    "plt.figure()\n",
    "plt.plot(stringencies, expert_precision, c='xkcd:blue')\n",
    "plt.plot(stringencies, consensus_precision, c='xkcd:orange')\n",
    "\n",
    "leg_elem_1 = Line2D([0], [0], marker='None', color='orange', label='consensus annotations as ground truth')\n",
    "leg_elem_2 = Line2D([0], [0], marker='None', color='b', label='expert annotations as ground truth')\n",
    "handle_list = [leg_elem_1, leg_elem_2]\n",
    "plt.legend(handles=handle_list, loc='lower right', frameon=1, prop={'size':10}, framealpha=0.5)\n",
    "\n",
    "plt.xlabel('Stringency')\n",
    "plt.ylabel('Precision')\n",
    "plt.ylim(0, 1.1)\n",
    "\n",
    "filename = \"precision_v_stringency.pdf\"\n",
    "plt.savefig(filename, transparent=True, bbox_inches=\"tight\")\n",
    "\n",
    "plt.show()\n",
    "\n",
    "######################\n",
    "\n",
    "expert_recall = [x[1] for x in expert_precision_recall]\n",
    "consensus_recall = [x[1] for x in consensus_precision_recall]\n",
    "plt.figure()\n",
    "plt.plot(stringencies, expert_recall, c='xkcd:blue')\n",
    "plt.plot(stringencies, consensus_recall, c='xkcd:orange')\n",
    "\n",
    "leg_elem_1 = Line2D([0], [0], marker='None', color='orange', label='consensus annotations as ground truth')\n",
    "leg_elem_2 = Line2D([0], [0], marker='None', color='b', label='expert annotations as ground truth')\n",
    "handle_list = [leg_elem_1, leg_elem_2]\n",
    "plt.legend(handles=handle_list, loc='lower right', frameon=1, prop={'size':10}, framealpha=0.5)\n",
    "\n",
    "plt.xlabel('Stringency')\n",
    "plt.ylabel('Recall')\n",
    "plt.ylim(0, 1.1)\n",
    "\n",
    "filename = \"recall_v_stringency.pdf\"\n",
    "plt.savefig(filename, transparent=True, bbox_inches=\"tight\")\n",
    "\n",
    "plt.show()\n",
    "\n",
    "######################\n",
    "\n",
    "expert_precision_x_recall = [x * y for x, y in zip(expert_precision, expert_recall)]\n",
    "consensus_precision_x_recall = [x * y for x, y in zip(consensus_precision, consensus_recall)]\n",
    "plt.figure()\n",
    "plt.plot(stringencies, expert_precision_x_recall, c='xkcd:blue')\n",
    "plt.plot(stringencies, consensus_precision_x_recall, c='xkcd:orange')\n",
    "\n",
    "plt.scatter([stringencies[expert_precision_x_recall.index(max(expert_precision_x_recall))]], [max(expert_precision_x_recall)], color='xkcd:blue', s=55)\n",
    "plt.scatter([stringencies[consensus_precision_x_recall.index(max(consensus_precision_x_recall))]], [max(consensus_precision_x_recall)], color='orange', s=55)\n",
    "\n",
    "leg_elem_1 = Line2D([0], [0], marker='None', color='orange', label='consensus annotations as ground truth')\n",
    "leg_elem_2 = Line2D([0], [0], marker='None', color='b', label='expert annotations as ground truth')\n",
    "leg_elem_3 = Line2D([0], [0], marker='o', markersize=7, markeredgecolor='None', markerfacecolor='xkcd:orange', color='None', label='optimal precision*recall')\n",
    "leg_elem_4 = Line2D([0], [0], marker='o', markersize=7, markeredgecolor='None', markerfacecolor='xkcd:blue', color='None', label='optimal precision*recall')\n",
    "handle_list = [leg_elem_1, leg_elem_3, leg_elem_2, leg_elem_4]\n",
    "plt.legend(handles=handle_list, loc='lower right', frameon=1, prop={'size':10}, framealpha=0.5)\n",
    "\n",
    "plt.xlabel('Stringency')\n",
    "plt.ylabel('Precision * Recall')\n",
    "plt.ylim(0, 1.1)\n",
    "filename = \"precision_recall_v_stringency.pdf\"\n",
    "plt.savefig(filename, transparent=True, bbox_inches=\"tight\")\n",
    "plt.show()\n"
   ]
  },
  {
   "cell_type": "code",
   "execution_count": 49,
   "metadata": {},
   "outputs": [
    {
     "data": {
      "text/plain": [
       "(0.8538662364329715,\n",
       " 0.7578475336322869,\n",
       " 0.9641463414634146,\n",
       " 0.9771646051379638)"
      ]
     },
     "execution_count": 49,
     "metadata": {},
     "output_type": "execute_result"
    }
   ],
   "source": [
    "expert_precision = expert_precision_recall[0][0]\n",
    "consensus_precision = consensus_precision_recall[0][0]\n",
    "expert_recall = expert_precision_recall[0][1]\n",
    "consensus_recall = consensus_precision_recall[0][1]\n",
    "expert_precision, consensus_precision, expert_recall, consensus_recall"
   ]
  },
  {
   "cell_type": "code",
   "execution_count": 15,
   "metadata": {},
   "outputs": [
    {
     "data": {
      "text/plain": [
       "0.8936664729808251"
      ]
     },
     "execution_count": 15,
     "metadata": {},
     "output_type": "execute_result"
    }
   ],
   "source": [
    "consensus_precision[consensus_precision_x_recall.index(max(consensus_precision_x_recall))]"
   ]
  },
  {
   "cell_type": "code",
   "execution_count": 14,
   "metadata": {},
   "outputs": [
    {
     "data": {
      "text/plain": [
       "0.9543292102759277"
      ]
     },
     "execution_count": 14,
     "metadata": {},
     "output_type": "execute_result"
    }
   ],
   "source": [
    "consensus_recall[consensus_precision_x_recall.index(max(consensus_precision_x_recall))]"
   ]
  },
  {
   "cell_type": "code",
   "execution_count": 12,
   "metadata": {},
   "outputs": [
    {
     "data": {
      "text/plain": [
       "0.9430481283422462"
      ]
     },
     "execution_count": 12,
     "metadata": {},
     "output_type": "execute_result"
    }
   ],
   "source": [
    "expert_precision[expert_precision_x_recall.index(max(expert_precision_x_recall))]"
   ]
  },
  {
   "cell_type": "code",
   "execution_count": 13,
   "metadata": {},
   "outputs": [
    {
     "data": {
      "text/plain": [
       "0.9479674796747968"
      ]
     },
     "execution_count": 13,
     "metadata": {},
     "output_type": "execute_result"
    }
   ],
   "source": [
    "expert_recall[expert_precision_x_recall.index(max(expert_precision_x_recall))]"
   ]
  },
  {
   "cell_type": "code",
   "execution_count": null,
   "metadata": {},
   "outputs": [],
   "source": []
  }
 ],
 "metadata": {
  "kernelspec": {
   "display_name": "Python 3",
   "language": "python",
   "name": "python3"
  },
  "language_info": {
   "codemirror_mode": {
    "name": "ipython",
    "version": 3
   },
   "file_extension": ".py",
   "mimetype": "text/x-python",
   "name": "python",
   "nbconvert_exporter": "python",
   "pygments_lexer": "ipython3",
   "version": "3.7.7"
  }
 },
 "nbformat": 4,
 "nbformat_minor": 2
}

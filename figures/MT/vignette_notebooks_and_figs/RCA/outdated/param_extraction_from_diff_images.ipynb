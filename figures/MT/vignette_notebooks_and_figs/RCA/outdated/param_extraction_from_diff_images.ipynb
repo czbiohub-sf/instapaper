{
 "cells": [
  {
   "cell_type": "markdown",
   "metadata": {},
   "source": [
    "# Objectives\n",
    "\n",
    "- Try parameter extraction based on other images\n",
    "- Try parameter extraction based on a \"frankenset\" composed of spots from various images"
   ]
  },
  {
   "cell_type": "code",
   "execution_count": 1,
   "metadata": {},
   "outputs": [],
   "source": [
    "from sklearn.neighbors import KDTree\n",
    "from skimage.feature import blob_log\n",
    "from skimage.color import rgb2gray\n",
    "from skimage.io import imread\n",
    "import matplotlib.pyplot as plt\n",
    "from matplotlib.patches import Rectangle\n",
    "from matplotlib.lines import Line2D\n",
    "import numpy as np\n",
    "import pandas as pd\n",
    "from fishanno import QuantiusAnnotation, SpotAnnotationAnalysis, param\n",
    "\n",
    "%load_ext autoreload\n",
    "%autoreload 2"
   ]
  },
  {
   "cell_type": "markdown",
   "metadata": {},
   "source": [
    "## User Inputs"
   ]
  },
  {
   "cell_type": "code",
   "execution_count": 2,
   "metadata": {},
   "outputs": [],
   "source": [
    "margin = 4\t\t\t\t\t# margin around each spot, in pixels\n",
    "correctness_threshold = 10\n",
    "max_num_crops = 7\n",
    "colors = ['cyan', 'blue', 'purple', 'violet', 'magenta', 'red', 'orange', 'yellow', 'green', ]    \n",
    "crosshair_ratio = 0.04\n",
    "max_num_crops = 4\n",
    "max_crowded_ratio = 0.3\n",
    "clustering_params = ['AffinityPropagation', -350]\n",
    "declumping_params = ['KMeans', 2]"
   ]
  },
  {
   "cell_type": "code",
   "execution_count": 3,
   "metadata": {},
   "outputs": [],
   "source": [
    "test_img_filenames = ['ISS_rnd0_ch1_z0', 'ISS_rnd0_ch3_z0', 'ISS_rnd1_ch1_z0']"
   ]
  },
  {
   "cell_type": "code",
   "execution_count": 4,
   "metadata": {},
   "outputs": [],
   "source": [
    "thresholds = np.arange(0.1, 0.4, 0.03)"
   ]
  },
  {
   "cell_type": "markdown",
   "metadata": {},
   "source": [
    "# Part 1: Parameter Extraction\n",
    "\n",
    "### This section of the pipeline:\n",
    "\n",
    "- Inputs:\n",
    "    - sample FISH image\n",
    "    - expert annotations of the image\n",
    "- Outputs: \n",
    "    - parameters specific to RCA FISH for blob detection\n",
    "        - max sigma: `max_sigma`\n",
    "        - min sigma: `min_sigma`\n",
    "        - optimal intensity threshold: `best_threshold`\n",
    "    - these parameters are saved in ./sample_image_filtered/spot_params"
   ]
  },
  {
   "cell_type": "code",
   "execution_count": 5,
   "metadata": {},
   "outputs": [],
   "source": [
    "if not os.path.exists('./test_images_filtered/spot_params/'):\n",
    "    os.mkdir('./test_images_filtered/spot_params/')"
   ]
  },
  {
   "cell_type": "markdown",
   "metadata": {},
   "source": [
    "## Param extraction using all expert annotations in test images"
   ]
  },
  {
   "cell_type": "code",
   "execution_count": 14,
   "metadata": {},
   "outputs": [
    {
     "name": "stdout",
     "output_type": "stream",
     "text": [
      "\n",
      "\n",
      "-------\n",
      "\n",
      "ISS_rnd0_ch1_z0\n"
     ]
    },
    {
     "name": "stderr",
     "output_type": "stream",
     "text": [
      "/Users/jenny.vo-phamhi/Library/Python/3.6/lib/python/site-packages/scipy/optimize/minpack.py:449: RuntimeWarning: Number of calls to function has reached maxfev = 1200.\n",
      "  warnings.warn(errors[info][0], RuntimeWarning)\n"
     ]
    },
    {
     "data": {
      "image/png": "[encoded data removed]",
      "text/plain": [
       "<Figure size 432x144 with 1 Axes>"
      ]
     },
     "metadata": {
      "needs_background": "light"
     },
     "output_type": "display_data"
    },
    {
     "name": "stdout",
     "output_type": "stream",
     "text": [
      "min_sigma = 0.5439853839887592\n",
      "max_sigma = 16.93503911554834\n",
      "best_threshold = 0.1\n",
      "\n",
      "\n",
      "-------\n",
      "\n",
      "ISS_rnd0_ch3_z0\n"
     ]
    },
    {
     "name": "stderr",
     "output_type": "stream",
     "text": [
      "/Users/jenny.vo-phamhi/Library/Python/3.6/lib/python/site-packages/scipy/optimize/minpack.py:449: RuntimeWarning: Number of calls to function has reached maxfev = 1200.\n",
      "  warnings.warn(errors[info][0], RuntimeWarning)\n"
     ]
    },
    {
     "data": {
      "image/png": "[encoded data removed]",
      "text/plain": [
       "<Figure size 432x144 with 1 Axes>"
      ]
     },
     "metadata": {
      "needs_background": "light"
     },
     "output_type": "display_data"
    },
    {
     "name": "stdout",
     "output_type": "stream",
     "text": [
      "min_sigma = 0.6808431940252648\n",
      "max_sigma = 9.067948807391497\n",
      "best_threshold = 0.13\n",
      "\n",
      "\n",
      "-------\n",
      "\n",
      "ISS_rnd1_ch1_z0\n"
     ]
    },
    {
     "name": "stderr",
     "output_type": "stream",
     "text": [
      "/Users/jenny.vo-phamhi/Library/Python/3.6/lib/python/site-packages/scipy/optimize/minpack.py:449: RuntimeWarning: Number of calls to function has reached maxfev = 1200.\n",
      "  warnings.warn(errors[info][0], RuntimeWarning)\n"
     ]
    },
    {
     "data": {
      "image/png": "[encoded data removed]",
      "text/plain": [
       "<Figure size 432x144 with 1 Axes>"
      ]
     },
     "metadata": {
      "needs_background": "light"
     },
     "output_type": "display_data"
    },
    {
     "name": "stdout",
     "output_type": "stream",
     "text": [
      "min_sigma = 0.6122035800129866\n",
      "max_sigma = 6.467219361254079\n",
      "best_threshold = 0.22\n"
     ]
    }
   ],
   "source": [
    "for test_img_filename in test_img_filenames:\n",
    "    \n",
    "    print('\\n\\n-------\\n\\n' + test_img_filename)\n",
    "    \n",
    "    test_img_path = './test_images_filtered/images/%s.png' % test_img_filename\n",
    "    test_coords_path = './test_images_filtered/coords/%s.csv' % test_img_filename\n",
    "    \n",
    "    test_coords = np.genfromtxt(test_coords_path, delimiter=',')[1:]\n",
    "    sigma_list = param.get_sigma_list(test_img_path, test_coords, margin)\n",
    "\n",
    "    plt.figure(figsize=(6,2))\n",
    "    plt.hist(sigma_list, bins=np.arange(0, 11, 0.05))\n",
    "    plt.yticks([0, 50, 100])\n",
    "    plt.xlabel('spot sigma')\n",
    "    plt.ylabel('# spots')\n",
    "    plt.show()\n",
    "    \n",
    "    min_sigma = min(sigma_list)\n",
    "    max_sigma = max(sigma_list)\n",
    "\n",
    "    best_threshold, best_recall, best_precision, recall_list, precision_list = param.get_best_threshold(\n",
    "        test_coords, test_img_path, min_sigma, max_sigma, correctness_threshold, thresholds)\n",
    "\n",
    "    print('min_sigma = ' + str(min_sigma))\n",
    "    print('max_sigma = ' + str(max_sigma))\n",
    "    print('best_threshold = ' + str(best_threshold))"
   ]
  },
  {
   "cell_type": "code",
   "execution_count": 15,
   "metadata": {},
   "outputs": [
    {
     "name": "stdout",
     "output_type": "stream",
     "text": [
      "\n",
      "\n",
      "-------\n",
      "\n",
      "ISS_rnd0_ch1_z0\n"
     ]
    },
    {
     "name": "stderr",
     "output_type": "stream",
     "text": [
      "/Users/jenny.vo-phamhi/Library/Python/3.6/lib/python/site-packages/scipy/optimize/minpack.py:449: RuntimeWarning: Number of calls to function has reached maxfev = 1200.\n",
      "  warnings.warn(errors[info][0], RuntimeWarning)\n"
     ]
    },
    {
     "data": {
      "image/png": "[encoded data removed]",
      "text/plain": [
       "<Figure size 432x144 with 1 Axes>"
      ]
     },
     "metadata": {
      "needs_background": "light"
     },
     "output_type": "display_data"
    },
    {
     "name": "stdout",
     "output_type": "stream",
     "text": [
      "min_sigma = 0.8581225572535407\n",
      "max_sigma = 4.651439437410175\n",
      "best_threshold = 0.1\n",
      "\n",
      "\n",
      "-------\n",
      "\n",
      "ISS_rnd0_ch3_z0\n"
     ]
    },
    {
     "data": {
      "image/png": "[encoded data removed]",
      "text/plain": [
       "<Figure size 432x144 with 1 Axes>"
      ]
     },
     "metadata": {
      "needs_background": "light"
     },
     "output_type": "display_data"
    },
    {
     "name": "stdout",
     "output_type": "stream",
     "text": [
      "min_sigma = 0.830032386232189\n",
      "max_sigma = 1.106906003107071\n",
      "best_threshold = 0.16\n",
      "\n",
      "\n",
      "-------\n",
      "\n",
      "ISS_rnd1_ch1_z0\n"
     ]
    },
    {
     "data": {
      "image/png": "[encoded data removed]",
      "text/plain": [
       "<Figure size 432x144 with 1 Axes>"
      ]
     },
     "metadata": {
      "needs_background": "light"
     },
     "output_type": "display_data"
    },
    {
     "name": "stdout",
     "output_type": "stream",
     "text": [
      "min_sigma = 0.6434634462474935\n",
      "max_sigma = 1.5159541169394164\n",
      "best_threshold = 0\n"
     ]
    }
   ],
   "source": [
    "for test_img_filename in test_img_filenames:\n",
    "    \n",
    "    print('\\n\\n-------\\n\\n' + test_img_filename)\n",
    "    \n",
    "    test_img_path = './test_images_filtered/images/%s.png' % test_img_filename\n",
    "    test_coords_path = './test_images_filtered/coords/%s.csv' % test_img_filename\n",
    "    \n",
    "    test_coords = np.genfromtxt(test_coords_path, delimiter=',')[1:]\n",
    "    \n",
    "    sel = np.random.choice(len(test_coords), 15)\n",
    "    sel_list = [test_coords[ind] for ind in sel]\n",
    "    test_coords = np.asarray(sel_list)\n",
    "    \n",
    "    sigma_list = param.get_sigma_list(test_img_path, test_coords, margin)\n",
    "\n",
    "    plt.figure(figsize=(6,2))\n",
    "    plt.hist(sigma_list, bins=np.arange(0, 11, 0.05))\n",
    "    plt.xlabel('spot sigma')\n",
    "    plt.ylabel('# spots')\n",
    "    plt.show()\n",
    "    \n",
    "    min_sigma = min(sigma_list)\n",
    "    max_sigma = max(sigma_list)\n",
    "\n",
    "    best_threshold, best_recall, best_precision, recall_list, precision_list = param.get_best_threshold(\n",
    "        test_coords, test_img_path, min_sigma, max_sigma, correctness_threshold, thresholds)\n",
    "\n",
    "    print('min_sigma = ' + str(min_sigma))\n",
    "    print('max_sigma = ' + str(max_sigma))\n",
    "    print('best_threshold = ' + str(best_threshold))"
   ]
  },
  {
   "cell_type": "code",
   "execution_count": null,
   "metadata": {},
   "outputs": [],
   "source": []
  }
 ],
 "metadata": {
  "kernelspec": {
   "display_name": "Python 3",
   "language": "python",
   "name": "python3"
  },
  "language_info": {
   "codemirror_mode": {
    "name": "ipython",
    "version": 3
   },
   "file_extension": ".py",
   "mimetype": "text/x-python",
   "name": "python",
   "nbconvert_exporter": "python",
   "pygments_lexer": "ipython3",
   "version": "3.6.5"
  }
 },
 "nbformat": 4,
 "nbformat_minor": 2
}

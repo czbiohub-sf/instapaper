{
 "cells": [
  {
   "cell_type": "code",
   "execution_count": 1,
   "metadata": {},
   "outputs": [],
   "source": [
    "from napari import Window, Viewer\n",
    "from skimage import io\n",
    "from PyQt5.QtWidgets import QApplication\n",
    "from sklearn.neighbors import KDTree\n",
    "%gui qt5"
   ]
  },
  {
   "cell_type": "code",
   "execution_count": 2,
   "metadata": {},
   "outputs": [
    {
     "name": "stderr",
     "output_type": "stream",
     "text": [
      "/usr/local/Cellar/python/3.6.5/Frameworks/Python.framework/Versions/3.6/lib/python3.6/importlib/_bootstrap.py:219: RuntimeWarning: numpy.dtype size changed, may indicate binary incompatibility. Expected 96, got 88\n",
      "  return f(*args, **kwds)\n"
     ]
    }
   ],
   "source": [
    "import numpy as np\n",
    "import pandas as pd\n",
    "import sys\n",
    "sys.path.insert(0, '/Users/jenny.vo-phamhi/Documents/FISH-annotation/fishanno')\n",
    "import visualize"
   ]
  },
  {
   "cell_type": "code",
   "execution_count": 3,
   "metadata": {},
   "outputs": [],
   "source": [
    "img_name = 'ISS_rnd1_ch1_z0'"
   ]
  },
  {
   "cell_type": "code",
   "execution_count": 4,
   "metadata": {},
   "outputs": [],
   "source": [
    "consensus_path = './consensus/%s/total.csv' % img_name\n",
    "reference_path = './test_images_filtered/coords/%s.csv' % img_name\n",
    "img_filepath = './test_images_filtered/images/%s.png' % img_name"
   ]
  },
  {
   "cell_type": "code",
   "execution_count": 5,
   "metadata": {},
   "outputs": [],
   "source": [
    "consensus_coords = np.asarray(pd.read_csv(consensus_path))\n",
    "reference_coords = np.asarray(pd.read_csv(reference_path))\n"
   ]
  },
  {
   "cell_type": "markdown",
   "metadata": {},
   "source": [
    "Display:\n",
    "- all consensus coords\n",
    "- correct consensus coords\n",
    "- incorrect consensus coords\n",
    "- all reference coords\n",
    "- correct reference coords\n",
    "- incorrect reference coords"
   ]
  },
  {
   "cell_type": "code",
   "execution_count": 6,
   "metadata": {},
   "outputs": [],
   "source": [
    "# Load the image\n",
    "image = io.imread(img_filepath, name='image')"
   ]
  },
  {
   "cell_type": "code",
   "execution_count": 9,
   "metadata": {},
   "outputs": [],
   "source": [
    "app = QApplication.instance() or QApplication([])\n",
    "\n",
    "# initialize the viewer\n",
    "viewer = Viewer()\n",
    "window = Window(viewer, show=False)\n",
    "viewer._window = window\n",
    "\n",
    "# Add the image to the viewer\n",
    "viewer.add_image(image, name=\"image\")\n",
    "\n",
    "# Add annotations to the viewer\n",
    "viewer.add_markers(consensus_coords, symbol='ring', face_color='white', name=\"all cons.\")\n",
    "viewer.add_markers(reference_coords, symbol='ring', face_color='yellow', name=\"all ref.\")\n",
    "\n",
    "window.show() "
   ]
  },
  {
   "cell_type": "code",
   "execution_count": null,
   "metadata": {},
   "outputs": [],
   "source": []
  }
 ],
 "metadata": {
  "kernelspec": {
   "display_name": "Python 3",
   "language": "python",
   "name": "python3"
  },
  "language_info": {
   "codemirror_mode": {
    "name": "ipython",
    "version": 3
   },
   "file_extension": ".py",
   "mimetype": "text/x-python",
   "name": "python",
   "nbconvert_exporter": "python",
   "pygments_lexer": "ipython3",
   "version": "3.6.5"
  }
 },
 "nbformat": 4,
 "nbformat_minor": 2
}

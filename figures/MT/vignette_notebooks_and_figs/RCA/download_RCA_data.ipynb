{
 "cells": [
  {
   "cell_type": "code",
   "execution_count": 19,
   "metadata": {},
   "outputs": [
    {
     "name": "stdout",
     "output_type": "stream",
     "text": [
      "The autoreload extension is already loaded. To reload it, use:\n",
      "  %reload_ext autoreload\n"
     ]
    }
   ],
   "source": [
    "import os\n",
    "import pickle\n",
    "\n",
    "import matplotlib.pyplot as plt\n",
    "import numpy as np\n",
    "import pandas as pd\n",
    "\n",
    "from starfish import FieldOfView, data\n",
    "from starfish.types import Axes\n",
    "from skimage import io\n",
    "\n",
    "%matplotlib inline\n",
    "%load_ext autoreload\n",
    "%autoreload 2"
   ]
  },
  {
   "cell_type": "markdown",
   "metadata": {},
   "source": [
    "# Load Data into Starfish from the Cloud"
   ]
  },
  {
   "cell_type": "code",
   "execution_count": 20,
   "metadata": {},
   "outputs": [
    {
     "name": "stderr",
     "output_type": "stream",
     "text": [
      "100%|██████████| 16/16 [00:00<00:00, 21.72it/s]\n"
     ]
    },
    {
     "data": {
      "text/plain": [
       "(4, 4, 1, 1044, 1390)"
      ]
     },
     "execution_count": 20,
     "metadata": {},
     "output_type": "execute_result"
    }
   ],
   "source": [
    "# Download the ISS data\n",
    "experiment = data.ISS(use_test_data=False)\n",
    "\n",
    "# Download the spots data as an ImageStack object\n",
    "fov = experiment.fov()\n",
    "primary_image = fov.get_image(FieldOfView.PRIMARY_IMAGES)\n",
    "\n",
    "# Display the shape of the ImageStack\n",
    "# The image data are stored in an x array\n",
    "primary_image.xarray.shape"
   ]
  },
  {
   "cell_type": "markdown",
   "metadata": {},
   "source": [
    "# Filter Data"
   ]
  },
  {
   "cell_type": "code",
   "execution_count": 21,
   "metadata": {},
   "outputs": [
    {
     "name": "stderr",
     "output_type": "stream",
     "text": [
      "16it [00:00, 57.91it/s]\n"
     ]
    }
   ],
   "source": [
    "from starfish.image import Filter\n",
    "\n",
    "filter_ghp = Filter.GaussianHighPass(sigma=(1, 8, 8), is_volume=True)\n",
    "imgs_ghp = filter_ghp.run(primary_image, in_place=False)"
   ]
  },
  {
   "cell_type": "code",
   "execution_count": 22,
   "metadata": {},
   "outputs": [
    {
     "name": "stderr",
     "output_type": "stream",
     "text": [
      "16it [00:00, 41.38it/s]\n"
     ]
    }
   ],
   "source": [
    "from starfish.types import Clip\n",
    "filter_laplace = Filter.Laplace(sigma=(0.2, 0.5, 0.5), is_volume=True, clip_method=Clip.SCALE_BY_CHUNK)\n",
    "imgs_ghp_laplace = filter_laplace.run(imgs_ghp, in_place=False)"
   ]
  },
  {
   "cell_type": "markdown",
   "metadata": {},
   "source": [
    "# Save Images"
   ]
  },
  {
   "cell_type": "code",
   "execution_count": 23,
   "metadata": {
    "scrolled": true
   },
   "outputs": [
    {
     "name": "stderr",
     "output_type": "stream",
     "text": [
      "100%|██████████| 16/16 [00:00<00:00, 103.97it/s]\n"
     ]
    }
   ],
   "source": [
    "mp = imgs_ghp_laplace.max_proj(Axes.ZPLANE)"
   ]
  },
  {
   "cell_type": "code",
   "execution_count": 24,
   "metadata": {},
   "outputs": [],
   "source": [
    "# %gui qt5\n",
    "# from starfish import display\n",
    "# display(mp)"
   ]
  },
  {
   "cell_type": "code",
   "execution_count": 25,
   "metadata": {},
   "outputs": [],
   "source": [
    "# display(imgs_ghp)"
   ]
  },
  {
   "cell_type": "code",
   "execution_count": 26,
   "metadata": {},
   "outputs": [
    {
     "name": "stdout",
     "output_type": "stream",
     "text": [
      "4 rounds, 4 channels, and 1 z slice(s)\n"
     ]
    }
   ],
   "source": [
    "# Get the number of channels in the ImageStack\n",
    "num_ch = mp.num_chs\n",
    "\n",
    "# Get the number of round in the ImageStack\n",
    "num_rnd = mp.num_rounds\n",
    "\n",
    "# Get the number of z slices in the ImageStack\n",
    "num_z = mp.num_zplanes\n",
    "\n",
    "print('%d rounds, %d channels, and %d z slice(s)' % (num_rnd, num_ch, num_z))"
   ]
  },
  {
   "cell_type": "code",
   "execution_count": 27,
   "metadata": {},
   "outputs": [
    {
     "name": "stderr",
     "output_type": "stream",
     "text": [
      "/usr/local/lib/python3.6/site-packages/skimage/util/dtype.py:130: UserWarning: Possible precision loss when converting from float32 to uint16\n",
      "  .format(dtypeobj_in, dtypeobj_out))\n"
     ]
    }
   ],
   "source": [
    "if not os.path.exists('images'):\n",
    "    os.mkdir('images')\n",
    "# Iterate through the images and save them to disk\n",
    "for rnd in range(num_rnd):\n",
    "    for channel in range(num_ch):\n",
    "        for z in range(num_z):\n",
    "            # Create the file name\n",
    "            file_name = 'ISS_rnd%d_ch%d_z%d.png' % (rnd, channel, z)\n",
    "            file_path = './images/%s' % file_name\n",
    "            \n",
    "            # Create the selector. This dictionary selects which slice (i.e., round, channel, z coords)\n",
    "            # to select from the image stack\n",
    "            selector = {\n",
    "                Axes.ROUND: rnd,\n",
    "                Axes.CH: channel,\n",
    "                Axes.ZPLANE: z\n",
    "            }\n",
    "            \n",
    "            # Get the slice\n",
    "            (im, _) = mp.get_slice(selector)\n",
    "            \n",
    "            # Save the slice\n",
    "            io.imsave(file_path, im, check_contrast=False)\n"
   ]
  },
  {
   "cell_type": "code",
   "execution_count": null,
   "metadata": {},
   "outputs": [],
   "source": []
  }
 ],
 "metadata": {
  "kernelspec": {
   "display_name": "Python 3",
   "language": "python",
   "name": "python3"
  },
  "language_info": {
   "codemirror_mode": {
    "name": "ipython",
    "version": 3
   },
   "file_extension": ".py",
   "mimetype": "text/x-python",
   "name": "python",
   "nbconvert_exporter": "python",
   "pygments_lexer": "ipython3",
   "version": "3.6.5"
  }
 },
 "nbformat": 4,
 "nbformat_minor": 2
}

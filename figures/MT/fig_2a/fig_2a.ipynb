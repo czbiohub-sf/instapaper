{
 "cells": [
  {
   "cell_type": "code",
   "execution_count": 1,
   "metadata": {},
   "outputs": [],
   "source": [
    "from skimage.io import imread\n",
    "from sklearn.neighbors import KDTree\n",
    "from matplotlib.patches import Rectangle\n",
    "import matplotlib.pyplot as plt\n",
    "import numpy as np\n",
    "import pandas as pd\n",
    "import matplotlib.patches as mpatches\n",
    "from matplotlib.lines import Line2D\n",
    "from instapipeline import QuantiusAnnotation, SpotAnnotationAnalysis, autocrop, clus, param, util, vis\n",
    "\n",
    "%load_ext autoreload\n",
    "%autoreload 2"
   ]
  },
  {
   "cell_type": "code",
   "execution_count": 2,
   "metadata": {},
   "outputs": [],
   "source": [
    "img_filename = 'MAX_ISP_300_1_nspots100_spot_sig1.75_snr10_2.5_spot_img.png'\n",
    "img_filepath = './datasets/%s' % img_filename\n",
    "csv_filepath = './datasets/MAX_ISP_300_1_nspots100_spot_sig1.75_snr10_2.5_coord_snr_list.csv'\n",
    "json_filepath = './datasets/SynthTests_tissue.json'\n",
    "clustering_params = ['AffinityPropagation', -350]\n",
    "img_height = len(imread(img_filepath))"
   ]
  },
  {
   "cell_type": "code",
   "execution_count": 3,
   "metadata": {},
   "outputs": [],
   "source": [
    "qa = QuantiusAnnotation(json_filepath, img_filename)\n",
    "sa = SpotAnnotationAnalysis(qa)\n",
    "anno_all = qa.df()\n",
    "clusters = sa.get_clusters(anno_all, clustering_params)        "
   ]
  },
  {
   "cell_type": "code",
   "execution_count": 4,
   "metadata": {
    "scrolled": true
   },
   "outputs": [],
   "source": [
    "correct_list, incorrect_list, total_list, threshold = param.sort_clusters_by_correctness(clusters=clusters, \n",
    "                                                                                   correctness_threshold=4, \n",
    "                                                                                   csv_filepath=csv_filepath, \n",
    "                                                                                   img_height=img_height)"
   ]
  },
  {
   "cell_type": "code",
   "execution_count": 5,
   "metadata": {},
   "outputs": [
    {
     "data": {
      "image/png": "[encoded data removed]",
      "text/plain": [
       "<Figure size 432x288 with 1 Axes>"
      ]
     },
     "metadata": {
      "needs_background": "light"
     },
     "output_type": "display_data"
    }
   ],
   "source": [
    "width = 2\n",
    "plt.figure()\n",
    "plt.hist([correct_list, incorrect_list], bins = np.arange(0,max(total_list)+width, width)-width/2, stacked = True, color = ['g','m'])\n",
    "plt.axvline(x=threshold, color='b')\n",
    "g_patch = mpatches.Patch(color='g', label='true positives')\n",
    "m_patch = mpatches.Patch(color='m', label='false positives')\n",
    "kmeans_line = Line2D([0],[0], color='b', label='threshold')\n",
    "plt.legend(handles=[g_patch, m_patch, kmeans_line])\n",
    "plt.xlabel(\"Number of unique annotators\")\n",
    "plt.xticks(np.arange(0,max(total_list)+width, width))\n",
    "plt.ylabel(\"Number of clusters\")\n",
    "plt.title('Sorting clusters by number of unique annotators')\n",
    "plt.savefig(\"fig_2a.pdf\", transparent=True, bbox_inches = \"tight\")\n",
    "plt.show()"
   ]
  },
  {
   "cell_type": "code",
   "execution_count": null,
   "metadata": {},
   "outputs": [],
   "source": []
  }
 ],
 "metadata": {
  "kernelspec": {
   "display_name": "Python 3",
   "language": "python",
   "name": "python3"
  },
  "language_info": {
   "codemirror_mode": {
    "name": "ipython",
    "version": 3
   },
   "file_extension": ".py",
   "mimetype": "text/x-python",
   "name": "python",
   "nbconvert_exporter": "python",
   "pygments_lexer": "ipython3",
   "version": "3.7.7"
  }
 },
 "nbformat": 4,
 "nbformat_minor": 2
}

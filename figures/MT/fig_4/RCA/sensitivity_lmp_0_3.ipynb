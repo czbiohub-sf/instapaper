{
 "cells": [
  {
   "cell_type": "markdown",
   "metadata": {},
   "source": [
    "# LMP"
   ]
  },
  {
   "cell_type": "code",
   "execution_count": 2,
   "metadata": {},
   "outputs": [
    {
     "name": "stderr",
     "output_type": "stream",
     "text": [
      "/Users/jenny.vo-phamhi/Library/Python/3.6/lib/python/site-packages/napari/__init__.py:27: UserWarning: \n",
      "    napari was tested with QT library `>=5.12.3`.\n",
      "    The version installed is 5.12.2. Please report any issues with this\n",
      "    specific QT version at https://github.com/Napari/napari/issues.\n",
      "    \n",
      "  warn(message=warn_message)\n"
     ]
    }
   ],
   "source": [
    "import pandas as pd\n",
    "import numpy as np\n",
    "import sys, os, warnings\n",
    "sys.path.insert(0, '../../../../../FISH-annotation/fishanno')\n",
    "import util\n",
    "from SpotAnnotationAnalysis import SpotAnnotationAnalysis\n",
    "from QuantiusAnnotation import QuantiusAnnotation\n",
    "\n",
    "from starfish import data, FieldOfView\n",
    "from starfish.image import Filter\n",
    "from starfish.spots import DetectSpots\n",
    "from starfish.types import Axes\n",
    "\n",
    "from matplotlib.lines import Line2D\n",
    "import matplotlib.pyplot as plt\n",
    "from skimage.io import imread\n",
    "\n",
    "warnings.filterwarnings('ignore')\n",
    "%load_ext autoreload\n",
    "%autoreload 2"
   ]
  },
  {
   "cell_type": "code",
   "execution_count": 6,
   "metadata": {},
   "outputs": [],
   "source": [
    "test_img_filename = 'ISS_rnd0_ch3_z0'\n",
    "\n",
    "round_ind = 0\n",
    "channel_ind = 3\n",
    "\n",
    "origins = ['expert', 'consensus']\n",
    "correctness_threshold = 10\n",
    "stringencies = range(3)"
   ]
  },
  {
   "cell_type": "code",
   "execution_count": 3,
   "metadata": {},
   "outputs": [
    {
     "name": "stderr",
     "output_type": "stream",
     "text": [
      "100%|██████████| 16/16 [00:00<00:00, 22.94it/s]\n"
     ]
    }
   ],
   "source": [
    "use_test_data = os.getenv(\"USE_TEST_DATA\") is not None\n",
    "experiment = data.ISS(use_test_data=use_test_data)\n",
    "fov = experiment.fov()\n",
    "imgs = fov.get_image(FieldOfView.PRIMARY_IMAGES)"
   ]
  },
  {
   "cell_type": "code",
   "execution_count": 4,
   "metadata": {},
   "outputs": [
    {
     "name": "stderr",
     "output_type": "stream",
     "text": [
      "16it [00:20,  1.32s/it]\n"
     ]
    }
   ],
   "source": [
    "# filter raw data\n",
    "masking_radius = 15\n",
    "filt = Filter.WhiteTophat(masking_radius, is_volume=False)\n",
    "filtered_imgs = filt.run(imgs, verbose=True, in_place=False)"
   ]
  },
  {
   "cell_type": "code",
   "execution_count": 5,
   "metadata": {},
   "outputs": [],
   "source": [
    "if not os.path.exists('./blobs_lmp_0_3 /'):\n",
    "    os.mkdir('./blobs_lmp/')"
   ]
  },
  {
   "cell_type": "code",
   "execution_count": 7,
   "metadata": {},
   "outputs": [
    {
     "name": "stdout",
     "output_type": "stream",
     "text": [
      "0\n"
     ]
    },
    {
     "name": "stderr",
     "output_type": "stream",
     "text": [
      "100%|██████████| 1/1 [00:00<00:00, 71.39it/s]\n",
      "  0%|          | 0/100 [00:00<?, ?it/s]"
     ]
    },
    {
     "name": "stdout",
     "output_type": "stream",
     "text": [
      "Determining optimal threshold ...\n"
     ]
    },
    {
     "name": "stderr",
     "output_type": "stream",
     "text": [
      " 94%|█████████▍| 94/100 [00:24<00:01,  3.50it/s]"
     ]
    },
    {
     "name": "stdout",
     "output_type": "stream",
     "text": [
      "Stopping early at threshold=0.20545949899789062. Number of spots fell below: 3\n",
      "computing final spots ...\n",
      "1\n"
     ]
    },
    {
     "name": "stderr",
     "output_type": "stream",
     "text": [
      "100%|██████████| 1/1 [00:00<00:00, 23.44it/s]\n",
      "  0%|          | 0/100 [00:00<?, ?it/s]"
     ]
    },
    {
     "name": "stdout",
     "output_type": "stream",
     "text": [
      "Determining optimal threshold ...\n"
     ]
    },
    {
     "name": "stderr",
     "output_type": "stream",
     "text": [
      " 94%|█████████▍| 94/100 [00:28<00:01,  3.43it/s]"
     ]
    },
    {
     "name": "stdout",
     "output_type": "stream",
     "text": [
      "Stopping early at threshold=0.20545949899789062. Number of spots fell below: 3\n",
      "computing final spots ...\n",
      "2\n"
     ]
    },
    {
     "name": "stderr",
     "output_type": "stream",
     "text": [
      "100%|██████████| 1/1 [00:00<00:00, 31.87it/s]\n",
      "  0%|          | 0/100 [00:00<?, ?it/s]"
     ]
    },
    {
     "name": "stdout",
     "output_type": "stream",
     "text": [
      "Determining optimal threshold ...\n"
     ]
    },
    {
     "name": "stderr",
     "output_type": "stream",
     "text": [
      " 94%|█████████▍| 94/100 [00:21<00:01,  4.82it/s]"
     ]
    },
    {
     "name": "stdout",
     "output_type": "stream",
     "text": [
      "Stopping early at threshold=0.20545949899789062. Number of spots fell below: 3\n",
      "computing final spots ...\n"
     ]
    }
   ],
   "source": [
    "for stringency in stringencies:\n",
    "\n",
    "    print(stringency)\n",
    "\n",
    "    test_img_path = './test_images_filtered/images/%s.png' % test_img_filename\n",
    "    im = imread(test_img_path, as_gray=True)\n",
    "    img_height = len(im)\n",
    "\n",
    "    # slice the ImageStack\n",
    "    sel = {Axes.ROUND: round_ind, Axes.CH: channel_ind, Axes.ZPLANE: 0}\n",
    "    single_plane_filtered = filtered_imgs.sel(sel)\n",
    "\n",
    "    lmp = DetectSpots.LocalMaxPeakFinder(\n",
    "        min_distance=6,\n",
    "        stringency=stringency,\n",
    "        min_obj_area=6,\n",
    "        max_obj_area=600,\n",
    "    )\n",
    "\n",
    "    new_stack = single_plane_filtered.from_numpy(single_plane_filtered.xarray.values) \n",
    "    intensities = lmp.run(new_stack)\n",
    "    spots = intensities[:, 0, 0].where(intensities[:, 0, 0] != 0, drop=True)\n",
    "    x_vals = spots.x.values\n",
    "    y_vals = spots.y.values\n",
    "\n",
    "    blobs = []\n",
    "    for x, y in zip(x_vals, y_vals):\n",
    "        blobs.append([x, y])\n",
    "    blobs = np.asarray(blobs)\n",
    "\n",
    "    path = './blobs_lmp/%s_%s.csv' % (test_img_filename, stringency)\n",
    "    np.savetxt(path, blobs, delimiter=\",\")\n"
   ]
  },
  {
   "cell_type": "code",
   "execution_count": 10,
   "metadata": {
    "scrolled": false
   },
   "outputs": [
    {
     "name": "stdout",
     "output_type": "stream",
     "text": [
      "0\n",
      "./test_images_filtered/coords/ISS_rnd0_ch3_z0.csv\n",
      "0.22929936305732485 0.7091346153846154\n",
      "./consensus/ISS_rnd0_ch3_z0/total.csv\n",
      "0.2227204783258595 0.7716981132075472\n",
      "1\n",
      "./test_images_filtered/coords/ISS_rnd0_ch3_z0.csv\n",
      "0.22820129546586945 0.7620192307692307\n",
      "./consensus/ISS_rnd0_ch3_z0/total.csv\n",
      "0.22417251755265796 0.7490566037735849\n",
      "2\n",
      "./test_images_filtered/coords/ISS_rnd0_ch3_z0.csv\n",
      "0.2294383149448345 0.7475961538461539\n",
      "./consensus/ISS_rnd0_ch3_z0/total.csv\n",
      "0.22369426751592356 0.7132075471698113\n"
     ]
    }
   ],
   "source": [
    "precision_recall = []\n",
    "expert_path = './test_images_filtered/coords/%s.csv' % test_img_filename\n",
    "consensus_path = './consensus/%s/total.csv' % test_img_filename\n",
    "\n",
    "for stringency in stringencies:\n",
    "    print(stringency)\n",
    "    for origin in origins:\n",
    "\n",
    "        ref_path = expert_path if origin=='expert' else consensus_path\n",
    "        ref_coords = np.asarray(pd.read_csv(ref_path))  \n",
    "\n",
    "        print(ref_path)\n",
    "\n",
    "        # calc precision and recall\n",
    "        precision, recall = util.get_precision_recall(test_coords=blobs, ref_coords=ref_coords, correctness_threshold=correctness_threshold)\n",
    "        precision_recall.append((precision, recall))\n",
    "\n",
    "        blobs = np.asarray(pd.read_csv('./blobs_lmp_4/%s_%s.csv' % (test_img_filename, stringency), header=None))\n",
    "\n",
    "        print(precision, recall)\n",
    "#         ####################\n",
    "#         plt.figure(figsize=(10,10))\n",
    "#         for x, y in blobs:\n",
    "#             plt.scatter([x], [y], edgecolor='cyan', facecolor='None')\n",
    "#         plt.imshow(im, cmap='gray')\n",
    "#         for x, y in ref_coords:\n",
    "#             plt.scatter([x], [y], edgecolor='yellow', facecolor='None')\n",
    "#         plt.title('Stringency = %s. Precision = %s, Recall = %s based on %s annotations' % (stringency, round(precision, 2), round(recall, 2), origin))\n",
    "#         plt.show()\n",
    "#         ###################\n",
    "np.savetxt('./blobs_lmp/precision_recall.csv', precision_recall, delimiter=\",\")"
   ]
  },
  {
   "cell_type": "code",
   "execution_count": 15,
   "metadata": {
    "scrolled": false
   },
   "outputs": [
    {
     "data": {
      "image/png": "[encoded data removed]",
      "text/plain": [
       "<Figure size 432x288 with 1 Axes>"
      ]
     },
     "metadata": {
      "needs_background": "light"
     },
     "output_type": "display_data"
    },
    {
     "data": {
      "image/png": "[encoded data removed]",
      "text/plain": [
       "<Figure size 432x288 with 1 Axes>"
      ]
     },
     "metadata": {
      "needs_background": "light"
     },
     "output_type": "display_data"
    }
   ],
   "source": [
    "precision_recall = np.asarray(pd.read_csv('./blobs_lmp_0_3/precision_recall.csv', header=None))\n",
    "expert_precision_recall, consensus_precision_recall = [], []\n",
    "for ind, pr in enumerate(precision_recall):\n",
    "    p, r = pr\n",
    "    if ind % 2 == 0:\n",
    "        expert_precision_recall.append([p,r])\n",
    "    else:\n",
    "        consensus_precision_recall.append([p,r])\n",
    "plt.figure()\n",
    "plt.title('blue: expert as ground truth. orange: consensus as ground truth\\n')\n",
    "plt.plot(stringencies, [x[0] for x in expert_precision_recall], c='xkcd:blue')\n",
    "plt.plot(stringencies, [x[0] for x in consensus_precision_recall], c='xkcd:orange')\n",
    "plt.xlabel('Stringency')\n",
    "plt.ylabel('Precision')\n",
    "plt.xticks(stringencies)\n",
    "plt.ylim(0.2, 0.3)\n",
    "plt.show()\n",
    "\n",
    "plt.figure()\n",
    "plt.title('blue: expert as ground truth. orange: consensus as ground truth\\n')\n",
    "plt.plot(stringencies, [x[1] for x in expert_precision_recall], c='xkcd:blue')\n",
    "plt.plot(stringencies, [x[1] for x in consensus_precision_recall], c='xkcd:orange')\n",
    "plt.xlabel('Stringency')\n",
    "plt.ylabel('Recall')\n",
    "plt.xticks(stringencies)\n",
    "plt.ylim(0.6, 0.8)\n",
    "plt.show()"
   ]
  },
  {
   "cell_type": "code",
   "execution_count": 17,
   "metadata": {},
   "outputs": [
    {
     "data": {
      "text/plain": [
       "(0.22929936305732485,\n",
       " 0.22272047832585953,\n",
       " 0.7091346153846154,\n",
       " 0.7716981132075471)"
      ]
     },
     "execution_count": 17,
     "metadata": {},
     "output_type": "execute_result"
    }
   ],
   "source": [
    "expert_precision = expert_precision_recall[0][0]\n",
    "consensus_precision = consensus_precision_recall[0][0]\n",
    "expert_recall = expert_precision_recall[0][1]\n",
    "consensus_recall = consensus_precision_recall[0][1]\n",
    "expert_precision, consensus_precision, expert_recall, consensus_recall"
   ]
  },
  {
   "cell_type": "code",
   "execution_count": null,
   "metadata": {},
   "outputs": [],
   "source": []
  }
 ],
 "metadata": {
  "kernelspec": {
   "display_name": "Python 3",
   "language": "python",
   "name": "python3"
  },
  "language_info": {
   "codemirror_mode": {
    "name": "ipython",
    "version": 3
   },
   "file_extension": ".py",
   "mimetype": "text/x-python",
   "name": "python",
   "nbconvert_exporter": "python",
   "pygments_lexer": "ipython3",
   "version": "3.6.5"
  }
 },
 "nbformat": 4,
 "nbformat_minor": 2
}

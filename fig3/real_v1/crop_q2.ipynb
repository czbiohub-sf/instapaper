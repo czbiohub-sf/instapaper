{
 "cells": [
  {
   "cell_type": "markdown",
   "metadata": {},
   "source": [
    "# Objective\n",
    "\n",
    "Test usage of recursive cropping on the spot image specified in the title."
   ]
  },
  {
   "cell_type": "code",
   "execution_count": 1,
   "metadata": {},
   "outputs": [],
   "source": [
    "import os\n",
    "import numpy as np\n",
    "import matplotlib.image as mpimg\n",
    "import matplotlib.pyplot as plt\n",
    "from sklearn.neighbors import KDTree\n",
    "from sklearn.cluster import AffinityPropagation"
   ]
  },
  {
   "cell_type": "code",
   "execution_count": 2,
   "metadata": {},
   "outputs": [],
   "source": [
    "cwd = os.getcwd()\n",
    "name = 'rca-lna_cy3_q2'\n",
    "csv_name = name + '_coords.csv'\n",
    "csv_path = cwd + '/naive_anno/' + csv_name"
   ]
  },
  {
   "cell_type": "code",
   "execution_count": 3,
   "metadata": {
    "scrolled": true
   },
   "outputs": [
    {
     "data": {
      "image/png": "[encoded data removed]",
      "text/plain": [
       "<Figure size 432x288 with 1 Axes>"
      ]
     },
     "metadata": {},
     "output_type": "display_data"
    }
   ],
   "source": [
    "coords = np.genfromtxt(csv_path, delimiter=',')\n",
    "for coord in coords:\n",
    "    plt.scatter(coord[0], coord[1], facecolors = 'c')\n",
    "plt.title('Clusters found by naive annotation')\n",
    "plt.show()"
   ]
  },
  {
   "cell_type": "markdown",
   "metadata": {},
   "source": [
    "# Approach\n",
    "1. Identify all crowded spots. Crowded spots are less than a crosshair arm length from the nearest neighbor.\n",
    "2. Separate regions with many crowded spots.\n",
    "3. Define a bounding box around each region with many crowded spots.\n",
    "\n",
    "## Goal 1: Identify crowded spots.\n",
    "\n",
    "Highlight spots which are too close to (i.e. less than an crosshair arm length from) the nearest neighbor. \n",
    "\n",
    "#### Min distance between two spots = crosshair arm length, relative to image width\n",
    "\n",
    "There's a minimum distance between two spots for the crosshair mark left on one spot to not obscure the other spot. This minimum distance is the length of one arm of a crosshair. This minimum distance is in proportion with the pixel width of the image, since in Quantius the crosshairs take up the same proportion of the image regardless of image size.\n",
    "\n",
    "Measuring by hand, I found the crosshair to image width ratio to be about 7:115, or 0.0609. Therefore one crosshair arm length is 0.03045 times the image width, so spots should be at least that far apart.\n",
    "\n",
    "**\"Crowded spots\"** are spots which are less than a crosshair arm's length from the nearest neighbor."
   ]
  },
  {
   "cell_type": "code",
   "execution_count": 4,
   "metadata": {
    "scrolled": false
   },
   "outputs": [
    {
     "name": "stdout",
     "output_type": "stream",
     "text": [
      "crosshair_arm_length = 9.135\n",
      "crowded spots / total spots = 0 / 17 = 0.0 %\n"
     ]
    },
    {
     "data": {
      "image/png": "[encoded data removed]",
      "text/plain": [
       "<Figure size 432x288 with 1 Axes>"
      ]
     },
     "metadata": {},
     "output_type": "display_data"
    },
    {
     "data": {
      "image/png": "[encoded data removed]",
      "text/plain": [
       "<Figure size 432x288 with 1 Axes>"
      ]
     },
     "metadata": {},
     "output_type": "display_data"
    }
   ],
   "source": [
    "kdt = KDTree(coords, leaf_size=2, metric='euclidean')\n",
    "\n",
    "def get_nnd(coord, kdt):\n",
    "    dist, ind = kdt.query([coord], k=2)\n",
    "    return dist[0][1]\n",
    "\n",
    "crosshair_arm_to_image_width_ratio = 0.03045   # measured empirically in Quantius's UI\n",
    "image_width = 300\n",
    "crosshair_arm_length = crosshair_arm_to_image_width_ratio * image_width\n",
    "print('crosshair_arm_length = ' + str(crosshair_arm_length))\n",
    "\n",
    "close_distances = []\n",
    "crowded_spots = []\n",
    "for coord in coords:\n",
    "    nnd = get_nnd(coord, kdt)\n",
    "    if nnd < crosshair_arm_length:\n",
    "        close_distances.append(nnd)\n",
    "        crowded_spots.append(coord)\n",
    "        plt.scatter(coord[0], coord[1], facecolors = 'm')\n",
    "    else:\n",
    "        plt.scatter(coord[0], coord[1], facecolors = 'c')\n",
    "\n",
    "print('crowded spots / total spots = ' + str(len(crowded_spots)) + ' / ' + str(len(coords)) + ' = ' + str(round((float(len(crowded_spots))/len(coords)), 2)) + ' %')\n",
    "        \n",
    "plt.title('magenta = crowded spots, cyan = other spots')\n",
    "plt.show()\n",
    "plt.hist(close_distances, color = 'm')\n",
    "plt.title('Distances between each crowded spots and the nearest crowded spot')\n",
    "plt.show()"
   ]
  },
  {
   "cell_type": "markdown",
   "metadata": {},
   "source": [
    "## Goal 2: Separate regions with many crowded spots.\n",
    "\n",
    "Use AffinityPropagation on crowded spots to separate out regions with many crowded spots. Smaller preference parameter results in fewer separated regions."
   ]
  },
  {
   "cell_type": "code",
   "execution_count": 5,
   "metadata": {},
   "outputs": [
    {
     "ename": "ValueError",
     "evalue": "Expected 2D array, got 1D array instead:\narray=[].\nReshape your data either using array.reshape(-1, 1) if your data has a single feature or array.reshape(1, -1) if it contains a single sample.",
     "output_type": "error",
     "traceback": [
      "\u001b[0;31m---------------------------------------------------------------------------\u001b[0m",
      "\u001b[0;31mValueError\u001b[0m                                Traceback (most recent call last)",
      "\u001b[0;32m<ipython-input-5-faba216005e7>\u001b[0m in \u001b[0;36m<module>\u001b[0;34m()\u001b[0m\n\u001b[1;32m      1\u001b[0m \u001b[0mpref_param\u001b[0m \u001b[0;34m=\u001b[0m \u001b[0;34m-\u001b[0m\u001b[0;36m50000\u001b[0m\u001b[0;34m\u001b[0m\u001b[0m\n\u001b[1;32m      2\u001b[0m \u001b[0mcrowded_coords\u001b[0m \u001b[0;34m=\u001b[0m \u001b[0mnp\u001b[0m\u001b[0;34m.\u001b[0m\u001b[0masarray\u001b[0m\u001b[0;34m(\u001b[0m\u001b[0mcrowded_spots\u001b[0m\u001b[0;34m)\u001b[0m\u001b[0;34m\u001b[0m\u001b[0m\n\u001b[0;32m----> 3\u001b[0;31m \u001b[0maf\u001b[0m \u001b[0;34m=\u001b[0m \u001b[0mAffinityPropagation\u001b[0m\u001b[0;34m(\u001b[0m\u001b[0mpreference\u001b[0m \u001b[0;34m=\u001b[0m \u001b[0mpref_param\u001b[0m\u001b[0;34m)\u001b[0m\u001b[0;34m.\u001b[0m\u001b[0mfit\u001b[0m\u001b[0;34m(\u001b[0m\u001b[0mcrowded_coords\u001b[0m\u001b[0;34m)\u001b[0m\u001b[0;34m\u001b[0m\u001b[0m\n\u001b[0m\u001b[1;32m      4\u001b[0m \u001b[0mcenters\u001b[0m \u001b[0;34m=\u001b[0m \u001b[0;34m[\u001b[0m\u001b[0mcrowded_coords\u001b[0m\u001b[0;34m[\u001b[0m\u001b[0mindex\u001b[0m\u001b[0;34m]\u001b[0m \u001b[0;32mfor\u001b[0m \u001b[0mindex\u001b[0m \u001b[0;32min\u001b[0m \u001b[0maf\u001b[0m\u001b[0;34m.\u001b[0m\u001b[0mcluster_centers_indices_\u001b[0m\u001b[0;34m]\u001b[0m\u001b[0;34m\u001b[0m\u001b[0m\n\u001b[1;32m      5\u001b[0m \u001b[0mprint\u001b[0m\u001b[0;34m(\u001b[0m\u001b[0mcenters\u001b[0m\u001b[0;34m)\u001b[0m\u001b[0;34m\u001b[0m\u001b[0m\n",
      "\u001b[0;32m/Library/Frameworks/Python.framework/Versions/3.6/lib/python3.6/site-packages/sklearn/cluster/affinity_propagation_.py\u001b[0m in \u001b[0;36mfit\u001b[0;34m(self, X, y)\u001b[0m\n\u001b[1;32m    292\u001b[0m \u001b[0;34m\u001b[0m\u001b[0m\n\u001b[1;32m    293\u001b[0m         \"\"\"\n\u001b[0;32m--> 294\u001b[0;31m         \u001b[0mX\u001b[0m \u001b[0;34m=\u001b[0m \u001b[0mcheck_array\u001b[0m\u001b[0;34m(\u001b[0m\u001b[0mX\u001b[0m\u001b[0;34m,\u001b[0m \u001b[0maccept_sparse\u001b[0m\u001b[0;34m=\u001b[0m\u001b[0;34m'csr'\u001b[0m\u001b[0;34m)\u001b[0m\u001b[0;34m\u001b[0m\u001b[0m\n\u001b[0m\u001b[1;32m    295\u001b[0m         \u001b[0;32mif\u001b[0m \u001b[0mself\u001b[0m\u001b[0;34m.\u001b[0m\u001b[0maffinity\u001b[0m \u001b[0;34m==\u001b[0m \u001b[0;34m\"precomputed\"\u001b[0m\u001b[0;34m:\u001b[0m\u001b[0;34m\u001b[0m\u001b[0m\n\u001b[1;32m    296\u001b[0m             \u001b[0mself\u001b[0m\u001b[0;34m.\u001b[0m\u001b[0maffinity_matrix_\u001b[0m \u001b[0;34m=\u001b[0m \u001b[0mX\u001b[0m\u001b[0;34m\u001b[0m\u001b[0m\n",
      "\u001b[0;32m/Library/Frameworks/Python.framework/Versions/3.6/lib/python3.6/site-packages/sklearn/utils/validation.py\u001b[0m in \u001b[0;36mcheck_array\u001b[0;34m(array, accept_sparse, dtype, order, copy, force_all_finite, ensure_2d, allow_nd, ensure_min_samples, ensure_min_features, warn_on_dtype, estimator)\u001b[0m\n\u001b[1;32m    439\u001b[0m                     \u001b[0;34m\"Reshape your data either using array.reshape(-1, 1) if \"\u001b[0m\u001b[0;34m\u001b[0m\u001b[0m\n\u001b[1;32m    440\u001b[0m                     \u001b[0;34m\"your data has a single feature or array.reshape(1, -1) \"\u001b[0m\u001b[0;34m\u001b[0m\u001b[0m\n\u001b[0;32m--> 441\u001b[0;31m                     \"if it contains a single sample.\".format(array))\n\u001b[0m\u001b[1;32m    442\u001b[0m             \u001b[0marray\u001b[0m \u001b[0;34m=\u001b[0m \u001b[0mnp\u001b[0m\u001b[0;34m.\u001b[0m\u001b[0matleast_2d\u001b[0m\u001b[0;34m(\u001b[0m\u001b[0marray\u001b[0m\u001b[0;34m)\u001b[0m\u001b[0;34m\u001b[0m\u001b[0m\n\u001b[1;32m    443\u001b[0m             \u001b[0;31m# To ensure that array flags are maintained\u001b[0m\u001b[0;34m\u001b[0m\u001b[0;34m\u001b[0m\u001b[0m\n",
      "\u001b[0;31mValueError\u001b[0m: Expected 2D array, got 1D array instead:\narray=[].\nReshape your data either using array.reshape(-1, 1) if your data has a single feature or array.reshape(1, -1) if it contains a single sample."
     ]
    }
   ],
   "source": [
    "pref_param = -50000\n",
    "crowded_coords = np.asarray(crowded_spots)\n",
    "af = AffinityPropagation(preference = pref_param).fit(crowded_coords)\n",
    "centers = [crowded_coords[index] for index in af.cluster_centers_indices_]\n",
    "print(centers)"
   ]
  },
  {
   "cell_type": "code",
   "execution_count": null,
   "metadata": {},
   "outputs": [],
   "source": [
    "for coord in coords:\n",
    "    nnd = get_nnd(coord, kdt)\n",
    "    if nnd < crosshair_arm_length:\n",
    "        plt.scatter(coord[0], coord[1], facecolors = 'm')\n",
    "    else:\n",
    "        plt.scatter(coord[0], coord[1], facecolors = 'c')\n",
    "for center in centers:\n",
    "    plt.scatter(center[0], center[1], facecolors = 'orange')\n",
    "plt.show()"
   ]
  },
  {
   "cell_type": "markdown",
   "metadata": {},
   "source": [
    "## Goal 3: Define a bounding box around each region with many crowded spots."
   ]
  },
  {
   "cell_type": "code",
   "execution_count": null,
   "metadata": {
    "scrolled": false
   },
   "outputs": [],
   "source": [
    "cluster_members_lists = [[] for i in range(len(centers))]\n",
    "for label_index, coord in zip(af.labels_, crowded_coords):\n",
    "    cluster_members_lists[label_index].append(coord)\n",
    "\n",
    "crop_bounds = []\n",
    "for l in cluster_members_lists:\n",
    "    l = np.asarray(l)\n",
    "    x = l[:,0]\n",
    "    y = l[:,1]\n",
    "    crop_bounds.append((min(x), max(x), min(y), max(y)))\n",
    "print(crop_bounds)"
   ]
  },
  {
   "cell_type": "code",
   "execution_count": null,
   "metadata": {},
   "outputs": [],
   "source": [
    "from matplotlib.patches import Rectangle\n",
    "fig,ax = plt.subplots(1)\n",
    "for coord in coords:\n",
    "    nnd = get_nnd(coord, kdt)\n",
    "    if nnd < crosshair_arm_length:\n",
    "        ax.scatter(coord[0], coord[1], facecolors = 'm')\n",
    "    else:\n",
    "        ax.scatter(coord[0], coord[1], facecolors = 'c')\n",
    "for center in centers:\n",
    "    plt.scatter(center[0], center[1], facecolors = 'orange')\n",
    "\n",
    "colors = ['red', 'orange', 'black', 'green', 'blue', 'purple', 'violet']\n",
    "for crop, col in zip(crop_bounds, colors):\n",
    "    rect = Rectangle((crop[0], crop[2]), crop[1]-crop[0], crop[3]-crop[2], edgecolor = col, facecolor = 'none')\n",
    "    ax.add_patch(rect)\n",
    "plt.title('Original coords with crops shown')\n",
    "plt.show()\n",
    "print(crop)"
   ]
  },
  {
   "cell_type": "markdown",
   "metadata": {},
   "source": [
    "## Analyze each crop seperately to see whether spots are now spaced far enough apart.\n",
    "\n",
    "On scatter plots, spots closer to nearest neighbor than the width of a crosshair arm are marked in magenta."
   ]
  },
  {
   "cell_type": "code",
   "execution_count": null,
   "metadata": {
    "scrolled": false
   },
   "outputs": [],
   "source": [
    "for i in range(len(crop_bounds)):\n",
    "    print('-------------------------------------------------')\n",
    "    print('Crop ' + str(i))\n",
    "    \n",
    "    crop = crop_bounds[i]\n",
    "    col = colors[i]\n",
    "    xmin = crop[0]\n",
    "    xmax = crop[1]\n",
    "    ymin = crop[2]\n",
    "    ymax = crop[3]\n",
    "    crop_width = crop[1]-crop[0]\n",
    "    crosshair_arm_length = crosshair_arm_to_image_width_ratio * crop_width\n",
    "    print('crosshair_arm_length = ' + str(crosshair_arm_length)) \n",
    "    \n",
    "    crop_coords = []\n",
    "    for coord in coords:\n",
    "        if coord[0] >= xmin and coord[0] <= xmax:\n",
    "            if coord[1] >= ymin and coord[1] <= ymax:\n",
    "                crop_coords.append(coord)\n",
    "                \n",
    "    crop_kdt = KDTree(crop_coords, leaf_size=2, metric='euclidean')\n",
    "    \n",
    "    close_distances = []\n",
    "    crowded_spots = []\n",
    "    for coord in crop_coords:\n",
    "        nnd = get_nnd(coord, crop_kdt)\n",
    "        if nnd < crosshair_arm_length:\n",
    "            close_distances.append(nnd)\n",
    "            crowded_spots.append(coord)\n",
    "            plt.scatter(coord[0], coord[1], facecolors = 'm')\n",
    "        else:\n",
    "            plt.scatter(coord[0], coord[1], facecolors = col)\n",
    "    \n",
    "    print('crowded spots / total spots = ' + str(len(crowded_spots)) + ' / ' + str(len(crop_coords)) + ' = ' + str(round((float(len(crowded_spots))/len(crop_coords)), 2)) + ' %')\n",
    "    \n",
    "    plt.title('magenta = crowded spots, ' + str(col) + '  = other spots')\n",
    "    plt.show()\n",
    "    plt.hist(close_distances, color = 'm')\n",
    "    plt.yticks(np.arange(0, 10, step=1))\n",
    "    plt.title('Dist. from each crowded spot to the nearest crowded spot')\n",
    "    plt.show()"
   ]
  },
  {
   "cell_type": "code",
   "execution_count": null,
   "metadata": {},
   "outputs": [],
   "source": []
  }
 ],
 "metadata": {
  "kernelspec": {
   "display_name": "Python 3",
   "language": "python",
   "name": "python3"
  },
  "language_info": {
   "codemirror_mode": {
    "name": "ipython",
    "version": 3
   },
   "file_extension": ".py",
   "mimetype": "text/x-python",
   "name": "python",
   "nbconvert_exporter": "python",
   "pygments_lexer": "ipython3",
   "version": "3.6.5"
  }
 },
 "nbformat": 4,
 "nbformat_minor": 2
}

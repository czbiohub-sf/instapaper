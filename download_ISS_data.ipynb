{
 "cells": [
  {
   "cell_type": "code",
   "execution_count": 1,
   "metadata": {},
   "outputs": [
    {
     "ename": "ImportError",
     "evalue": "cannot import name 'Axes'",
     "output_type": "error",
     "traceback": [
      "\u001b[0;31m---------------------------------------------------------------------------\u001b[0m",
      "\u001b[0;31mImportError\u001b[0m                               Traceback (most recent call last)",
      "\u001b[0;32m<ipython-input-1-855a34e7d68c>\u001b[0m in \u001b[0;36m<module>\u001b[0;34m\u001b[0m\n\u001b[1;32m      4\u001b[0m \u001b[0;34m\u001b[0m\u001b[0m\n\u001b[1;32m      5\u001b[0m \u001b[0;32mfrom\u001b[0m \u001b[0mstarfish\u001b[0m \u001b[0;32mimport\u001b[0m \u001b[0mdata\u001b[0m\u001b[0;34m,\u001b[0m \u001b[0mFieldOfView\u001b[0m\u001b[0;34m\u001b[0m\u001b[0m\n\u001b[0;32m----> 6\u001b[0;31m \u001b[0;32mfrom\u001b[0m \u001b[0mstarfish\u001b[0m\u001b[0;34m.\u001b[0m\u001b[0mtypes\u001b[0m \u001b[0;32mimport\u001b[0m \u001b[0mAxes\u001b[0m\u001b[0;34m\u001b[0m\u001b[0m\n\u001b[0m",
      "\u001b[0;31mImportError\u001b[0m: cannot import name 'Axes'"
     ]
    }
   ],
   "source": [
    "import os\n",
    "\n",
    "from skimage import io, img_as_ubyte\n",
    "\n",
    "from starfish import data, FieldOfView\n",
    "from starfish.types import Axes"
   ]
  },
  {
   "cell_type": "code",
   "execution_count": null,
   "metadata": {},
   "outputs": [],
   "source": [
    "# Download the ISS data\n",
    "experiment = data.ISS(use_test_data=False)\n",
    "\n",
    "# Download the spots data as an ImageStack object\n",
    "fov = experiment.fov()\n",
    "primary_image = fov.get_image(FieldOfView.PRIMARY_IMAGES)\n",
    "\n",
    "# Display the shape of the ImageStack\n",
    "# The image data are stored in an x array\n",
    "primary_image.xarray.shape"
   ]
  },
  {
   "cell_type": "code",
   "execution_count": null,
   "metadata": {},
   "outputs": [],
   "source": [
    "# Get the number of channels in the ImageStack\n",
    "num_ch = primary_image.num_chs\n",
    "\n",
    "# Get the number of round in the ImageStack\n",
    "num_rnd = primary_image.num_rounds\n",
    "\n",
    "# Get the number of z slices in the ImageStack\n",
    "num_z = primary_image.num_zplanes\n",
    "\n",
    "print('%d rounds, %d channels, and %d z slice(s)' % (num_rnd, num_ch, num_z))"
   ]
  },
  {
   "cell_type": "code",
   "execution_count": null,
   "metadata": {},
   "outputs": [],
   "source": [
    "# Iterate through the images and save them to disk\n",
    "for rnd in range(num_rnd):\n",
    "    for channel in range(num_ch):\n",
    "        for z in range(num_z):\n",
    "            # Create the file name\n",
    "            file_name = 'ISS_rnd%d_ch%d_z%d.png' % (rnd, channel, z)\n",
    "            \n",
    "            # Create the selector. This dictionary selects which slice (i.e., round, channel, z coords)\n",
    "            # to select from the image stack\n",
    "            selector = {\n",
    "                Axes.ROUND: rnd,\n",
    "                Axes.CH: channel,\n",
    "                Axes.ZPLANE: z\n",
    "            }\n",
    "            \n",
    "            # Get the slice\n",
    "            (im, _) = primary_image.get_slice(selector)\n",
    "            \n",
    "            # Save the slice\n",
    "            io.imsave(file_name, img_as_im, check_contrast=False)\n"
   ]
  }
 ],
 "metadata": {
  "kernelspec": {
   "display_name": ".venv",
   "language": "python",
   "name": ".venv"
  },
  "language_info": {
   "codemirror_mode": {
    "name": "ipython",
    "version": 3
   },
   "file_extension": ".py",
   "mimetype": "text/x-python",
   "name": "python",
   "nbconvert_exporter": "python",
   "pygments_lexer": "ipython3",
   "version": "3.6.5"
  }
 },
 "nbformat": 4,
 "nbformat_minor": 2
}

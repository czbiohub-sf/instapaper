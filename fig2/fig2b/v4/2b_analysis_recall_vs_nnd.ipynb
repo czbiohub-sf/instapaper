{
 "cells": [
  {
   "cell_type": "code",
   "execution_count": 1,
   "metadata": {},
   "outputs": [],
   "source": [
    "import collections, math, os, sys\n",
    "sys.path.insert(0, '../../../../FISH-annotation/Annotation')\n",
    "from SpotAnnotationAnalysis import SpotAnnotationAnalysis\n",
    "from QuantiusAnnotation import QuantiusAnnotation\n",
    "from sklearn.neighbors import KDTree\n",
    "import util\n",
    "import pandas as pd\n",
    "import matplotlib.pyplot as plt"
   ]
  },
  {
   "cell_type": "markdown",
   "metadata": {},
   "source": [
    "# Recall vs. NND\n",
    "Recall vs. NND. Each marker represents one NND bin."
   ]
  },
  {
   "cell_type": "code",
   "execution_count": 8,
   "metadata": {},
   "outputs": [],
   "source": [
    "middle_bins = [(x, y) for x, y in zip(range(3, 13, 2), range(5, 15, 2)) ] \n",
    "nnd_bins = [(0, 3)] + middle_bins + [(15, 30)]"
   ]
  },
  {
   "cell_type": "code",
   "execution_count": 3,
   "metadata": {},
   "outputs": [],
   "source": [
    "density_list = [0.0025, 0.0027, 0.003, 0.0037, 0.004, 0.005, 0.006, 0.007, 0.008, 0.009]\n",
    "clustering_params = ['AffinityPropagation', -350]\n",
    "correctness_threshold = 4\n",
    "declumping_params = ['KMeans', 2]\n",
    "height = 300\n",
    "cwd = os.getcwd()"
   ]
  },
  {
   "cell_type": "code",
   "execution_count": 14,
   "metadata": {
    "scrolled": false
   },
   "outputs": [],
   "source": [
    "json_paths = [cwd + '/anno/Fig2B.json',\n",
    "              cwd + '/anno/Fig2B_inv.json']\n",
    "\n",
    "num_spots_detected_list = [0]*len(nnd_bins)\n",
    "num_spots_total_list = [0]*len(nnd_bins)\n",
    "detection_lists = []\n",
    "\n",
    "# for each file\n",
    "for json_path in json_paths:\n",
    "    detection_list = []\n",
    "    \n",
    "    # for each image\n",
    "    for density in density_list:\n",
    "        print(density)\n",
    "        \n",
    "        if(json_path == json_paths[0]):\n",
    "            img_name = 'snr_9_1_density_' + str(density) + '_spot_img.png'\n",
    "            img_path = cwd + '/spot_images/og/' + img_name\n",
    "        else:\n",
    "            img_name = 'snr_9_1_density_' + str(density) + '_spot_img_inv.png'\n",
    "            img_path = cwd + '/spot_images/inv/' + img_name\n",
    "        \n",
    "        csv_path = cwd + '/spot_data/' + 'snr_9_1_density_' + str(density) + '_coord_snr_list.csv'\n",
    "        \n",
    "        \"\"\" Get cluster centroids \"\"\"\n",
    "        qa = QuantiusAnnotation(json_path, img_name)\n",
    "        anno_all = qa.df()\n",
    "        sa = SpotAnnotationAnalysis(qa)\n",
    "\n",
    "        clusters = sa.get_clusters(anno_all, clustering_params)\n",
    "        cluster_size_threshold = util.get_cluster_size_threshold(clusters)\n",
    "        small_clusters, large_clusters = util.sort_clusters_by_size(clusters, cluster_size_threshold)\n",
    "        clumpiness_threshold = util.get_clumpiness_threshold(large_clusters)\n",
    "        clumpy_clusters, nonclumpy_clusters = util.sort_clusters_by_clumpiness(large_clusters, clumpiness_threshold)\n",
    "        result_clusters = nonclumpy_clusters\n",
    "        for i in range(len(clumpy_clusters.index)):\n",
    "            subclusters = util.declump(clumpy_clusters, i, declumping_params)\n",
    "            result_clusters = pd.concat([subclusters, result_clusters], ignore_index=True)\n",
    "\n",
    "        \"\"\" Count up num_spots_detected, num_spots_total at each SNR \"\"\"\n",
    "        result_points = result_clusters.loc[:, ['centroid_x', 'centroid_y']].as_matrix()\n",
    "        result_kdt = KDTree(result_points, leaf_size=2, metric='euclidean')\n",
    "        \n",
    "        ref_df = pd.read_csv(csv_path)\n",
    "        ref_points = ref_df.loc[:, ['col', 'row']].as_matrix()\n",
    "        ref_kdt = KDTree(ref_points, leaf_size=2, metric='euclidean')\n",
    "\n",
    "        # for each bin\n",
    "        for index in range(len(nnd_bins)):\n",
    "            low, high = nnd_bins[index]\n",
    "            num_total = 0\n",
    "            num_detected = 0\n",
    "\n",
    "            # for each spot in the image\n",
    "            for ref_point in ref_points:\n",
    "                dist, ind = ref_kdt.query([ref_point], k=2)\n",
    "                ref_nnd = dist[0][1]\n",
    "\n",
    "                # if the spot's is in the SNR bin\n",
    "                if (ref_nnd > low) and (ref_nnd <= high):\n",
    "                    num_total += 1\n",
    "                    dist, ind = result_kdt.query([[ref_point[0], height-ref_point[1]]], k=1)\n",
    "                    if dist[0][0] <= correctness_threshold:\n",
    "                        num_detected += 1\n",
    "            num_spots_total_list[index] += num_total    \n",
    "            num_spots_detected_list[index] += num_detected\n",
    "\n",
    "    detection_list = [d/t for d, t in zip(num_spots_detected_list, num_spots_total_list)]\n",
    "    detection_lists.append(detection_list)\n",
    "    \n",
    "print(detection_lists)"
   ]
  },
  {
   "cell_type": "code",
   "execution_count": 13,
   "metadata": {},
   "outputs": [
    {
     "data": {
      "image/png": "[encoded data removed]",
      "text/plain": [
       "<Figure size 432x288 with 1 Axes>"
      ]
     },
     "metadata": {},
     "output_type": "display_data"
    }
   ],
   "source": [
    "from matplotlib.lines import Line2D\n",
    "\n",
    "nnd_list = range(2, 16, 2)\n",
    "plt.scatter(nnd_list, detection_lists[0], color='blue')\n",
    "plt.plot(nnd_list, detection_lists[0], color='blue')\n",
    "plt.scatter(nnd_list, detection_lists[1], color='orange')\n",
    "plt.plot(nnd_list, detection_lists[1], color='orange')\n",
    "\n",
    "e1 = Line2D([0],[0], color='blue', label='original image')\n",
    "e2 = Line2D([0],[0], color='orange', label='inverted image')\n",
    "plt.legend(handles=[e1, e2], loc=9, bbox_to_anchor=(1.4, 0.715))\n",
    "\n",
    "plt.xticks(range(2, 16, 2))\n",
    "plt.xlim(0, 15)\n",
    "plt.xlabel('NND (midpoint of bin)')\n",
    "plt.ylabel('Recall')\n",
    "plt.title('Recall vs. NND')\n",
    "plt.show()"
   ]
  },
  {
   "cell_type": "code",
   "execution_count": null,
   "metadata": {},
   "outputs": [],
   "source": []
  }
 ],
 "metadata": {
  "kernelspec": {
   "display_name": "Python 3",
   "language": "python",
   "name": "python3"
  },
  "language_info": {
   "codemirror_mode": {
    "name": "ipython",
    "version": 3
   },
   "file_extension": ".py",
   "mimetype": "text/x-python",
   "name": "python",
   "nbconvert_exporter": "python",
   "pygments_lexer": "ipython3",
   "version": "3.6.5"
  }
 },
 "nbformat": 4,
 "nbformat_minor": 2
}

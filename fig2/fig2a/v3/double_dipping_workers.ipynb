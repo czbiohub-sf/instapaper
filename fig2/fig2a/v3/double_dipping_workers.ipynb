{
 "cells": [
  {
   "cell_type": "markdown",
   "metadata": {},
   "source": [
    "# Takeaway\n",
    "\n",
    "63.2 percent of all 38 workers who participated in this experiment annotated more than one image. The images were all submitted together in one job."
   ]
  },
  {
   "cell_type": "code",
   "execution_count": 2,
   "metadata": {},
   "outputs": [],
   "source": [
    "import collections, math, os, sys\n",
    "sys.path.insert(0, '../../../../FISH-annotation/Annotation')\n",
    "from SpotAnnotationAnalysis import SpotAnnotationAnalysis\n",
    "from QuantiusAnnotation import QuantiusAnnotation\n",
    "import util\n",
    "import numpy as np\n",
    "import pandas as pd"
   ]
  },
  {
   "cell_type": "code",
   "execution_count": 3,
   "metadata": {},
   "outputs": [],
   "source": [
    "snr_list = np.arange(5, 13, 1)\n",
    "cwd = os.getcwd()"
   ]
  },
  {
   "cell_type": "code",
   "execution_count": 9,
   "metadata": {},
   "outputs": [
    {
     "name": "stdout",
     "output_type": "stream",
     "text": [
      "A13XLIF77WB05P \t [5, 7, 9, 11]\n",
      "A1846L312BWICW \t [5, 7, 9]\n",
      "A18G9T35JWC3ZO \t [5, 7, 9, 11]\n",
      "A1GMI0MNUZZAE0 \t [5]\n",
      "A1MPGNVKJI4ZT6 \t [5, 7, 9, 11]\n",
      "A1X6G1TYMBFI9M \t [5]\n",
      "A1XASN2FXR9YPC \t [5, 7, 9, 11]\n",
      "A1ZA7L9H8TVE1V \t [5, 7, 9, 11]\n",
      "A2KFULED9WP0I0 \t [5, 7, 9, 11]\n",
      "A2RH2XX9YYD38Z \t [5, 7, 9, 11]\n",
      "A2SUUY4NLWWMUI \t [5]\n",
      "A2TU89V68N6GPU \t [5, 7, 9, 11]\n",
      "A387KV7QV80X50 \t [5]\n",
      "A3NMOHKHT2RJI \t [5, 7, 9, 11]\n",
      "A3Q65FY4OY8N7H \t [5, 7, 9, 11]\n",
      "A3SHFOPG16PGNX \t [5]\n",
      "A3VXSCZ7NP7ZI2 \t [5, 7]\n",
      "ACM15EOEJJZEF \t [5, 7, 9, 11]\n",
      "AEPREPIPGW0V9 \t [5, 7, 9, 11]\n",
      "AI6N547FNJDQO \t [5, 7, 9, 11]\n",
      "ASY5AZCZEM04L \t [5, 7, 9, 11]\n",
      "AUFY8NNDMV54S \t [5, 7, 9, 11]\n",
      "AWPPIW21DGL29 \t [5, 7, 9, 11]\n",
      "AX0Q8FN7BIFGI \t [5]\n",
      "A1XICLHOFPG4N6 \t [7]\n",
      "A2E3S2A03L6X6S \t [7, 9, 11]\n",
      "A2TXR9P9QQAGSH \t [7, 9]\n",
      "A3A88IJRYVYXLX \t [7, 11]\n",
      "AELGN8FR8967B \t [7]\n",
      "ANC3IKB57420H \t [7]\n",
      "A1QN1J2M7QR2D1 \t [9, 11]\n",
      "A1YTKIM7NU5MGV \t [9, 11]\n",
      "A21G010TCSMZZ8 \t [9]\n",
      "ATIGCUKIPNWG0 \t [9, 11]\n",
      "AVO11V7BCG5LM \t [9]\n",
      "A2NYXCY8TROJ8H \t [11]\n",
      "AHEJHFN0VV6E3 \t [11]\n",
      "AOYPWVN6SETEU \t [11]\n",
      "\n",
      " proportion of workers annotated more than one img:  0.632\n"
     ]
    }
   ],
   "source": [
    "d = collections.defaultdict(list)\n",
    "for snr in snr_list:\n",
    "    json_filepath = 'snrtest2.json'\n",
    "    img_filename = 'snr_' + str(snr) + '_1_numspots_50_spot_img.png'\n",
    "    qa = QuantiusAnnotation(json_filepath, img_filename)\n",
    "    anno_all = qa.df()\n",
    "    worker_list = util.get_workers(anno_all)\n",
    "    for worker in worker_list:\n",
    "        d[worker].append(snr)\n",
    "\n",
    "mult, total = 0, 0\n",
    "for key in d:\n",
    "    print(key, '\\t', d[key])\n",
    "    if len(d[key]) != 1:\n",
    "        mult += 1\n",
    "    total += 1\n",
    "print('\\n', 'proportion of workers annotated more than one img: ', round(float(mult)/total, 3))"
   ]
  },
  {
   "cell_type": "code",
   "execution_count": 13,
   "metadata": {},
   "outputs": [
    {
     "data": {
      "text/plain": [
       "Text(0.5,1,'Total number of unique workers = 38')"
      ]
     },
     "execution_count": 13,
     "metadata": {},
     "output_type": "execute_result"
    },
    {
     "data": {
      "image/png": "[encoded data removed]",
      "text/plain": [
       "<Figure size 432x288 with 1 Axes>"
      ]
     },
     "metadata": {},
     "output_type": "display_data"
    }
   ],
   "source": [
    "amounts = []\n",
    "for key in d:\n",
    "    amounts.append(len(d[key]))\n",
    "\n",
    "import matplotlib.pyplot as plt\n",
    "plt.hist(amounts, bins = np.arange(0.5, 5.5, 1))\n",
    "plt.xticks(np.arange(0, 5, 1))\n",
    "plt.ylabel('frequency (number of unique workers)')\n",
    "plt.xlabel('number of images annotated')\n",
    "plt.title('Total number of unique workers = ' + str(len(d)))"
   ]
  },
  {
   "cell_type": "code",
   "execution_count": null,
   "metadata": {},
   "outputs": [],
   "source": []
  }
 ],
 "metadata": {
  "kernelspec": {
   "display_name": "Python 3",
   "language": "python",
   "name": "python3"
  },
  "language_info": {
   "codemirror_mode": {
    "name": "ipython",
    "version": 3
   },
   "file_extension": ".py",
   "mimetype": "text/x-python",
   "name": "python",
   "nbconvert_exporter": "python",
   "pygments_lexer": "ipython3",
   "version": "3.6.5"
  }
 },
 "nbformat": 4,
 "nbformat_minor": 2
}

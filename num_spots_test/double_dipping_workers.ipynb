{
 "cells": [
  {
   "cell_type": "markdown",
   "metadata": {},
   "source": [
    "# Takeaway\n",
    "\n",
    "37.4 percent of all 99 workers who participated in this experiment annotated more than one image.\n",
    "\n",
    "Each image was submitted as a separate job."
   ]
  },
  {
   "cell_type": "code",
   "execution_count": 1,
   "metadata": {},
   "outputs": [],
   "source": [
    "import collections, math, os, sys\n",
    "sys.path.insert(0, '../../FISH-annotation/Annotation')\n",
    "from SpotAnnotationAnalysis import SpotAnnotationAnalysis\n",
    "from QuantiusAnnotation import QuantiusAnnotation\n",
    "import util\n",
    "import numpy as np\n",
    "import pandas as pd"
   ]
  },
  {
   "cell_type": "code",
   "execution_count": 2,
   "metadata": {},
   "outputs": [],
   "source": [
    "num_spots_list = np.arange(50, 250, 25)\n",
    "cwd = os.getcwd()"
   ]
  },
  {
   "cell_type": "code",
   "execution_count": 22,
   "metadata": {},
   "outputs": [
    {
     "name": "stdout",
     "output_type": "stream",
     "text": [
      "A11MLD3OK8BEX3 \t [50, 75]\n",
      "A1B5CZX73HH3XV \t [50]\n",
      "A1EOVMNNT8Q370 \t [50, 75, 225]\n",
      "A1FWX3Q9MWS5N5 \t [50, 100, 125, 200]\n",
      "A1GL98AM404FJW \t [50, 75]\n",
      "A224U5UHWVFYVV \t [50]\n",
      "A2DFNVS6LBVK7 \t [50]\n",
      "A2FZE7CARM54IG \t [50, 75, 100, 125, 150, 175, 225]\n",
      "A2KFULED9WP0I0 \t [50, 75, 100, 125, 150, 175, 200, 225]\n",
      "A2OA7QWMUKKYBS \t [50]\n",
      "A2SLKJXOB4S5JR \t [50, 75, 100, 125, 150, 175, 200, 225]\n",
      "A31BGOJ3K148YQ \t [50, 175]\n",
      "A331U863Q8H8DK \t [50, 75, 100, 125, 175, 200, 225]\n",
      "A33VLZ11ECF6R1 \t [50, 125]\n",
      "A3F5JMI9OM22JR \t [50, 75]\n",
      "A3FW9NWR6TJ4M9 \t [50]\n",
      "A3NMOHKHT2RJI \t [50, 75, 100, 125, 150, 175, 200, 225]\n",
      "A3SHFOPG16PGNX \t [50, 75, 100, 125, 150, 175]\n",
      "A3UOEPZXAGKCT3 \t [50]\n",
      "AHED54NOS25RY \t [50]\n",
      "AOYPWVN6SETEU \t [50, 75, 100, 125, 150, 175, 200, 225]\n",
      "AQ7WOGUUSO0XV \t [50]\n",
      "ASY5AZCZEM04L \t [50, 75, 100, 125, 150, 175, 200, 225]\n",
      "ATF6Y3W0J2CMY \t [50]\n",
      "AV2IJRMZ0SW2R \t [50]\n",
      "A15NVIBF6Y29HK \t [75, 200]\n",
      "A1E0M58XMDH9MO \t [75, 175]\n",
      "A1OFOVU6TCQ2K3 \t [75, 100, 125, 150]\n",
      "A3DN99QMIS1RJ5 \t [75]\n",
      "A3IRQEJDDTCO3K \t [75]\n",
      "AAJ121M08S5KD \t [75]\n",
      "AEPREPIPGW0V9 \t [75, 100, 125, 175]\n",
      "AIQZYWLXO3BKN \t [75]\n",
      "AL8PS43ENZIUV \t [75, 100]\n",
      "ASCTCB5BHNS43 \t [75]\n",
      "AT0ZDYO3A510P \t [75, 175]\n",
      "AUFY8NNDMV54S \t [75, 100, 125, 150, 200]\n",
      "AV4WTCP8XR8XN \t [75, 100, 225]\n",
      "A1TIO97G4K0ZFF \t [100]\n",
      "A1VFSNVFK883XU \t [100]\n",
      "A1XASN2FXR9YPC \t [100, 125]\n",
      "A39IM5JAY95JH3 \t [100]\n",
      "A3A4S3JQ9ARRFX \t [100, 150]\n",
      "A3GTV9OMQX7JI2 \t [100]\n",
      "A3IWJR78Z4VPJU \t [100, 125]\n",
      "A3T37C9ONAQUBN \t [100]\n",
      "A3U4XNJQN852QD \t [100]\n",
      "AI6N547FNJDQO \t [100, 125, 150]\n",
      "A1VHCBFEJ3VJLX \t [125, 150]\n",
      "A2IBB0Z36MMOI1 \t [125, 225]\n",
      "A2IL7TBN7Q99OK \t [125, 150, 175, 200, 225]\n",
      "A2TU89V68N6GPU \t [125, 150, 200]\n",
      "A325S5U1LIGPQ5 \t [125]\n",
      "A3K6YV1NXLQD7U \t [125]\n",
      "AJZM1Q5CX7ICP \t [125]\n",
      "AR1KEZWV1CCA8 \t [125]\n",
      "A1SJG5FHSE58UT \t [150]\n",
      "A1YCGICA8XCNBH \t [150]\n",
      "A2R6AVUGPF7SF \t [150]\n",
      "A32RQD67DA4V66 \t [150]\n",
      "A3DQUOVL81OWGH \t [150, 175]\n",
      "A3USZGUPBRTYCZ \t [150]\n",
      "A9XLTE7LXC25 \t [150]\n",
      "ACQXLG547VC4D \t [150]\n",
      "AF1HT6VL272QZ \t [150, 175]\n",
      "ARV8OMKYJWUS8 \t [150]\n",
      "A19YL8DD8D8027 \t [175]\n",
      "A1PUEQSG4HGJRN \t [175]\n",
      "A1X0Y2UK7286T1 \t [175]\n",
      "A28C2TMH614ZO9 \t [175]\n",
      "A2HQFUNGH1YK99 \t [175]\n",
      "A3FXIDHIA5PV2J \t [175]\n",
      "A3VXSCZ7NP7ZI2 \t [175, 225]\n",
      "AEQ4KTLU6DT7Y \t [175]\n",
      "AKLHZZHA4QLLB \t [175, 225]\n",
      "A1X1NOAV68UGWS \t [200]\n",
      "A27KTIX29MYGVU \t [200]\n",
      "A28UR9U2VM3B7G \t [200]\n",
      "A2ERBSD0VT162I \t [200]\n",
      "A3EVUVB4IKHPU0 \t [200, 225]\n",
      "A3F0IB24N4G54T \t [200]\n",
      "A3MM0JQ4T26OQY \t [200]\n",
      "A3U3UEJ9G2JHVE \t [200]\n",
      "A6XXOQB7GDFKK \t [200]\n",
      "ADJ2R4LULHDXB \t [200]\n",
      "AEU52UBWCIHI4 \t [200]\n",
      "AHAD6ICOVACDQ \t [200, 225]\n",
      "AHARI185KKOE3 \t [200]\n",
      "ARDQYKIK0UXJG \t [200]\n",
      "A1P8ACGQDEFAML \t [225]\n",
      "A21ROHMMMUJNXN \t [225]\n",
      "A2BKRXTTEE6F1K \t [225]\n",
      "A2G6L3U4W1GDTI \t [225]\n",
      "A2KH3JXXADD492 \t [225]\n",
      "A2KMM35J9Y9LJB \t [225]\n",
      "A2RGTW35N7UDSU \t [225]\n",
      "A34QVV6QUHYMST \t [225]\n",
      "AMHFGPS6RIQXB \t [225]\n",
      "ATCTXYKA2Y1CD \t [225]\n",
      "\n",
      " proportion of workers annotated more than one img:  0.374\n"
     ]
    }
   ],
   "source": [
    "d = collections.defaultdict(list)\n",
    "for num_spots in num_spots_list:\n",
    "    json_filepath = cwd+ '/annotations/' + 'snr10_' + str(num_spots) + '.json'\n",
    "    img_filename = 'snr_10_numspots_' + str(num_spots) + '_spot_img.png'\n",
    "    qa = QuantiusAnnotation(json_filepath, img_filename)\n",
    "    anno_all = qa.df()\n",
    "    worker_list = util.get_workers(anno_all)\n",
    "    for worker in worker_list:\n",
    "        d[worker].append(num_spots)\n",
    "\n",
    "mult, total = 0, 0\n",
    "for key in d:\n",
    "    print(key, '\\t', d[key])\n",
    "    if len(d[key]) != 1:\n",
    "        mult += 1\n",
    "    total += 1\n",
    "print('\\n', 'proportion of workers annotated more than one img: ', round(float(mult)/total, 3))"
   ]
  },
  {
   "cell_type": "code",
   "execution_count": 30,
   "metadata": {},
   "outputs": [
    {
     "data": {
      "text/plain": [
       "Text(0.5,1,'Total number of unique workers = 99')"
      ]
     },
     "execution_count": 30,
     "metadata": {},
     "output_type": "execute_result"
    },
    {
     "data": {
      "image/png": "[encoded data removed]",
      "text/plain": [
       "<Figure size 432x288 with 1 Axes>"
      ]
     },
     "metadata": {},
     "output_type": "display_data"
    }
   ],
   "source": [
    "amounts = []\n",
    "for key in d:\n",
    "    amounts.append(len(d[key]))\n",
    "\n",
    "import matplotlib.pyplot as plt\n",
    "plt.hist(amounts, bins = np.arange(0.5, 9.5, 1))\n",
    "plt.ylabel('frequency (number of unique workers)')\n",
    "plt.xlabel('number of images annotated')\n",
    "plt.title('Total number of unique workers = ' + str(len(d)))"
   ]
  },
  {
   "cell_type": "code",
   "execution_count": null,
   "metadata": {},
   "outputs": [],
   "source": []
  }
 ],
 "metadata": {
  "kernelspec": {
   "display_name": "Python 3",
   "language": "python",
   "name": "python3"
  },
  "language_info": {
   "codemirror_mode": {
    "name": "ipython",
    "version": 3
   },
   "file_extension": ".py",
   "mimetype": "text/x-python",
   "name": "python",
   "nbconvert_exporter": "python",
   "pygments_lexer": "ipython3",
   "version": "3.6.5"
  }
 },
 "nbformat": 4,
 "nbformat_minor": 2
}
